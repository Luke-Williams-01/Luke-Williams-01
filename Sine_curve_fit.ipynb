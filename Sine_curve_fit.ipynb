{
  "nbformat": 4,
  "nbformat_minor": 0,
  "metadata": {
    "colab": {
      "provenance": [],
      "authorship_tag": "ABX9TyNqoZSgtHhwEjLlJvX+riEn",
      "include_colab_link": true
    },
    "kernelspec": {
      "name": "python3",
      "display_name": "Python 3"
    },
    "language_info": {
      "name": "python"
    }
  },
  "cells": [
    {
      "cell_type": "markdown",
      "metadata": {
        "id": "view-in-github",
        "colab_type": "text"
      },
      "source": [
        "<a href=\"https://colab.research.google.com/github/Luke-Williams-01/Luke-Williams-01/blob/main/Sine_curve_fit.ipynb\" target=\"_parent\"><img src=\"https://colab.research.google.com/assets/colab-badge.svg\" alt=\"Open In Colab\"/></a>"
      ]
    },
    {
      "cell_type": "code",
      "execution_count": null,
      "metadata": {
        "id": "-xWSXIlizH9-"
      },
      "outputs": [],
      "source": [
        "import numpy as np\n",
        "from scipy.optimize import curve_fit\n",
        "import pylab as plt\n",
        "\n",
        "N = 1000 # number of data points\n",
        "t = np.linspace(0, 4*np.pi, N)\n",
        "data = 3.0*np.sin(t+0.001) + 0.5 + np.random.randn(N) # create artificial data with noise\n",
        "\n",
        "guess_freq = 1\n",
        "guess_amplitude = 3*np.std(data)/(2**0.5)\n",
        "guess_phase = 0\n",
        "guess_offset = np.mean(data)\n",
        "\n",
        "p0=[guess_freq, guess_amplitude,\n",
        "    guess_phase, guess_offset]\n",
        "\n",
        "# create the function we want to fit\n",
        "def my_sin(x, freq, amplitude, phase, offset):\n",
        "    return np.sin(x * freq + phase) * amplitude + offset\n",
        "\n",
        "# now do the fit\n",
        "fit = curve_fit(my_sin, t, data, p0=p0)\n",
        "\n",
        "# we'll use this to plot our first estimate. This might already be good enough for you\n",
        "data_first_guess = my_sin(t, *p0)\n",
        "\n",
        "# recreate the fitted curve using the optimized parameters\n",
        "data_fit = my_sin(t, *fit[0])\n",
        "\n",
        "plt.plot(data, '.')\n",
        "plt.plot(data_fit, label='after fitting')\n",
        "plt.plot(data_first_guess, label='first guess')\n",
        "plt.legend()\n",
        "plt.show()"
      ]
    }
  ]
}