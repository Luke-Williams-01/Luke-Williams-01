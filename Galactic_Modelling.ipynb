{
  "nbformat": 4,
  "nbformat_minor": 0,
  "metadata": {
    "colab": {
      "name": "Galactic Modelling.ipynb",
      "provenance": [],
      "authorship_tag": "ABX9TyO/qeIWayvhzaND1gBaEKYj",
      "include_colab_link": true
    },
    "kernelspec": {
      "name": "python3",
      "display_name": "Python 3"
    },
    "language_info": {
      "name": "python"
    }
  },
  "cells": [
    {
      "cell_type": "markdown",
      "metadata": {
        "id": "view-in-github",
        "colab_type": "text"
      },
      "source": [
        "<a href=\"https://colab.research.google.com/github/Luke-Williams-01/Luke-Williams-01/blob/main/Galactic_Modelling.ipynb\" target=\"_parent\"><img src=\"https://colab.research.google.com/assets/colab-badge.svg\" alt=\"Open In Colab\"/></a>"
      ]
    },
    {
      "cell_type": "code",
      "execution_count": 8,
      "metadata": {
        "id": "P9nscjoSszjf"
      },
      "outputs": [],
      "source": [
        "# Imports Impound Lot\n",
        "import numpy as np\n",
        "import matplotlib.pyplot as plt\n",
        "from scipy import integrate\n",
        "from scipy.optimize import curve_fit"
      ]
    },
    {
      "cell_type": "code",
      "source": [
        "# Constants Casino\n",
        "Mtotal = 1E11\n",
        "Ttotal = 12E9\n",
        "Sft = 1E9\n",
        "TauSun = 10E9\n",
        "\n",
        "# Constant star formation rate\n",
        "SFR = Mtotal/Sft\n",
        "\n",
        "# Time elapsed array\n",
        "T = np.linspace(0, Ttotal, 12000)\n",
        "Tl = len(T)\n",
        "\n",
        "# Mass range array\n",
        "M = np.linspace(0.5, 25, 100)\n",
        "dM = M[1] - M[0]\n",
        "Ml = len(M)\n",
        "\n",
        "# Time of formation array\n",
        "Tform = np.arange(0, Sft, 1E7)\n",
        "dT = Tform[1] - Tform[0]\n",
        "Tfl = len(Tform)"
      ],
      "metadata": {
        "id": "fcNS07ohuI2Y"
      },
      "execution_count": 9,
      "outputs": []
    },
    {
      "cell_type": "code",
      "source": [
        "# Functions Fort\n",
        "\n",
        "# IMF = E0 * M**-2.35 * M\n",
        "def Mtot(M):\n",
        "  return (M**(-1.35))\n",
        "\n",
        "# Number of stars = E0 * M**-2.35 * dM\n",
        "def Nstar(M):\n",
        "    return (M**(-2.35)) * E0 * dM\n",
        "\n",
        "# Main sequence lifetime = TauSun * M**-2.5\n",
        "def Starlife(M):\n",
        "  return TauSun * (M**(-2.5))\n",
        "\n",
        "# Luminosity = M**a\n",
        "def Lumin(M, a):\n",
        "  return (M**a)"
      ],
      "metadata": {
        "id": "6AjXWOvFR8fI"
      },
      "execution_count": 10,
      "outputs": []
    },
    {
      "cell_type": "code",
      "source": [
        "# Finding how the number of stars evolves over time\n",
        "\n",
        "# Finding E0 = Mtotal/Mtot\n",
        "Int = Mtot(M)*dM\n",
        "E0 = (SFR * dT)/np.sum(Int)\n",
        "print(E0)\n",
        "\n",
        "# Finding Number of stars per Mass interval\n",
        "Stnumb = np.zeros(Ml)\n",
        "for i in np.arange(0, Ml, 1):\n",
        "  Stnumb[i] = Nstar(M[i])\n",
        "\n",
        "# Number of stars per mass range, for any given time\n",
        "# i = Time\n",
        "# j = Mass\n",
        "\n",
        "\n",
        "Numb = np.zeros((Tl, Ml))\n",
        "MassT = np.zeros(Tl)\n",
        "\n",
        "for i in range(Tl):\n",
        "  if (T[i] >= 1E9):\n",
        "    Stnumb = 0\n",
        "  else:\n",
        "    Stnumb = 1\n",
        "  for j in range(Ml):\n",
        "    if (T[i] >= Starlife(M[j])):\n",
        "      if Numb[i-1][j] >= 0:\n",
        "        Nnotstar = Nstar(M[j])\n",
        "      else:\n",
        "        Nnotstar = 0\n",
        "    else:\n",
        "      Nnotstar = 0\n",
        "    Numb[i][j] = Numb[i-1][j] + Nstar(M[j]) * Stnumb - Nnotstar\n",
        "  MassT[i] = np.sum(Numb[i] * M)\n",
        "\n",
        "# Number of star over time\n",
        "plt.plot(T,MassT)\n",
        "\n",
        "# Mass changes over time\n"
      ],
      "metadata": {
        "colab": {
          "base_uri": "https://localhost:8080/",
          "height": 324
        },
        "id": "W28-zndyQSYW",
        "outputId": "8c87d990-36bd-4086-98be-dca4b065e8c0"
      },
      "execution_count": 11,
      "outputs": [
        {
          "output_type": "stream",
          "name": "stdout",
          "text": [
            "326088255.5343859\n"
          ]
        },
        {
          "output_type": "execute_result",
          "data": {
            "text/plain": [
              "[<matplotlib.lines.Line2D at 0x7fa52f30db10>]"
            ]
          },
          "metadata": {},
          "execution_count": 11
        },
        {
          "output_type": "display_data",
          "data": {
            "text/plain": [
              "<Figure size 432x288 with 1 Axes>"
            ],
            "image/png": "[encoded data removed]"
          },
          "metadata": {
            "needs_background": "light"
          }
        }
      ]
    },
    {
      "cell_type": "code",
      "source": [
        "# Finding the Luminosity evolution of the stars\n",
        "Lumb = np.zeros((Tl, Ml))\n",
        "LumT = np.zeros(Tl)\n",
        "\n",
        "for i in range(Tl):\n",
        "  for j in range(Ml):\n",
        "    if (M[j] >= 1):\n",
        "      a = 3.9\n",
        "    else:\n",
        "      a = 5\n",
        "    if (T[i] >= Starlife(M[j])):\n",
        "      if Numb[i-1][j] >= 0:\n",
        "        Nnotstar = Nstar(M[j])\n",
        "      else:\n",
        "        Nnotstar = 0\n",
        "    else:\n",
        "      Nnotstar = 0\n",
        "    Lumb[i][j] = Numb[i][j] * Lumin(M[j],a)\n",
        "  LumT[i] = np.sum(Lumb[i] * M)\n",
        "\n",
        "plt.plot(T,LumT)\n",
        "print(LumT)"
      ],
      "metadata": {
        "id": "mx8LX6Dg5EgP",
        "colab": {
          "base_uri": "https://localhost:8080/",
          "height": 324
        },
        "outputId": "51aeb685-2a1b-421f-e89f-aa9875d21ec7"
      },
      "execution_count": 12,
      "outputs": [
        {
          "output_type": "stream",
          "name": "stdout",
          "text": [
            "[ 8.57805706e+12  1.71561141e+13  2.57341712e+13 ... -6.01833073e+12\n",
            " -6.01833073e+12 -6.01833073e+12]\n"
          ]
        },
        {
          "output_type": "display_data",
          "data": {
            "text/plain": [
              "<Figure size 432x288 with 1 Axes>"
            ],
            "image/png": "[encoded data removed]"
          },
          "metadata": {
            "needs_background": "light"
          }
        }
      ]
    },
    {
      "cell_type": "code",
      "source": [
        "# V magnitude and colour graphs\n",
        "\n",
        "# Creating arrays for the V magnitude/BV colour data\n",
        "MagMass = np.array([0.8, 1, 1.25, 2, 3, 5, 9, 15, 25])\n",
        "Vmag = np.array([6.5, 4.93, 4.2, 1, -0.5, -1.4, -3.7, -4.3, -5.2])\n",
        "BVmag = np.array([1.02, 0.69, 0.59, 0.1, -0.12, -0.18, -0.3, -0.32, -0.32])\n",
        "\n",
        "\n",
        "plt.plot(MagMass, Vmag)\n",
        "\n",
        "# Curve fit this to find the colour\n",
        "def Vmagfit(x, *p):\n",
        "  return p[0] * np.exp(x**-p[1]) + p[2]\n",
        "\n",
        "Vmag_guess = np.array([8.435,0.279,-17.877])\n",
        "Vmagopt, Vmagcov = curve_fit(Vmagfit, MagMass, Vmag, Vmag_guess)\n",
        "\n",
        "# Plotting Curve-fitted mass against V magnitude graph\n",
        "\n",
        "plt.plot(MagMass, Vmag)\n",
        "plt.plot(M, Vmagfit(M, *Vmagopt))\n",
        "\n",
        "print(Vmagopt[0], Vmagopt[1], Vmagopt[2])"
      ],
      "metadata": {
        "id": "HU6b5x0oSg6r",
        "colab": {
          "base_uri": "https://localhost:8080/",
          "height": 282
        },
        "outputId": "3728552c-a603-4fa6-8a34-5d0c0b02f6f3"
      },
      "execution_count": 13,
      "outputs": [
        {
          "output_type": "stream",
          "name": "stdout",
          "text": [
            "8.434922553440567 0.2792188760096659 -17.87669803804364\n"
          ]
        },
        {
          "output_type": "display_data",
          "data": {
            "text/plain": [
              "<Figure size 432x288 with 1 Axes>"
            ],
            "image/png": "[encoded data removed]"
          },
          "metadata": {
            "needs_background": "light"
          }
        }
      ]
    },
    {
      "cell_type": "code",
      "source": [
        "Bmag = BVmag + Vmag\n",
        "\n",
        "def BVmagfit(x, *p):\n",
        "  return p[0] * np.exp(x**-p[1]) + p[2]\n",
        "\n",
        "BVmag_guess = np.array([1,1,1])\n",
        "Vmagopt, Vmagcov = curve_fit(Vmagfit, MagMass, Vmag, Vmag_guess)"
      ],
      "metadata": {
        "id": "-fZbt00o5XDX",
        "outputId": "b70ecd21-f6fb-4cd0-9f9b-a6aab8f18861",
        "colab": {
          "base_uri": "https://localhost:8080/"
        }
      },
      "execution_count": 7,
      "outputs": [
        {
          "output_type": "execute_result",
          "data": {
            "text/plain": [
              "<function matplotlib.pyplot.plot>"
            ]
          },
          "metadata": {},
          "execution_count": 7
        }
      ]
    }
  ]
}