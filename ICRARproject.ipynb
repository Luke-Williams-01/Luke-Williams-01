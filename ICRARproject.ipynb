{
  "nbformat": 4,
  "nbformat_minor": 0,
  "metadata": {
    "colab": {
      "name": "ICRARproject.ipynb",
      "provenance": [],
      "collapsed_sections": [],
      "authorship_tag": "ABX9TyMLsGg4WMLlZuOE7W7nMnI+",
      "include_colab_link": true
    },
    "kernelspec": {
      "name": "python3",
      "display_name": "Python 3"
    },
    "language_info": {
      "name": "python"
    }
  },
  "cells": [
    {
      "cell_type": "markdown",
      "metadata": {
        "id": "view-in-github",
        "colab_type": "text"
      },
      "source": [
        "<a href=\"https://colab.research.google.com/github/Luke-Williams-01/Luke-Williams-01/blob/main/ICRARproject.ipynb\" target=\"_parent\"><img src=\"https://colab.research.google.com/assets/colab-badge.svg\" alt=\"Open In Colab\"/></a>"
      ]
    },
    {
      "cell_type": "code",
      "execution_count": 1,
      "metadata": {
        "id": "4usyX8lOEtdY"
      },
      "outputs": [],
      "source": [
        "# Imports\n",
        "import numpy as np\n",
        "import matplotlib.pyplot as plt\n",
        "from scipy.optimize import curve_fit\n",
        "from scipy.integrate import simps\n",
        "from scipy import stats"
      ]
    },
    {
      "cell_type": "code",
      "source": [
        "! wget -q https://xgass.icrar.org/assets/data/xGASS_representative_sample.ascii"
      ],
      "metadata": {
        "id": "RPee8AYAM-Qb"
      },
      "execution_count": 2,
      "outputs": []
    },
    {
      "cell_type": "code",
      "source": [
        "# Loading the xGASS dataset with specific columns selected\n",
        "xGASStb= np.loadtxt('xGASS_representative_sample.ascii', dtype = 'float', usecols=[8,9,10,16,18,1,23,24,26,27,31,32], unpack= 'true')\n",
        "# Loading the specfic columns with flags as separate arrays\n",
        "HIsrc, HI_FLAG = np.loadtxt('xGASS_representative_sample.ascii', dtype = 'float', usecols=[26,27], unpack= 'true')\n",
        "# Removing data with an index that falls into the conditions HI_FLAG >1 or HI_FLAG <90\n",
        "xGASSRd = np.delete(xGASStb, np.where((HI_FLAG >1) & (HI_FLAG < 90)), axis = 1)\n",
        "xGASST = xGASSRd.T\n",
        "\n",
        "# Assigning the 1d arrays to the correct column of data\n",
        "zSDSS = xGASST[:,0]\n",
        "Dlum = xGASST[:,1]\n",
        "lgMstar = xGASST[:,2]\n",
        "petro90r = xGASST[:,3]\n",
        "lgmust = xGASST[:,4]\n",
        "lgSFR_tot_median = xGASST[:,5]\n",
        "SFR_best = xGASST[:,6]\n",
        "SFRerr_best = xGASST[:,7]\n",
        "HIsrc = xGASST[:,8]\n",
        "HI_FLAG = xGASST[:,9]\n",
        "lgMHI = xGASST[:,10]\n",
        "lgGF = xGASST[:,11]"
      ],
      "metadata": {
        "id": "j_qiHFr8Mbuc"
      },
      "execution_count": 3,
      "outputs": []
    },
    {
      "cell_type": "code",
      "source": [
        "# Testing to ensure the correct arrays are filled with the correct values\n",
        "print(zSDSS)\n",
        "print(Dlum)\n",
        "print(lgMstar)\n",
        "print(petro90r)\n",
        "print(lgmust)\n",
        "print(lgSFR_tot_median)\n",
        "print(SFR_best)\n",
        "print(SFRerr_best)\n",
        "print(HIsrc)\n",
        "print(HI_FLAG)\n",
        "print(lgMHI)\n",
        "print(lgGF)"
      ],
      "metadata": {
        "colab": {
          "base_uri": "https://localhost:8080/"
        },
        "id": "Y-E9UnHapbP0",
        "outputId": "60f79287-1814-4c7e-edbf-5f3bccda8bd7"
      },
      "execution_count": 4,
      "outputs": [
        {
          "output_type": "stream",
          "name": "stdout",
          "text": [
            "[0.03618 0.03573 0.04201 ... 0.04656 0.02704 0.03797]\n",
            "[159.2 157.2 185.7 ... 206.5 118.2 167.3]\n",
            "[10.709 10.539 10.625 ... 10.946 10.334 10.25 ]\n",
            "[10.51  9.96  7.01 ... 13.09  6.66 14.09]\n",
            "[9.18 9.05 9.32 ... 9.08 9.37 8.12]\n",
            "[101866. 101874. 101876. ... 332851. 332201. 332883.]\n",
            "[0.82985944 0.03869768 0.0620131  ... 2.902701   0.03280856 0.93741816]\n",
            "[0.         0.07982571 0.15414698 ... 0.42542186 0.         0.28900966]\n",
            "[3. 4. 3. ... 4. 4. 3.]\n",
            "[ 1. 99.  1. ... 99. 99.  1.]\n",
            "[9.603 8.74  9.244 ... 9.183 8.664 9.517]\n",
            "[-1.106 -1.799 -1.381 ... -1.763 -1.67  -0.733]\n"
          ]
        }
      ]
    },
    {
      "cell_type": "code",
      "source": [
        "# Finding all the rows in the xGASS data with HIsrc < 4, if HIsrc = 4, no detection of HI\n",
        "HIndet = np.where(HIsrc >= 4)[0]\n",
        "\n",
        "lgMstar1 = np.delete(lgMstar, (HIndet))\n",
        "lgmust1 = np.delete(lgmust, (HIndet))\n",
        "lgSFR_tot_median1 = np.delete(lgSFR_tot_median, (HIndet))\n",
        "SFR_best1 = np.delete(SFR_best, (HIndet))\n",
        "SFRerr_best1 = np.delete(SFRerr_best, (HIndet))\n",
        "HIsrc1 = np.delete(HIsrc, (HIndet))\n",
        "HI_FLAG1 = np.delete(HI_FLAG, (HIndet))\n",
        "lgMHI1 = np.delete(lgMHI, (HIndet))\n",
        "lgGF1 = np.delete(lgGF, (HIndet))\n",
        "\n",
        "HIdet = np.where(HIsrc < 4)[0]\n",
        "\n",
        "lgMstar2 = np.delete(lgMstar, (HIdet))\n",
        "lgmust2 = np.delete(lgmust, (HIdet))\n",
        "lgSFR_tot_median2 = np.delete(lgSFR_tot_median, (HIdet))\n",
        "SFR_best2 = np.delete(SFR_best, (HIdet))\n",
        "SFRerr_best2 = np.delete(SFRerr_best, (HIdet))\n",
        "HIsrc2 = np.delete(HIsrc, (HIdet))\n",
        "HI_FLAG2 = np.delete(HI_FLAG, (HIdet))\n",
        "lgMHI2 = np.delete(lgMHI, (HIdet))\n",
        "lgGF2 = np.delete(lgGF, (HIdet))\n",
        "\n",
        "print(len(lgMstar))\n",
        "print(len(lgMstar1))\n",
        "print(len(lgMstar2))"
      ],
      "metadata": {
        "colab": {
          "base_uri": "https://localhost:8080/"
        },
        "id": "w6lOGTPFx8of",
        "outputId": "38d1af34-7961-4bfe-c163-f385e29e12cf"
      },
      "execution_count": 5,
      "outputs": [
        {
          "output_type": "stream",
          "name": "stdout",
          "text": [
            "1066\n",
            "691\n",
            "375\n"
          ]
        }
      ]
    },
    {
      "cell_type": "code",
      "source": [
        "# Finding the running median of the HI detections\n",
        "# Array for the bin start, stop and range\n",
        "bins = np.linspace(9, 12, 100)\n",
        "\n",
        "# Array of zeroes to store the median of each bin\n",
        "mHI = np.zeros(100)\n",
        "median1 = np.zeros(100)\n",
        "\n",
        "# Using a for loop to iterate over the median values for each of the bins\n",
        "for i in range(len(bins) -1):\n",
        "  median1[i] = np.median(lgMHI1[np.where((lgMHI1 >= bins[i]) & (lgMHI1 <= bins[i+1]))])\n",
        "  mHI[i] = median1[i]\n",
        "print(mHI)\n",
        "\n",
        "# Finding the running median of the Mstar\n",
        "# Array for the bin start, stop and range\n",
        "bins = np.linspace(min(lgMstar1), max(lgMstar1), 50)\n",
        "\n",
        "# Array of zeroes to store the median of each bin\n",
        "mstar = np.zeros(100)\n",
        "median2 = np.zeros(100)\n",
        "\n",
        "# Using a for loop to iterate over the median values for each of the bins\n",
        "for i in range(len(bins) -1):\n",
        "  median2[i] = np.median(lgMstar1[np.where((lgMstar1 >= bins[i]) & (lgMstar1 <= bins[i+1]))])\n",
        "  mstar[i] = median2[i]\n",
        "print(mstar)"
      ],
      "metadata": {
        "id": "bGBqPKCc37NW",
        "colab": {
          "base_uri": "https://localhost:8080/"
        },
        "outputId": "0d9d7fdd-132b-421d-c4df-da1f1ffa5420"
      },
      "execution_count": 6,
      "outputs": [
        {
          "output_type": "stream",
          "name": "stdout",
          "text": [
            "[ 9.01    9.0425  9.0715  9.106   9.13    9.166   9.205   9.2265  9.2565\n",
            "  9.296   9.32    9.3505  9.3805  9.406   9.438   9.476   9.493   9.528\n",
            "  9.561   9.59    9.62    9.65    9.6795  9.71    9.74    9.77    9.8\n",
            "  9.83    9.86    9.89    9.93    9.96    9.98   10.0215 10.05   10.08\n",
            " 10.11   10.15   10.18   10.2    10.22   10.2565 10.2915 10.323  10.36\n",
            " 10.38   10.41   10.44   10.46       nan     nan     nan     nan     nan\n",
            "     nan     nan     nan     nan     nan     nan     nan     nan     nan\n",
            "     nan     nan     nan     nan     nan     nan     nan     nan     nan\n",
            "     nan     nan     nan     nan     nan     nan     nan     nan     nan\n",
            "     nan     nan     nan     nan     nan     nan     nan     nan     nan\n",
            "     nan     nan     nan     nan     nan     nan     nan     nan     nan\n",
            "  0.    ]\n",
            "[ 9.0159345  9.084109   9.123916   9.170758   9.218797   9.265146\n",
            "  9.3136105  9.3718425  9.416057   9.455603   9.513809   9.556159\n",
            "  9.623346   9.665902   9.705247   9.75613    9.810083   9.847345\n",
            "  9.9158215  9.9554315 10.012545  10.058     10.104     10.1584405\n",
            " 10.194377  10.2505    10.2935    10.349     10.385     10.45\n",
            " 10.491     10.55      10.592     10.6405    10.6845    10.734\n",
            " 10.796     10.8355    10.8865    10.94      10.994     11.037\n",
            " 11.078     11.133     11.169     11.212     11.272     11.3325\n",
            " 11.398      0.         0.         0.         0.         0.\n",
            "  0.         0.         0.         0.         0.         0.\n",
            "  0.         0.         0.         0.         0.         0.\n",
            "  0.         0.         0.         0.         0.         0.\n",
            "  0.         0.         0.         0.         0.         0.\n",
            "  0.         0.         0.         0.         0.         0.\n",
            "  0.         0.         0.         0.         0.         0.\n",
            "  0.         0.         0.         0.         0.         0.\n",
            "  0.         0.         0.         0.       ]\n"
          ]
        },
        {
          "output_type": "stream",
          "name": "stderr",
          "text": [
            "/usr/local/lib/python3.7/dist-packages/numpy/core/fromnumeric.py:3441: RuntimeWarning: Mean of empty slice.\n",
            "  out=out, **kwargs)\n",
            "/usr/local/lib/python3.7/dist-packages/numpy/core/_methods.py:189: RuntimeWarning: invalid value encountered in double_scalars\n",
            "  ret = ret.dtype.type(ret / rcount)\n"
          ]
        }
      ]
    },
    {
      "cell_type": "code",
      "source": [
        "# Global HI mass and HI mass contained in the optical regions\n",
        "plt.figure(figsize = (15,10))\n",
        "\n",
        "plt.subplot(221)\n",
        "plt.plot(lgMstar1, lgMHI1, 'k.', label= 'HI detection')\n",
        "plt.plot(lgMstar2, lgMHI2, 'r.', label= 'No HI detections')\n",
        "#plt.plot(bins, mHI, 'b-', label = 'Median of HI detections')\n",
        "plt.xlabel('log(M*) [M$_{solar}$]')\n",
        "plt.ylabel('log(M$_{HI}$)')\n",
        "plt.legend(loc='upper left')\n",
        "\n",
        "plt.subplot(222)\n",
        "plt.plot(np.log10(SFR_best1), lgMHI1, 'k.', label= 'HI detection')\n",
        "plt.plot(np.log10(SFR_best2), lgMHI2, 'r.', label= 'No HI detection')\n",
        "plt.xlabel('log(SFR) [M$_{solar}$ yr$^{-1}$]')\n",
        "plt.ylabel('log(M$_{HI}$)')\n",
        "'''\n",
        "plt.subplot(223)\n",
        "plt.plot(,, 'k.', label= 'HI detection')\n",
        "plt.plot(,, 'r.', label= 'No HI detection')\n",
        "plt.xlabel('log(M*) [M$_{solar}$]')\n",
        "plt.ylabel('log(M$_{HI}$)')\n",
        "\n",
        "plt.subplot(224)\n",
        "plt.plot(,, 'k.', label= 'HI detection')\n",
        "plt.plot(,, 'r.', label= 'No HI detection')\n",
        "plt.xlabel('log(SFR) [M$_{solar}$ yr$^{-1}$]')\n",
        "plt.ylabel('log(M$_{HI}$)')\n",
        "'''"
      ],
      "metadata": {
        "colab": {
          "base_uri": "https://localhost:8080/",
          "height": 403
        },
        "id": "vShMOqzDAZV4",
        "outputId": "84c01ee7-bb12-4688-ec1e-df51e0fae901"
      },
      "execution_count": 7,
      "outputs": [
        {
          "output_type": "stream",
          "name": "stderr",
          "text": [
            "/usr/local/lib/python3.7/dist-packages/ipykernel_launcher.py:13: RuntimeWarning: invalid value encountered in log10\n",
            "  del sys.path[0]\n",
            "/usr/local/lib/python3.7/dist-packages/ipykernel_launcher.py:14: RuntimeWarning: invalid value encountered in log10\n",
            "  \n"
          ]
        },
        {
          "output_type": "execute_result",
          "data": {
            "text/plain": [
              "\"\\nplt.subplot(223)\\nplt.plot(,, 'k.', label= 'HI detection')\\nplt.plot(,, 'r.', label= 'No HI detection')\\nplt.xlabel('log(M*) [M$_{solar}$]')\\nplt.ylabel('log(M$_{HI}$)')\\n\\nplt.subplot(224)\\nplt.plot(,, 'k.', label= 'HI detection')\\nplt.plot(,, 'r.', label= 'No HI detection')\\nplt.xlabel('log(SFR) [M$_{solar}$ yr$^{-1}$]')\\nplt.ylabel('log(M$_{HI}$)')\\n\""
            ],
            "application/vnd.google.colaboratory.intrinsic+json": {
              "type": "string"
            }
          },
          "metadata": {},
          "execution_count": 7
        },
        {
          "output_type": "display_data",
          "data": {
            "text/plain": [
              "<Figure size 1080x720 with 2 Axes>"
            ],
            "image/png": "[encoded data removed]"
          },
          "metadata": {
            "needs_background": "light"
          }
        }
      ]
    },
    {
      "cell_type": "code",
      "source": [
        "# DHI- MHI relation\n",
        "lgDHI = 0.506*lgMHI - 3.293\n",
        "MHI = 10**lgMHI\n",
        "DHI = 10**lgDHI\n",
        "RHI = 0.5*DHI\n",
        "\n",
        "# Plotting the R(HI)-M(HI) relation\n",
        "plt.figure()\n",
        "plt.plot(MHI, RHI, 'k.')\n",
        "plt.ylabel('R$_{HI}$ [kpc]')\n",
        "plt.xlabel('M$_{HI}$ [M$_{solar}$]')\n",
        "\n",
        "'''\n",
        "# Fitting a line to the RHI-MHI relation\n",
        "x = MHI\n",
        "p = np.linspace(min(MHI), max(MHI), 1000)\n",
        "y = RHI\n",
        "def linfun(x, m, c): \n",
        "    return m*x + c\n",
        "p0 = np.array([])\n",
        "popt, pcov = curve_fit(linfun, x, y)\n",
        "m= popt[0]\n",
        "c= popt[1]\n",
        "\n",
        "# plot fit\n",
        "plt.plot(p, linfun(p, *popt), 'r')\n",
        "'''"
      ],
      "metadata": {
        "colab": {
          "base_uri": "https://localhost:8080/",
          "height": 353
        },
        "id": "NMdGNNYMJ7QL",
        "outputId": "cfa69c0d-90ef-4852-abbc-ca7537bba634"
      },
      "execution_count": 8,
      "outputs": [
        {
          "output_type": "execute_result",
          "data": {
            "text/plain": [
              "\"\\n# Fitting a line to the RHI-MHI relation\\nx = MHI\\np = np.linspace(min(MHI), max(MHI), 1000)\\ny = RHI\\ndef linfun(x, m, c): \\n    return m*x + c\\np0 = np.array([])\\npopt, pcov = curve_fit(linfun, x, y)\\nm= popt[0]\\nc= popt[1]\\n\\n# plot fit\\nplt.plot(p, linfun(p, *popt), 'r')\\n\""
            ],
            "application/vnd.google.colaboratory.intrinsic+json": {
              "type": "string"
            }
          },
          "metadata": {},
          "execution_count": 8
        },
        {
          "output_type": "display_data",
          "data": {
            "text/plain": [
              "<Figure size 432x288 with 1 Axes>"
            ],
            "image/png": "[encoded data removed]"
          },
          "metadata": {
            "needs_background": "light"
          }
        }
      ]
    },
    {
      "cell_type": "code",
      "source": [
        "# Need to create a median HI profile of galaxies- (data from Wang et al 2020)\n",
        "\n",
        "rrHI=np.array([0.1,0.2,0.3,0.4,0.5,0.6,0.7,0.8,0.9,1.0,1.1,1.2,1.3])\n",
        "SigHI=np.array([5.50455,5.82575,5.47971,5.21774,4.42226,3.56687,2.69376,2.04850,1.45364,1.00281,0.643707,0.368113,0.2])\n",
        "lgSigHI = np.log10(SigHI)\n",
        "\n",
        "\n",
        "# Plotting the median HI profile using Wang 2020 data\n",
        "plt.figure(figsize = (15,10))\n",
        "plt.subplot(221)\n",
        "plt.plot(rrHI, lgSigHI, 'k.-')\n",
        "plt.xlabel('r/R$_{HI}$')\n",
        "plt.ylabel('log(Σ$_{HI}$) [M$_{solar}$ pc$^{-2}$]')\n",
        "\n",
        "# Noticable data 'gap' from 0 - 0.1 RHI\n",
        "# Fitting a curve to the data will allow a different range to be set\n",
        "# Curve fitting to the luminosity evolution\n",
        "def sigfit(x, *p):\n",
        "  return p[0] * np.exp(-(x**p[1])) + p[2]\n",
        "Vmag_guess = np.array([1,3,1])\n",
        "Vmagopt, Vmagcov = curve_fit(sigfit, rrHI, lgSigHI, )\n",
        "\n",
        "'''\n",
        "plt.subplot(222)\n",
        "plt.plot(rrHI, SigHI, 'k.-')\n",
        "plt.xlabel('r/R$_{HI}$')\n",
        "plt.ylabel('Σ$_{HI}$ [M$_{solar}$ pc$^{-2}$]');\n",
        "'''\n",
        "\n"
      ],
      "metadata": {
        "colab": {
          "base_uri": "https://localhost:8080/",
          "height": 421
        },
        "id": "f4rcdGmlRLvI",
        "outputId": "ba26bce9-4f3a-4123-e769-42e1ed503547"
      },
      "execution_count": 12,
      "outputs": [
        {
          "output_type": "stream",
          "name": "stderr",
          "text": [
            "/usr/local/lib/python3.7/dist-packages/ipykernel_launcher.py:23: RuntimeWarning: invalid value encountered in sqrt\n",
            "/usr/local/lib/python3.7/dist-packages/scipy/optimize/minpack.py:808: OptimizeWarning: Covariance of the parameters could not be estimated\n",
            "  category=OptimizeWarning)\n"
          ]
        },
        {
          "output_type": "execute_result",
          "data": {
            "text/plain": [
              "\"\\nplt.subplot(222)\\nplt.plot(rrHI, SigHI, 'k.-')\\nplt.xlabel('r/R$_{HI}$')\\nplt.ylabel('Σ$_{HI}$ [M$_{solar}$ pc$^{-2}$]');\\n\""
            ],
            "application/vnd.google.colaboratory.intrinsic+json": {
              "type": "string"
            }
          },
          "metadata": {},
          "execution_count": 12
        },
        {
          "output_type": "display_data",
          "data": {
            "text/plain": [
              "<Figure size 1080x720 with 1 Axes>"
            ],
            "image/png": "[encoded data removed]"
          },
          "metadata": {
            "needs_background": "light"
          }
        }
      ]
    },
    {
      "cell_type": "code",
      "source": [
        ""
      ],
      "metadata": {
        "id": "lNqyrXUItzkd"
      },
      "execution_count": 9,
      "outputs": []
    },
    {
      "cell_type": "code",
      "source": [
        "# Convert the petrosian flux r band (90%) from arcsec to parsec\n",
        "r90 = 1/petro90r\n",
        "print(min(r90), max(r90))\n",
        "# Normalise r90 by dividing by RHI\n",
        "r90norm = r90/RHI\n",
        "print(min(r90norm), max(r90norm))\n",
        "\n",
        "# Finding the running median for the HI profile\n",
        "# Array for the bin start, stop and range\n",
        "bins = np.linspace(min(r90norm), max(r90norm), 13)\n",
        "\n",
        "# Array of zeroes to store the median of each bin\n",
        "mHI = np.zeros(100)\n",
        "medn = np.zeros(100)\n",
        "'''\n",
        "# Using a for loop to iterate over the median values for each of the bins\n",
        "for i in range(len(bins) -1):\n",
        "  medn1[i] = np.median(lgMHI1[np.where((lgMHI1 >= bins[i]) & (lgMHI1 <= bins[i+1]))])\n",
        "  mHI[i] = medn[i]\n",
        "print(mHI)\n",
        "'''"
      ],
      "metadata": {
        "colab": {
          "base_uri": "https://localhost:8080/",
          "height": 105
        },
        "id": "THZdrtv0f0N8",
        "outputId": "30ab4144-e7d5-4e4e-d21a-4f6fc2645598"
      },
      "execution_count": 10,
      "outputs": [
        {
          "output_type": "stream",
          "name": "stdout",
          "text": [
            "0.02685284640171858 0.4716981132075471\n",
            "0.0007925123764128669 0.08955046237395657\n"
          ]
        },
        {
          "output_type": "execute_result",
          "data": {
            "text/plain": [
              "'\\n# Using a for loop to iterate over the median values for each of the bins\\nfor i in range(len(bins) -1):\\n  medn1[i] = np.median(lgMHI1[np.where((lgMHI1 >= bins[i]) & (lgMHI1 <= bins[i+1]))])\\n  mHI[i] = medn[i]\\nprint(mHI)\\n'"
            ],
            "application/vnd.google.colaboratory.intrinsic+json": {
              "type": "string"
            }
          },
          "metadata": {},
          "execution_count": 10
        }
      ]
    }
  ]
}