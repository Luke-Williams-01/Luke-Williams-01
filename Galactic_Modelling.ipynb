{
  "nbformat": 4,
  "nbformat_minor": 0,
  "metadata": {
    "colab": {
      "name": "Galactic Modelling.ipynb",
      "provenance": [],
      "authorship_tag": "ABX9TyOnO8yWWyFRlbNKHT7LvgO7",
      "include_colab_link": true
    },
    "kernelspec": {
      "name": "python3",
      "display_name": "Python 3"
    },
    "language_info": {
      "name": "python"
    }
  },
  "cells": [
    {
      "cell_type": "markdown",
      "metadata": {
        "id": "view-in-github",
        "colab_type": "text"
      },
      "source": [
        "<a href=\"https://colab.research.google.com/github/Luke-Williams-01/Luke-Williams-01/blob/main/Galactic_Modelling.ipynb\" target=\"_parent\"><img src=\"https://colab.research.google.com/assets/colab-badge.svg\" alt=\"Open In Colab\"/></a>"
      ]
    },
    {
      "cell_type": "code",
      "execution_count": 1,
      "metadata": {
        "id": "P9nscjoSszjf"
      },
      "outputs": [],
      "source": [
        "# Imports\n",
        "import numpy as np\n",
        "import matplotlib.pyplot as plt\n",
        "from scipy import integrate\n",
        "from scipy.optimize import curve_fit"
      ]
    },
    {
      "cell_type": "code",
      "source": [
        "# Constants\n",
        "Mtotal = 1E11\n",
        "Ttotal = 12E9\n",
        "Sft = 1E9\n",
        "TauSun = 10E9\n",
        "\n",
        "# Constant star formation rate\n",
        "SFR = Mtotal/Sft\n",
        "\n",
        "# Time elapsed array\n",
        "T = np.linspace(0, Ttotal, 12000)\n",
        "Tl = len(T)\n",
        "\n",
        "# Mass range array\n",
        "M = np.linspace(0.5, 20, 100)\n",
        "dM = M[1] - M[0]\n",
        "Ml = len(M)\n",
        "\n",
        "# Time of formation array\n",
        "Tform = np.arange(0, Sft, 1E7)\n",
        "dT = Tform[1] - Tform[0]\n",
        "Tfl = len(Tform)\n"
      ],
      "metadata": {
        "id": "fcNS07ohuI2Y"
      },
      "execution_count": 21,
      "outputs": []
    },
    {
      "cell_type": "code",
      "source": [
        "# Finding how the number of stars evolves over time\n",
        "\n",
        "# Finding E0 = Mtotal/Mtot\n",
        "def Mtot(M):\n",
        "  return (M**(-1.35))\n",
        "\n",
        "y = Mtot(M) * dM\n",
        "Int = np.trapz(y)\n",
        "E0 = (SFR * dT)/Int\n",
        "print(E0)\n",
        "\n",
        "# Finding Number of stars per Mass interval\n",
        "Stbrn = np.zeros(Ml)\n",
        "\n",
        "for i in np.arange(0, Ml, 1):\n",
        "  m = M[i]\n",
        "  def Sbrn(m):\n",
        "    return (m**(-2.35)) * E0 * dM\n",
        "  Stbrn[i] = Sbrn(m)\n",
        "\n",
        "print(Stbrn)\n",
        "print(M)\n",
        "print(np.sum(Stbrn))"
      ],
      "metadata": {
        "id": "W28-zndyQSYW",
        "outputId": "585f1f5c-2c86-45e7-8756-01d8e5030396",
        "colab": {
          "base_uri": "https://localhost:8080/"
        }
      },
      "execution_count": 25,
      "outputs": [
        {
          "output_type": "stream",
          "name": "stdout",
          "text": [
            "375641348.47432154\n",
            "[3.77218772e+08 1.72830407e+08 9.62939116e+07 6.03072728e+07\n",
            " 4.08287967e+07 2.92226622e+07 2.18068058e+07 1.68097052e+07\n",
            " 1.32986551e+07 1.07469839e+07 8.84016123e+06 7.38152826e+06\n",
            " 6.24332318e+06 5.33980427e+06 4.61180223e+06 4.01748409e+06\n",
            " 3.52663900e+06 3.11703603e+06 2.77204063e+06 2.47901801e+06\n",
            " 2.22824093e+06 2.01212846e+06 1.82470621e+06 1.66121774e+06\n",
            " 1.51784066e+06 1.39147672e+06 1.27959451e+06 1.18011051e+06\n",
            " 1.09129802e+06 1.01171687e+06 9.40158751e+05 8.75604140e+05\n",
            " 8.17188328e+05 7.64174275e+05 7.15930845e+05 6.71915213e+05\n",
            " 6.31658581e+05 5.94754486e+05 5.60849207e+05 5.29633834e+05\n",
            " 5.00837683e+05 4.74222814e+05 4.49579429e+05 4.26722011e+05\n",
            " 4.05486058e+05 3.85725313e+05 3.67309416e+05 3.50121893e+05\n",
            " 3.34058432e+05 3.19025406e+05 3.04938600e+05 2.91722108e+05\n",
            " 2.79307375e+05 2.67632371e+05 2.56640864e+05 2.46281790e+05\n",
            " 2.36508696e+05 2.27279256e+05 2.18554843e+05 2.10300152e+05\n",
            " 2.02482864e+05 1.95073351e+05 1.88044419e+05 1.81371067e+05\n",
            " 1.75030286e+05 1.69000871e+05 1.63263255e+05 1.57799363e+05\n",
            " 1.52592475e+05 1.47627113e+05 1.42888928e+05 1.38364606e+05\n",
            " 1.34041778e+05 1.29908946e+05 1.25955407e+05 1.22171190e+05\n",
            " 1.18546998e+05 1.15074154e+05 1.11744551e+05 1.08550611e+05\n",
            " 1.05485243e+05 1.02541807e+05 9.97140782e+04 9.69962192e+04\n",
            " 9.43827503e+04 9.18685243e+04 8.94487026e+04 8.71187334e+04\n",
            " 8.48743319e+04 8.27114619e+04 8.06263189e+04 7.86153143e+04\n",
            " 7.66750612e+04 7.48023610e+04 7.29941912e+04 7.12476936e+04\n",
            " 6.95601646e+04 6.79290447e+04 6.63519095e+04 6.48264617e+04]\n",
            "[ 0.5         0.6969697   0.89393939  1.09090909  1.28787879  1.48484848\n",
            "  1.68181818  1.87878788  2.07575758  2.27272727  2.46969697  2.66666667\n",
            "  2.86363636  3.06060606  3.25757576  3.45454545  3.65151515  3.84848485\n",
            "  4.04545455  4.24242424  4.43939394  4.63636364  4.83333333  5.03030303\n",
            "  5.22727273  5.42424242  5.62121212  5.81818182  6.01515152  6.21212121\n",
            "  6.40909091  6.60606061  6.8030303   7.          7.1969697   7.39393939\n",
            "  7.59090909  7.78787879  7.98484848  8.18181818  8.37878788  8.57575758\n",
            "  8.77272727  8.96969697  9.16666667  9.36363636  9.56060606  9.75757576\n",
            "  9.95454545 10.15151515 10.34848485 10.54545455 10.74242424 10.93939394\n",
            " 11.13636364 11.33333333 11.53030303 11.72727273 11.92424242 12.12121212\n",
            " 12.31818182 12.51515152 12.71212121 12.90909091 13.10606061 13.3030303\n",
            " 13.5        13.6969697  13.89393939 14.09090909 14.28787879 14.48484848\n",
            " 14.68181818 14.87878788 15.07575758 15.27272727 15.46969697 15.66666667\n",
            " 15.86363636 16.06060606 16.25757576 16.45454545 16.65151515 16.84848485\n",
            " 17.04545455 17.24242424 17.43939394 17.63636364 17.83333333 18.03030303\n",
            " 18.22727273 18.42424242 18.62121212 18.81818182 19.01515152 19.21212121\n",
            " 19.40909091 19.60606061 19.8030303  20.        ]\n",
            "921183564.8106034\n"
          ]
        }
      ]
    },
    {
      "cell_type": "code",
      "source": [
        "# Finding the Luminosity evolution of the stars\n",
        "\n",
        "\n",
        "\n",
        "'''\n",
        "Stbrn = np.zeros(Ml)\n",
        "\n",
        "for i in np.arange(0, Ml, 1):\n",
        "  m = M[i]\n",
        "  def Sbrn(m):\n",
        "    return (m**(-2.35)) * E0 * dM\n",
        "  Stbrn[i] = Sbrn(m)\n",
        "\n",
        "print(Stbrn)\n",
        "print(M)\n",
        "print(np.sum(Stbrn))\n",
        "'''"
      ],
      "metadata": {
        "id": "mx8LX6Dg5EgP"
      },
      "execution_count": null,
      "outputs": []
    },
    {
      "cell_type": "code",
      "source": [
        "# Finding the Number of stars as a function of mass\n",
        "\n",
        "# The E0 value can be found by summing all masses looking at the Saltpeter IMF, where E(Saltpeter) = E0 * (M**-2.35)\n",
        "# The Number of stars in a galaxy can be found using: N(M) = integral(E(Saltpeter) * SFR * dt) from 0 to Tms\n",
        "# The total number of Mass in the galaxy can be found by: Mtot = integral(M**-2.35) * M * dM) from MinMas to MaxMas\n",
        "\n",
        "# Finding E0 = Mtotal/Mtot\n",
        "def Mtot(M):\n",
        "  return (M**(-1.35))\n",
        "\n",
        "Integral = np.sum(Mtot(M) * dM)\n",
        "Int, errInt = integrate.quad(Mtot, 0.5, 20)\n",
        "\n",
        "#y = Mtot(M)\n",
        "#Intogral = integrate.cumtrapz(y, Mtot(M), 0)\n",
        "#print(np.sum(Intogral))\n",
        "\n",
        "E0 = (SFR * dT)/Integral\n",
        "print(E0)\n",
        "print(Integral)\n",
        "print(Int)\n",
        "\n",
        "# Finding E(Saltpeter) = E0 * (M**-2.35)\n",
        "Stbrn = np.zeros(Ml)\n",
        "\n",
        "for i in np.arange(0, Ml, 1):\n",
        "  m = M[i]\n",
        "  def Sbrn(m):\n",
        "    return (m**(-2.35)) * E0 * dM\n",
        "  Stbrn[i] = Sbrn(m)\n",
        "\n",
        "print(len(Stbrn))\n",
        "print(len(Tform))\n",
        "\n",
        "print(Stbrn)\n",
        "print(Tform)\n",
        "\n",
        "plt.figure(figsize = (10,10))\n",
        "plt.plot(Tform, Stbrn);\n",
        "plt.xlabel('Time of formation')\n",
        "plt.ylabel('Stars born')"
      ],
      "metadata": {
        "colab": {
          "base_uri": "https://localhost:8080/",
          "height": 1000
        },
        "id": "JTBJfAXRus5T",
        "outputId": "54ae9b49-912e-4bd3-cd2c-f02d5c343ed6"
      },
      "execution_count": 5,
      "outputs": [
        {
          "output_type": "stream",
          "name": "stdout",
          "text": [
            "343066198.2511565\n",
            "2.914889327767309\n",
            "2.6402850975034813\n",
            "100\n",
            "100\n",
            "[3.44506830e+08 1.57842769e+08 8.79434235e+07 5.50775012e+07\n",
            " 3.72881743e+07 2.66885093e+07 1.99157467e+07 1.53519885e+07\n",
            " 1.21454123e+07 9.81501881e+06 8.07355345e+06 6.74141132e+06\n",
            " 5.70190996e+06 4.87674309e+06 4.21187248e+06 3.66909287e+06\n",
            " 3.22081326e+06 2.84673054e+06 2.53165272e+06 2.26404066e+06\n",
            " 2.03501065e+06 1.83763918e+06 1.66646996e+06 1.51715900e+06\n",
            " 1.38621541e+06 1.27080959e+06 1.16862967e+06 1.07777280e+06\n",
            " 9.96662009e+05 9.23982045e+05 8.58629354e+05 7.99672839e+05\n",
            " 7.46322773e+05 6.97906033e+05 6.53846213e+05 6.13647562e+05\n",
            " 5.76881935e+05 5.43178117e+05 5.12213062e+05 4.83704647e+05\n",
            " 4.57405662e+05 4.33098801e+05 4.10592460e+05 3.89717210e+05\n",
            " 3.70322811e+05 3.52275694e+05 3.35456801e+05 3.19759758e+05\n",
            " 3.05089300e+05 2.91359920e+05 2.78494704e+05 2.66424330e+05\n",
            " 2.55086187e+05 2.44423625e+05 2.34385288e+05 2.24924540e+05\n",
            " 2.15998956e+05 2.07569882e+05 1.99602039e+05 1.92063185e+05\n",
            " 1.84923802e+05 1.78156833e+05 1.71737441e+05 1.65642794e+05\n",
            " 1.59851878e+05 1.54345326e+05 1.49105269e+05 1.44115198e+05\n",
            " 1.39359846e+05 1.34825074e+05 1.30497778e+05 1.26365799e+05\n",
            " 1.22417842e+05 1.18643404e+05 1.15032711e+05 1.11576657e+05\n",
            " 1.08266750e+05 1.05095066e+05 1.02054202e+05 9.91372372e+04\n",
            " 9.63376944e+04 9.36495092e+04 9.10669975e+04 8.85848278e+04\n",
            " 8.61979957e+04 8.39018002e+04 8.16918224e+04 7.95639052e+04\n",
            " 7.75141354e+04 7.55388269e+04 7.36345049e+04 7.17978921e+04\n",
            " 7.00258953e+04 6.83155934e+04 6.66642257e+04 6.50691823e+04\n",
            " 6.35279937e+04 6.20383225e+04 6.05979544e+04 5.92047916e+04]\n",
            "[0.0e+00 1.0e+07 2.0e+07 3.0e+07 4.0e+07 5.0e+07 6.0e+07 7.0e+07 8.0e+07\n",
            " 9.0e+07 1.0e+08 1.1e+08 1.2e+08 1.3e+08 1.4e+08 1.5e+08 1.6e+08 1.7e+08\n",
            " 1.8e+08 1.9e+08 2.0e+08 2.1e+08 2.2e+08 2.3e+08 2.4e+08 2.5e+08 2.6e+08\n",
            " 2.7e+08 2.8e+08 2.9e+08 3.0e+08 3.1e+08 3.2e+08 3.3e+08 3.4e+08 3.5e+08\n",
            " 3.6e+08 3.7e+08 3.8e+08 3.9e+08 4.0e+08 4.1e+08 4.2e+08 4.3e+08 4.4e+08\n",
            " 4.5e+08 4.6e+08 4.7e+08 4.8e+08 4.9e+08 5.0e+08 5.1e+08 5.2e+08 5.3e+08\n",
            " 5.4e+08 5.5e+08 5.6e+08 5.7e+08 5.8e+08 5.9e+08 6.0e+08 6.1e+08 6.2e+08\n",
            " 6.3e+08 6.4e+08 6.5e+08 6.6e+08 6.7e+08 6.8e+08 6.9e+08 7.0e+08 7.1e+08\n",
            " 7.2e+08 7.3e+08 7.4e+08 7.5e+08 7.6e+08 7.7e+08 7.8e+08 7.9e+08 8.0e+08\n",
            " 8.1e+08 8.2e+08 8.3e+08 8.4e+08 8.5e+08 8.6e+08 8.7e+08 8.8e+08 8.9e+08\n",
            " 9.0e+08 9.1e+08 9.2e+08 9.3e+08 9.4e+08 9.5e+08 9.6e+08 9.7e+08 9.8e+08\n",
            " 9.9e+08]\n"
          ]
        },
        {
          "output_type": "execute_result",
          "data": {
            "text/plain": [
              "Text(0, 0.5, 'Stars born')"
            ]
          },
          "metadata": {},
          "execution_count": 5
        },
        {
          "output_type": "display_data",
          "data": {
            "text/plain": [
              "<Figure size 720x720 with 1 Axes>"
            ],
            "image/png": "[encoded data removed]"
          },
          "metadata": {
            "needs_background": "light"
          }
        }
      ]
    },
    {
      "cell_type": "code",
      "source": [
        "# Finding N(M) = integral(E(Saltpeter) * SFR * dt) from T1 to T2\n",
        "# N(M) = Stbrn * SFR * dt\n",
        "#N = Stbrn * SFR * dT\n",
        "#print(N)\n",
        "\n",
        "N=[]\n",
        "j=0\n",
        "for i in range(0,len(Stbrn)):\n",
        "    j+=Stbrn[i]\n",
        "    N.append(j)\n",
        "     \n",
        "print(N)\n",
        "\n",
        "plt.figure(figsize = (10,10))\n",
        "plt.plot(Tform, N);\n",
        "plt.xlabel('Time of formation')\n",
        "plt.ylabel('N')\n"
      ],
      "metadata": {
        "id": "FdjFuP7CfOw_",
        "outputId": "c76e8972-aedb-42b1-abc1-81fb3b6806bd",
        "colab": {
          "base_uri": "https://localhost:8080/",
          "height": 670
        }
      },
      "execution_count": 6,
      "outputs": [
        {
          "output_type": "stream",
          "name": "stdout",
          "text": [
            "[344506830.0069922, 502349598.8754768, 590293022.3255827, 645370523.5133808, 682658697.7880399, 709347207.1201981, 729262953.8638647, 744614942.314268, 756760354.6125367, 766575373.4250008, 774648926.874354, 781390338.1913583, 787092248.155651, 791968991.2417533, 796180863.7261692, 799849956.5975943, 803070769.8542792, 805917500.3978232, 808449153.1174197, 810713193.774175, 812748204.4283917, 814585843.6130153, 816252313.5750371, 817769472.5774666, 819155687.9852107, 820426497.5722934, 821595127.2402601, 822672900.0374271, 823669562.0468894, 824593544.0915333, 825452173.4458443, 826251846.2847608, 826998169.0578623, 827696075.0908676, 828349921.3035874, 828963568.8660161, 829540450.8010955, 830083628.9184397, 830595841.9805784, 831079546.6273854, 831536952.2897462, 831970051.0911618, 832380643.5516539, 832770360.7612709, 833140683.5725454, 833492959.2661521, 833828416.0669867, 834148175.8251817, 834453265.1253228, 834744625.0450404, 835023119.7494638, 835289544.0793118, 835544630.2665417, 835789053.8915939, 836023439.179632, 836248363.7192103, 836464362.6750431, 836671932.556609, 836871534.5959091, 837063597.7805421, 837248521.5821635, 837426678.4151869, 837598415.8561251, 837764058.6501334, 837923910.5280213, 838078255.8541503, 838227361.123171, 838371476.3214232, 838510836.1669613, 838645661.2405584, 838776159.0186306, 838902524.817795, 839024942.6596932, 839143586.0637702, 839258618.7748648, 839370195.431737, 839478462.1820109, 839583557.2484434, 839685611.4509223, 839784748.6881518, 839881086.3825856, 839974735.8918132, 840065802.889295, 840154387.7170578, 840240585.712713, 840324487.5129372, 840406179.3353544, 840485743.2405789, 840563257.3760171, 840638796.202883, 840712430.7077498, 840784228.5998441, 840854254.4951835, 840922570.0885626, 840989234.314306, 841054303.4966279, 841117831.4903698, 841179869.8128209, 841240467.767269, 841299672.5588763]\n"
          ]
        },
        {
          "output_type": "execute_result",
          "data": {
            "text/plain": [
              "Text(0, 0.5, 'N')"
            ]
          },
          "metadata": {},
          "execution_count": 6
        },
        {
          "output_type": "display_data",
          "data": {
            "text/plain": [
              "<Figure size 720x720 with 1 Axes>"
            ],
            "image/png": "[encoded data removed]"
          },
          "metadata": {
            "needs_background": "light"
          }
        }
      ]
    }
  ]
}