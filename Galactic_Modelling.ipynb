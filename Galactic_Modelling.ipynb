{
  "nbformat": 4,
  "nbformat_minor": 0,
  "metadata": {
    "colab": {
      "name": "Galactic Modelling.ipynb",
      "provenance": [],
      "authorship_tag": "ABX9TyMKqm/qdAEwzmZMd69qqBCr",
      "include_colab_link": true
    },
    "kernelspec": {
      "name": "python3",
      "display_name": "Python 3"
    },
    "language_info": {
      "name": "python"
    }
  },
  "cells": [
    {
      "cell_type": "markdown",
      "metadata": {
        "id": "view-in-github",
        "colab_type": "text"
      },
      "source": [
        "<a href=\"https://colab.research.google.com/github/Luke-Williams-01/Luke-Williams-01/blob/main/Galactic_Modelling.ipynb\" target=\"_parent\"><img src=\"https://colab.research.google.com/assets/colab-badge.svg\" alt=\"Open In Colab\"/></a>"
      ]
    },
    {
      "cell_type": "code",
      "execution_count": 1,
      "metadata": {
        "id": "P9nscjoSszjf"
      },
      "outputs": [],
      "source": [
        "# Imports Impound Lot\n",
        "import numpy as np\n",
        "import matplotlib.pyplot as plt\n",
        "from scipy.optimize import curve_fit"
      ]
    },
    {
      "cell_type": "code",
      "source": [
        "# Constants Casino\n",
        "Mtotal = 1E11\n",
        "Ttotal = 12E9\n",
        "Sft = 1E9\n",
        "TauSun = 10E9\n",
        "\n",
        "# Constant star formation rate\n",
        "SFR = Mtotal/Sft\n",
        "\n",
        "# Time elapsed array\n",
        "T = np.linspace(0, Ttotal, 12000)\n",
        "Tl = len(T)\n",
        "\n",
        "# Mass range array\n",
        "M = np.linspace(0.5, 25, 100)\n",
        "dM = M[1] - M[0]\n",
        "Ml = len(M)\n",
        "\n",
        "# Time of formation array\n",
        "Tform = np.arange(0, Sft, 1E7)\n",
        "dT = Tform[1] - Tform[0]\n",
        "Tfl = len(Tform)\n",
        "\n",
        "# Creating arrays for the V magnitude/BV colour data\n",
        "MagMass = np.array([0.8, 1, 1.25, 2, 3, 5, 9, 15, 25])\n",
        "Vmag = np.array([6.5, 4.93, 4.2, 1, -0.5, -1.4, -3.7, -4.3, -5.2])\n",
        "BVmag = np.array([1.02, 0.69, 0.59, 0.1, -0.12, -0.18, -0.3, -0.32, -0.32])"
      ],
      "metadata": {
        "id": "fcNS07ohuI2Y"
      },
      "execution_count": 2,
      "outputs": []
    },
    {
      "cell_type": "code",
      "source": [
        "# Functions Fort\n",
        "\n",
        "# IMF = E0 * M**-2.35 * M\n",
        "def Mtot(M):\n",
        "  return (M**(-1.35))\n",
        "\n",
        "# Number of stars = E0 * M**-2.35 * dM\n",
        "def Nstar(M):\n",
        "    return (M**(-2.35)) * E0 * dM\n",
        "\n",
        "# Main sequence lifetime = TauSun * M**-2.5\n",
        "def Starlife(M):\n",
        "  return TauSun * (M**(-2.5))\n",
        "\n",
        "# Luminosity = M**a\n",
        "def Lumin(M, a):\n",
        "  return (M**a)"
      ],
      "metadata": {
        "id": "6AjXWOvFR8fI"
      },
      "execution_count": 3,
      "outputs": []
    },
    {
      "cell_type": "code",
      "source": [
        "# Finding how the number of stars evolves over time\n",
        "\n",
        "# Finding E0 = Mtotal/Mtot\n",
        "Int = Mtot(M)*dM\n",
        "E0 = (SFR * dT)/np.sum(Int)\n",
        "print(E0)\n",
        "\n",
        "# Finding Number of stars per Mass interval\n",
        "Stnumb = np.zeros(Ml)\n",
        "for i in np.arange(0, Ml, 1):\n",
        "  Stnumb[i] = Nstar(M[i])\n",
        "'''\n",
        "# Star death\n",
        "Lifetime = Starlife(M)/dT\n",
        "print(Lifetime)\n",
        "Strbn\n",
        "'''\n",
        "# Number of stars per mass range, for any given time\n",
        "# i = Time\n",
        "# j = Mass\n",
        "\n",
        "\n",
        "Numb = np.zeros((Tl, Ml))\n",
        "MassT = np.zeros(Tl)\n",
        "Stnum = np.zeros(Tl)\n",
        "\n",
        "for i in range(Tl):\n",
        "  if (T[i] >= 1E9):\n",
        "    AliveCheck = 0\n",
        "  else:\n",
        "    AliveCheck = 1\n",
        "  for j in range(Ml):\n",
        "    if (T[i] >= Starlife(M[j])):\n",
        "      if Numb[i-1][j] > 0:\n",
        "        Nnotstar = Nstar(M[j])\n",
        "      else:\n",
        "        Nnotstar = 0\n",
        "    else:\n",
        "      Nnotstar = 0\n",
        "    Numb[i][j] = Numb[i-1][j] + Nstar(M[j]) * AliveCheck - Nnotstar\n",
        "    if (Numb[i][j] < 0):\n",
        "      Numb[i][j] = 0\n",
        "  Stnum[i] = np.sum(Numb[i])\n",
        "  MassT[i] = np.sum(Numb[i] * M)\n",
        "\n",
        "print(Numb)"
      ],
      "metadata": {
        "colab": {
          "base_uri": "https://localhost:8080/"
        },
        "id": "W28-zndyQSYW",
        "outputId": "69120874-bf3d-43a0-bca8-db9baf32d3e5"
      },
      "execution_count": 4,
      "outputs": [
        {
          "output_type": "stream",
          "name": "stdout",
          "text": [
            "326088255.5343859\n",
            "[[4.11421077e+08 1.59924210e+08 8.16645574e+07 ... 4.38647221e+04\n",
            "  4.28410586e+04 4.18511144e+04]\n",
            " [8.22842155e+08 3.19848419e+08 1.63329115e+08 ... 8.77294443e+04\n",
            "  8.56821171e+04 8.37022288e+04]\n",
            " [1.23426323e+09 4.79772629e+08 2.44993672e+08 ... 1.31594166e+05\n",
            "  1.28523176e+05 1.25553343e+05]\n",
            " ...\n",
            " [4.11421077e+11 1.59924210e+11 0.00000000e+00 ... 0.00000000e+00\n",
            "  0.00000000e+00 0.00000000e+00]\n",
            " [4.11421077e+11 1.59924210e+11 0.00000000e+00 ... 0.00000000e+00\n",
            "  0.00000000e+00 0.00000000e+00]\n",
            " [4.11421077e+11 1.59924210e+11 0.00000000e+00 ... 0.00000000e+00\n",
            "  0.00000000e+00 0.00000000e+00]]\n"
          ]
        }
      ]
    },
    {
      "cell_type": "code",
      "source": [
        "# Number of stars over time\n",
        "plt.plot(T,Stnum)"
      ],
      "metadata": {
        "id": "WKRj6D2igH2g",
        "outputId": "48eda8bf-44ce-4700-a8d0-804be3969ae7",
        "colab": {
          "base_uri": "https://localhost:8080/",
          "height": 306
        }
      },
      "execution_count": 5,
      "outputs": [
        {
          "output_type": "execute_result",
          "data": {
            "text/plain": [
              "[<matplotlib.lines.Line2D at 0x7fd2de47d510>]"
            ]
          },
          "metadata": {},
          "execution_count": 5
        },
        {
          "output_type": "display_data",
          "data": {
            "text/plain": [
              "<Figure size 432x288 with 1 Axes>"
            ],
            "image/png": "[encoded data removed]"
          },
          "metadata": {
            "needs_background": "light"
          }
        }
      ]
    },
    {
      "cell_type": "code",
      "source": [
        "# Mass evolution over time\n",
        "plt.plot(T,MassT)"
      ],
      "metadata": {
        "id": "qSoVamshgJpC",
        "outputId": "8e673435-4af3-411f-cea8-a25b54ba28e7",
        "colab": {
          "base_uri": "https://localhost:8080/",
          "height": 306
        }
      },
      "execution_count": 6,
      "outputs": [
        {
          "output_type": "execute_result",
          "data": {
            "text/plain": [
              "[<matplotlib.lines.Line2D at 0x7fd2de45bf50>]"
            ]
          },
          "metadata": {},
          "execution_count": 6
        },
        {
          "output_type": "display_data",
          "data": {
            "text/plain": [
              "<Figure size 432x288 with 1 Axes>"
            ],
            "image/png": "[encoded data removed]"
          },
          "metadata": {
            "needs_background": "light"
          }
        }
      ]
    },
    {
      "cell_type": "code",
      "source": [
        "# Finding the Luminosity evolution of the stars\n",
        "Lumb = np.zeros((Tl, Ml))\n",
        "LumT = np.zeros(Tl)\n",
        "\n",
        "for i in range(Tl):\n",
        "  for j in range(Ml):\n",
        "    if (M[j] >= 1):\n",
        "      a = 3.9\n",
        "    else:\n",
        "      a = 5\n",
        "    Lumb[i][j] = Numb[i][j] * Lumin(M[j],a)\n",
        "  LumT[i] = np.sum(Lumb[i])\n",
        "\n",
        "# Luminosity evolution over time\n",
        "plt.plot(T,LumT)\n",
        "print(LumT)"
      ],
      "metadata": {
        "id": "mx8LX6Dg5EgP",
        "colab": {
          "base_uri": "https://localhost:8080/",
          "height": 324
        },
        "outputId": "bbcb2838-b97e-4d79-f05e-9df75dad64f8"
      },
      "execution_count": 7,
      "outputs": [
        {
          "output_type": "stream",
          "name": "stdout",
          "text": [
            "[4.75299310e+11 9.50598620e+11 1.42589793e+12 ... 5.01730594e+10\n",
            " 5.01730594e+10 5.01730594e+10]\n"
          ]
        },
        {
          "output_type": "display_data",
          "data": {
            "text/plain": [
              "<Figure size 432x288 with 1 Axes>"
            ],
            "image/png": "[encoded data removed]"
          },
          "metadata": {
            "needs_background": "light"
          }
        }
      ]
    },
    {
      "cell_type": "code",
      "source": [
        "# V magnitude and colour graphs\n",
        "\n",
        "# Curve fit this to find the colour\n",
        "def Vmagfit(x, *p):\n",
        "  return p[0] * np.exp(x**-p[1]) + p[2]\n",
        "\n",
        "Vmag_guess = np.array([8.435,0.279,-17.877])\n",
        "Vmagopt, Vmagcov = curve_fit(Vmagfit, MagMass, Vmag, Vmag_guess)\n",
        "\n",
        "# Plotting Curve-fitted mass against V magnitude graph\n",
        "\n",
        "plt.plot(MagMass, Vmag)\n",
        "plt.plot(M, Vmagfit(M, *Vmagopt))\n",
        "\n",
        "print(Vmagopt[0], Vmagopt[1], Vmagopt[2])"
      ],
      "metadata": {
        "id": "HU6b5x0oSg6r",
        "colab": {
          "base_uri": "https://localhost:8080/",
          "height": 282
        },
        "outputId": "a1e2642c-8cb4-4b1b-f58b-3442b0ea9087"
      },
      "execution_count": 8,
      "outputs": [
        {
          "output_type": "stream",
          "name": "stdout",
          "text": [
            "8.434922553440567 0.2792188760096659 -17.87669803804364\n"
          ]
        },
        {
          "output_type": "display_data",
          "data": {
            "text/plain": [
              "<Figure size 432x288 with 1 Axes>"
            ],
            "image/png": "[encoded data removed]"
          },
          "metadata": {
            "needs_background": "light"
          }
        }
      ]
    },
    {
      "cell_type": "code",
      "source": [
        "Bmag = BVmag + Vmag\n",
        "\n",
        "def Bmagfit(x, *p):\n",
        "  return p[0] * np.exp(x**-p[1]) + p[2]\n",
        "\n",
        "Bmag_guess = np.array([8.77,0.319,-18.087])\n",
        "Bmagopt, Bmagcov = curve_fit(Bmagfit, MagMass, Bmag, Bmag_guess)\n",
        "\n",
        "plt.plot(MagMass, Bmag)\n",
        "plt.plot(M, Bmagfit(M, *Bmagopt))\n",
        "\n",
        "print(Bmagopt[0], Bmagopt[1], Bmagopt[2])"
      ],
      "metadata": {
        "id": "0Fy3Hnh68C0z",
        "outputId": "bc56d08c-5185-49ae-b849-bcaf3c1302bc",
        "colab": {
          "base_uri": "https://localhost:8080/",
          "height": 282
        }
      },
      "execution_count": 9,
      "outputs": [
        {
          "output_type": "stream",
          "name": "stdout",
          "text": [
            "8.779886753933368 0.3194205332347948 -18.08697491649469\n"
          ]
        },
        {
          "output_type": "display_data",
          "data": {
            "text/plain": [
              "<Figure size 432x288 with 1 Axes>"
            ],
            "image/png": "[encoded data removed]"
          },
          "metadata": {
            "needs_background": "light"
          }
        }
      ]
    },
    {
      "cell_type": "code",
      "source": [
        "'''\n",
        "LumB = np.zeros((Tl,Ml))\n",
        "TimeB = np.zeros(Tl)\n",
        "\n",
        "# Using a for loop to calculate how the flux per star changes with mass and changes through time\n",
        "for i in range(Tl):\n",
        "  for j in range(Ml):\n",
        "    Lumb[j] = Lumin[j] * 10**(0.4 * (Vmagfit(M[j], *Vmagopt) - Bmagfit(M[j], *Bmagopt)))\n",
        "'''"
      ],
      "metadata": {
        "id": "YIlWKmTggSws",
        "outputId": "4aade821-963b-4075-c135-384baefd717d",
        "colab": {
          "base_uri": "https://localhost:8080/",
          "height": 53
        }
      },
      "execution_count": 10,
      "outputs": [
        {
          "output_type": "execute_result",
          "data": {
            "text/plain": [
              "'\\nLumB = np.zeros((Tl,Ml))\\nTimeB = np.zeros(Tl)\\n\\n# Using a for loop to calculate how the flux per star changes with mass and changes through time\\nfor i in range(Tl):\\n  for j in range(Ml):\\n    Lumb[j] = Lumin[j] * 10**(0.4 * (Vmagfit(M[j], *Vmagopt) - Bmagfit(M[j], *Bmagopt)))\\n'"
            ],
            "application/vnd.google.colaboratory.intrinsic+json": {
              "type": "string"
            }
          },
          "metadata": {},
          "execution_count": 10
        }
      ]
    }
  ]
}