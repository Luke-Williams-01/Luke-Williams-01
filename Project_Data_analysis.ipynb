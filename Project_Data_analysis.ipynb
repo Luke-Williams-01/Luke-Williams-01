{
  "nbformat": 4,
  "nbformat_minor": 0,
  "metadata": {
    "colab": {
      "name": "Project Data analysis.ipynb",
      "provenance": [],
      "collapsed_sections": [],
      "authorship_tag": "ABX9TyOL+Mx6Bg+TX5MdLYdlGtrS",
      "include_colab_link": true
    },
    "kernelspec": {
      "name": "python3",
      "display_name": "Python 3"
    },
    "language_info": {
      "name": "python"
    }
  },
  "cells": [
    {
      "cell_type": "markdown",
      "metadata": {
        "id": "view-in-github",
        "colab_type": "text"
      },
      "source": [
        "<a href=\"https://colab.research.google.com/github/Luke-Williams-01/Luke-Williams-01/blob/main/Project_Data_analysis.ipynb\" target=\"_parent\"><img src=\"https://colab.research.google.com/assets/colab-badge.svg\" alt=\"Open In Colab\"/></a>"
      ]
    },
    {
      "cell_type": "code",
      "metadata": {
        "id": "2_t6pKBTqwZY"
      },
      "source": [
        "# Imports\n",
        "from pylab import *\n",
        "import numpy as np\n",
        "import matplotlib.pyplot as plt\n",
        "from scipy.optimize import curve_fit"
      ],
      "execution_count": 1,
      "outputs": []
    },
    {
      "cell_type": "code",
      "metadata": {
        "id": "0cr6CTEHVHDh"
      },
      "source": [
        "# Reading in the data\n",
        "\n",
        "C111,C112,C113,C114,C115,W111,W112,W113,W114,W115= np.loadtxt('Gr11.txt', usecols= [1,2,3,4,5,16,17,18,19,20], unpack = True, skiprows = 1, dtype = float)\n",
        "\n",
        "C161,C162,C163,C164,C165,W161,W162,W163,W164,W165= np.loadtxt('Gr16.txt', usecols= [1,2,3,4,5,16,17,18,19,20], unpack = True, skiprows = 1, dtype = float)"
      ],
      "execution_count": 2,
      "outputs": []
    },
    {
      "cell_type": "code",
      "metadata": {
        "id": "USEDtItblB9K",
        "colab": {
          "base_uri": "https://localhost:8080/"
        },
        "outputId": "b5a77308-b019-48e4-fa0f-5c972fd72150"
      },
      "source": [
        "# Analysis of the data\n",
        "\n",
        "# Calculating mean spectra\n",
        "\n",
        "# For Gr11 spectra\n",
        "xbar111 = (C111[0]+C112[0]+C113[0]+C114[0]+C115[0])/5\n",
        "print(xbar111)\n",
        "xbar112 = (C111[1]+C112[1]+C113[1]+C114[1]+C115[1])/5\n",
        "print(xbar112)\n",
        "xbar113 = (C111[2]+C112[2]+C113[2]+C114[2]+C115[2])/5\n",
        "print(xbar113)\n",
        "xbar114 = (C111[3]+C112[3]+C113[3]+C114[3]+C115[3])/5\n",
        "print(xbar114)\n",
        "xbar115 = (C111[4]+C112[4]+C113[4]+C114[4]+C115[4])/5\n",
        "print(xbar115)\n",
        "xbar116 = (C111[5]+C112[5]+C113[5]+C114[5]+C115[5])/5\n",
        "print(xbar116)\n",
        "xbar117 = (C111[6]+C112[6]+C113[6]+C114[6]+C115[6])/5\n",
        "print(xbar117)"
      ],
      "execution_count": 3,
      "outputs": [
        {
          "output_type": "stream",
          "name": "stdout",
          "text": [
            "3917.97\n",
            "4304.978000000001\n",
            "4776.2339999999995\n",
            "5049.688\n",
            "5385.188\n",
            "6256.858\n",
            "6896.82\n"
          ]
        }
      ]
    },
    {
      "cell_type": "code",
      "metadata": {
        "id": "vD7qaZJqkNIU",
        "colab": {
          "base_uri": "https://localhost:8080/"
        },
        "outputId": "f1dde144-d02c-4f61-d2fa-e68aa6218746"
      },
      "source": [
        "# For Gr16 spectra\n",
        "xbar161 = (C161[0]+C162[0]+C163[0]+C164[0]+C165[0])/5\n",
        "print(xbar161)\n",
        "xbar162 = (C161[1]+C162[1]+C163[1]+C164[1]+C165[1])/5\n",
        "print(xbar162)\n",
        "xbar163 = (C161[2]+C162[2]+C163[2]+C164[2]+C165[2])/5\n",
        "print(xbar163)\n",
        "xbar164 = (C161[3]+C162[3]+C163[3]+C164[3]+C165[3])/5\n",
        "print(xbar164)"
      ],
      "execution_count": 4,
      "outputs": [
        {
          "output_type": "stream",
          "name": "stdout",
          "text": [
            "6248.726\n",
            "6896.0779999999995\n",
            "7621.280000000001\n",
            "8366.044\n"
          ]
        }
      ]
    },
    {
      "cell_type": "code",
      "metadata": {
        "colab": {
          "base_uri": "https://localhost:8080/"
        },
        "id": "6IcBIh-bI81Y",
        "outputId": "48532b32-3217-4a0a-abd8-1742308100aa"
      },
      "source": [
        "def func(a, b):\n",
        "    return (b/(a + (b/2))) * 3e5\n",
        "\n",
        "V111 = func(a = C111, b = W111)\n",
        "print(V111)\n",
        "V112 = func(a = C112, b = W112)\n",
        "print(V112)\n",
        "V113 = func(a = C113, b = W113)\n",
        "print(V113)\n",
        "V114 = func(a = C114, b = W114)\n",
        "print(V114)\n",
        "V115 = func(a = C115, b = W115)\n",
        "print(V115)\n",
        "\n",
        "V161 = func(a = C161, b = W161)\n",
        "print(V161)\n",
        "V162 = func(a = C162, b = W162)\n",
        "print(V162)\n",
        "V163 = func(a = C163, b = W163)\n",
        "print(V163)\n",
        "V164 = func(a = C164, b = W164)\n",
        "print(V164)\n",
        "V165 = func(a = C165, b = W165)\n",
        "print(V165)\n"
      ],
      "execution_count": 5,
      "outputs": [
        {
          "output_type": "stream",
          "name": "stdout",
          "text": [
            "[ 6513.06026587  9622.81491914 11033.53850329 10631.75194137\n",
            " 21754.24125039  8497.57446509  3212.5384249 ]\n",
            "[ 6286.36499975  9379.86747878 10762.18810612 10789.93795932\n",
            "  8190.75354933  9109.95012686  3659.57232233]\n",
            "[ 6185.63132639  9087.37330984 10845.43862678 11098.06498268\n",
            "  8938.12155105  9103.99139731  4033.51183279]\n",
            "[ 6115.95714996  9327.22796157 11022.51792881  9770.65612427\n",
            "  5185.30388511  4796.52406502  3885.59676294]\n",
            "[ 5890.26231078  9495.97078303 10555.33836752 10144.53581505\n",
            "  6224.48998361  3783.37253831  2957.07692441]\n",
            "[ 5523.94342114  6970.07087311  2356.72166381 14234.09422726]\n",
            "[ 6059.1417716   3687.37295768  2362.82982882 14737.65234721]\n",
            "[ 5442.13591556  3753.11389952  2365.15734719 12453.27818897]\n",
            "[ 8632.19270343  3454.04028343  2342.16950606 12401.89175826]\n",
            "[ 7993.86598314  3112.02106723  2262.80721432 11066.57443543]\n"
          ]
        }
      ]
    },
    {
      "cell_type": "code",
      "metadata": {
        "colab": {
          "base_uri": "https://localhost:8080/"
        },
        "id": "s84cJg98nJ6v",
        "outputId": "9deddd83-2f01-4a53-ccff-68925a14f91d"
      },
      "source": [
        "# Calculating mean velocities (km/s)\n",
        "\n",
        "# For Gr11\n",
        "Vxbar111 = (V111[0]+V112[0]+V113[0]+V114[0]+V115[0])/5\n",
        "print(Vxbar111)\n",
        "Vxbar112 = (V111[1]+V112[1]+V113[1]+V114[1]+V115[1])/5\n",
        "print(Vxbar112)\n",
        "Vxbar113 = (V111[2]+V112[2]+V113[2]+V114[2]+V115[2])/5\n",
        "print(Vxbar113)\n",
        "Vxbar114 = (V111[3]+V112[3]+V113[3]+V114[3]+V115[3])/5\n",
        "print(Vxbar114)\n",
        "Vxbar115 = (V111[4]+V112[4]+V113[4]+V114[4]+V115[4])/5\n",
        "print(Vxbar115)\n",
        "Vxbar116 = (V111[5]+V112[5]+V113[5]+V114[5]+V115[5])/5\n",
        "print(Vxbar116)\n",
        "Vxbar117 = (V111[6]+V112[6]+V113[6]+V114[6]+V115[6])/5\n",
        "print(Vxbar117)"
      ],
      "execution_count": 6,
      "outputs": [
        {
          "output_type": "stream",
          "name": "stdout",
          "text": [
            "6198.255210550226\n",
            "9382.650890472312\n",
            "10843.804306503667\n",
            "10486.989364536597\n",
            "10058.582043898354\n",
            "7058.282518515976\n",
            "3549.6592534740325\n"
          ]
        }
      ]
    },
    {
      "cell_type": "code",
      "metadata": {
        "colab": {
          "base_uri": "https://localhost:8080/"
        },
        "id": "3g1Mou7lo9Fn",
        "outputId": "1b4ea649-ecf5-4892-aa9d-c0aa0255d9e6"
      },
      "source": [
        "# For Gr16\n",
        "Vxbar161 = (V161[0]+V162[0]+V163[0]+V164[0]+V165[0])/5\n",
        "print(Vxbar161)\n",
        "Vxbar162 = (V161[1]+V162[1]+V163[1]+V164[1]+V165[1])/5\n",
        "print(Vxbar162)\n",
        "Vxbar163 = (V161[2]+V162[2]+V163[2]+V164[2]+V165[2])/5\n",
        "print(Vxbar163)\n",
        "Vxbar164 = (V161[3]+V162[3]+V163[3]+V164[3]+V165[3])/5\n",
        "print(Vxbar164)"
      ],
      "execution_count": 7,
      "outputs": [
        {
          "output_type": "stream",
          "name": "stdout",
          "text": [
            "6730.255958973187\n",
            "4195.323816194912\n",
            "2337.937112038123\n",
            "12978.698191427264\n"
          ]
        }
      ]
    },
    {
      "cell_type": "code",
      "source": [
        "# Reading in the e.ascii data\n",
        "\n",
        "x11, y11 = np.loadtxt('tPS15ae_20150327_Gr11.asci',unpack = True,  dtype = float)\n",
        "\n",
        "x16, y16 = np.loadtxt('tPS15ae_20150327_Gr16.asci',unpack = True,  dtype = float)"
      ],
      "metadata": {
        "id": "FICDSm9CI7Ml"
      },
      "execution_count": 8,
      "outputs": []
    },
    {
      "cell_type": "code",
      "source": [
        "# Plotting the Gr11 data\n",
        "\n",
        "plt.plot(x11, y11)"
      ],
      "metadata": {
        "colab": {
          "base_uri": "https://localhost:8080/",
          "height": 293
        },
        "id": "E1GkFDU6K---",
        "outputId": "fed9e299-c447-41e7-b60a-6aa5496bb9a0"
      },
      "execution_count": 9,
      "outputs": [
        {
          "output_type": "execute_result",
          "data": {
            "text/plain": [
              "[<matplotlib.lines.Line2D at 0x7fca5d1c8a50>]"
            ]
          },
          "metadata": {},
          "execution_count": 9
        },
        {
          "output_type": "display_data",
          "data": {
            "image/png": "[encoded data removed]",
            "text/plain": [
              "<Figure size 432x288 with 1 Axes>"
            ]
          },
          "metadata": {
            "needs_background": "light"
          }
        }
      ]
    },
    {
      "cell_type": "code",
      "source": [
        "# Plotting the Gr16 data\n",
        "\n",
        "plt.plot(x16, y16)"
      ],
      "metadata": {
        "colab": {
          "base_uri": "https://localhost:8080/",
          "height": 293
        },
        "id": "53YuqT-GLS3T",
        "outputId": "9381f686-f2d8-434a-c05b-c5f7f57f80bc"
      },
      "execution_count": 10,
      "outputs": [
        {
          "output_type": "execute_result",
          "data": {
            "text/plain": [
              "[<matplotlib.lines.Line2D at 0x7fca4b010a50>]"
            ]
          },
          "metadata": {},
          "execution_count": 10
        },
        {
          "output_type": "display_data",
          "data": {
            "image/png": "[encoded data removed]",
            "text/plain": [
              "<Figure size 432x288 with 1 Axes>"
            ]
          },
          "metadata": {
            "needs_background": "light"
          }
        }
      ]
    }
  ]
}