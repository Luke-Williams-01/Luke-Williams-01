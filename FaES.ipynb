{
  "nbformat": 4,
  "nbformat_minor": 0,
  "metadata": {
    "colab": {
      "name": "FaES.ipynb",
      "provenance": [],
      "collapsed_sections": [],
      "authorship_tag": "ABX9TyPHVZtIoPVuaH5sy1TgtBj3",
      "include_colab_link": true
    },
    "kernelspec": {
      "name": "python3",
      "display_name": "Python 3"
    },
    "language_info": {
      "name": "python"
    }
  },
  "cells": [
    {
      "cell_type": "markdown",
      "metadata": {
        "id": "view-in-github",
        "colab_type": "text"
      },
      "source": [
        "<a href=\"https://colab.research.google.com/github/Luke-Williams-01/Luke-Williams-01/blob/main/FaES.ipynb\" target=\"_parent\"><img src=\"https://colab.research.google.com/assets/colab-badge.svg\" alt=\"Open In Colab\"/></a>"
      ]
    },
    {
      "cell_type": "markdown",
      "metadata": {
        "id": "q00CV7HY90Y7"
      },
      "source": [
        "Q1: The file, called ‘mv_function.txt’, on Learning Central contains a table of 1. \n",
        "spectral types, 2. absolute V-band magnitudes (MV in mag), 3. number densities (n in \n",
        "10-4 pc-3) and their uncertainties, 4. number density distribution dn /dm and their \n",
        "uncertainties of the field stars in the Solar neighbourhood."
      ]
    },
    {
      "cell_type": "markdown",
      "metadata": {
        "id": "_4gTaScT-HoU"
      },
      "source": [
        "Q1a. The empirical relation between stellar mass m and absolute magnitude MV relation for \n",
        "main sequence stars can be given by the following equation:\n",
        "log(m) = 0.4790 - 0.1219Mv + 0.004940Mv^2"
      ]
    },
    {
      "cell_type": "code",
      "metadata": {
        "id": "b-fWxE9Z_hbI"
      },
      "source": [
        "# Imports\n",
        "from pylab import *\n",
        "import numpy as np\n",
        "import matplotlib.pyplot as plt\n",
        "from scipy.optimize import curve_fit"
      ],
      "execution_count": 1,
      "outputs": []
    },
    {
      "cell_type": "code",
      "metadata": {
        "id": "q18ANF77Bdqm"
      },
      "source": [
        "# Spec = Spectral Types\n",
        "# Mv = absolute V band magnitudes\n",
        "# nd = number density\n",
        "# nd_err = uncertainty in number densities\n",
        "# ndd = number density distribution\n",
        "# ndd_err = number desnity distribution uncertainity\n",
        "\n",
        "# Reading in the data\n",
        "Mv, nd, nd_err, ndd, ndd_err = np.loadtxt('mv_function.txt', usecols= [1,2,3,4,5], unpack = True, skiprows = 1, dtype = float)"
      ],
      "execution_count": 2,
      "outputs": []
    },
    {
      "cell_type": "code",
      "metadata": {
        "id": "0ca-Wxd0QqPH",
        "colab": {
          "base_uri": "https://localhost:8080/"
        },
        "outputId": "23b8fada-ba18-48bb-8a61-4be3552c3a2d"
      },
      "source": [
        "# Defining function to return the log(mass) = mlog\n",
        "def logmass(Mv):\n",
        "  '''\n",
        "  Function takes the absolute V band magnitude and returns the log(mass)\n",
        "  '''\n",
        "  return 0.4790 - 0.1219*Mv + 0.004940*(Mv**2)\n",
        "\n",
        "# Calling the function\n",
        "logm = logmass(Mv)\n",
        "print(logm)\n",
        "\n",
        "# Converting mlog into m=mass\n",
        "\n",
        "def unlog(logm):\n",
        "  '''\n",
        "  Function converts Log(mass) into mass\n",
        "  '''\n",
        "  return 10**logm\n",
        "\n",
        "# Calling the function\n",
        "mass = unlog(logm)\n",
        "print(mass)"
      ],
      "execution_count": 3,
      "outputs": [
        {
          "output_type": "stream",
          "name": "stdout",
          "text": [
            "[ 0.32452426  0.30940858  0.30192335  0.27975814  0.27142886  0.26625517\n",
            "  0.24783441  0.22575485  0.2247626   0.20415349  0.17735245  0.15868309\n",
            "  0.15041082  0.13680153  0.1216464   0.0955986   0.08123289  0.06961669\n",
            "  0.05819415  0.03436935  0.030485    0.00844285  0.00324682 -0.00263222\n",
            " -0.00554802 -0.01634151 -0.01988994 -0.02969414 -0.04538065 -0.05924666\n",
            " -0.06888419 -0.08627947 -0.10864839 -0.1343417  -0.14511625]\n",
            "[2.11117514 2.03895939 2.00411828 1.90439987 1.86822364 1.84609979\n",
            " 1.76943415 1.68172451 1.67788658 1.60012347 1.50436234 1.44106342\n",
            " 1.41387435 1.37025541 1.3232637  1.24623114 1.2056823  1.17386105\n",
            " 1.14338937 1.08235406 1.0727166  1.01963058 1.0075041  0.99395743\n",
            " 0.98730645 0.9630714  0.95523462 0.93391179 0.90078128 0.87247571\n",
            " 0.85332764 0.81982382 0.77866671 0.73393619 0.71595174]\n"
          ]
        }
      ]
    },
    {
      "cell_type": "code",
      "metadata": {
        "colab": {
          "base_uri": "https://localhost:8080/",
          "height": 279
        },
        "id": "I5tKAHe4ZL8j",
        "outputId": "0b86becc-c62f-4b60-a6b1-3171bcb5b4b5"
      },
      "source": [
        "# Plotting mass, m, against number density, n, with associated error\n",
        "plt.plot(nd, mass, \"k.\", markersize=1)\n",
        "plt.errorbar(nd, mass, xerr=nd_err, alpha=0.5, fmt=\"none\", ecolor=\"red\")\n",
        "ylabel(\"Stellar mass\")\n",
        "xlabel(\"Number density\")\n",
        "title('')\n",
        "grid();"
      ],
      "execution_count": 4,
      "outputs": [
        {
          "output_type": "display_data",
          "data": {
            "image/png": "[encoded data removed]",
            "text/plain": [
              "<Figure size 432x288 with 1 Axes>"
            ]
          },
          "metadata": {
            "needs_background": "light"
          }
        }
      ]
    },
    {
      "cell_type": "code",
      "metadata": {
        "id": "vzxTjrF-c7r1",
        "colab": {
          "base_uri": "https://localhost:8080/",
          "height": 282
        },
        "outputId": "ef7b1b1a-f627-4b2f-d35b-72568de0d18a"
      },
      "source": [
        "# Fitting a power law to the data\n",
        "\n",
        "def plaw(t, a, t0, tau, c):\n",
        "  return a*np.exp(-(t-t0)/tau)+c\n",
        "\n",
        "p0 = np.array([1,1,1,1])\n",
        "yinitial = plaw(nd, *p0)\n",
        "popt, pcov = curve_fit(plaw, nd, mass, p0=p0)\n",
        "plt.plot(nd, mass, \"k.\", markersize=1)\n",
        "ndplot = np.linspace(min(nd), max(nd), num = 35)\n",
        "y_data = plaw(nd, *popt)\n",
        "plt.plot(ndplot, y_data)"
      ],
      "execution_count": 11,
      "outputs": [
        {
          "output_type": "execute_result",
          "data": {
            "text/plain": [
              "[<matplotlib.lines.Line2D at 0x7f94759caad0>]"
            ]
          },
          "metadata": {},
          "execution_count": 11
        },
        {
          "output_type": "display_data",
          "data": {
            "image/png": "[encoded data removed]",
            "text/plain": [
              "<Figure size 432x288 with 1 Axes>"
            ]
          },
          "metadata": {
            "needs_background": "light"
          }
        }
      ]
    },
    {
      "cell_type": "code",
      "metadata": {
        "id": "apzdaPN7q9Oq"
      },
      "source": [
        "'''\n",
        "def Gauss(angles, h, mu, sigma):\n",
        "'''\n",
        "  #This function will take the variables for the Gaussian function and return the approximation of the Gaussian shape\n",
        "'''\n",
        "  return h*np.exp(-(((angles-mu)**2)/(2*(sigma)**2)))\n",
        "\n",
        "# Intial guess\n",
        "p0 = np.array([3600, 15.2, 0.8])\n",
        "# Defining the parameters of the Gaussian function and using the curve fit function\n",
        "popt, pcov = curve_fit(Gauss, angles, counts, p0)\n",
        "\n",
        "\n",
        "# Finding the gradient and intercept with associated errors\n",
        "m= popt[0]\n",
        "c= popt[1]\n",
        "dm= np.sqrt(pcov.diagonal()[0])\n",
        "dc= np.sqrt(pcov.diagonal()[1])\n",
        "print ('slope: ', popt[0], '+/-', np.sqrt(pcov.diagonal()[0]))\n",
        "print ('intercept: ', popt[1], '+/-', np.sqrt(pcov.diagonal()[1]))\n",
        "\n",
        "# Plotting the data\n",
        "plt.plot(angles, counts, 'b.')\n",
        "\n",
        "# Plotting the fit line\n",
        "angles_plot = np.linspace(min(angles),max(angles), num=100)\n",
        "y_data = Gauss(angles_plot, *popt)\n",
        "plt.plot(angles_plot, y_data, 'r-')\n",
        "\n",
        "plt.xlabel('Angle of diffraction (degrees)')\n",
        "plt.ylabel('Intensity (counts per second)')\n",
        "plt.title('Graph of Angle of diffraction as a function of intensity, with Gaussian Fit')\n",
        "plt.grid();\n",
        "'''"
      ],
      "execution_count": null,
      "outputs": []
    },
    {
      "cell_type": "markdown",
      "metadata": {
        "id": "S8bB5HuNhxl3"
      },
      "source": [
        "Q1b. The given dn /dm in ‘mv_function.txt’ might look slightly different, as there is a \n",
        "correction factor applied in order to obtain dn /dm. State the major contributing factor \n",
        "of this correction factor"
      ]
    },
    {
      "cell_type": "code",
      "metadata": {
        "id": "01D20Bn2h69f"
      },
      "source": [
        ""
      ],
      "execution_count": 7,
      "outputs": []
    },
    {
      "cell_type": "markdown",
      "metadata": {
        "id": "H1dRASKeh7Qf"
      },
      "source": [
        "Q1c. Using the mass calculated in Q1.a. and dn /dm in ‘mv_function.txt’, plot the \n",
        "mass function (e.g. m vs dn /dm), including the uncertainties of dn /dm. Fit this mass \n",
        "function with a power law, and evaluate the slope of this mass function."
      ]
    },
    {
      "cell_type": "code",
      "metadata": {
        "colab": {
          "base_uri": "https://localhost:8080/",
          "height": 279
        },
        "id": "ohdQuSi3iN74",
        "outputId": "60046de9-ec6d-450a-812c-3f3c1b1ea23d"
      },
      "source": [
        "# Plotting the mass, m, against the number density distribution, dn/dm\n",
        "plt.plot(ndd, mass, \"k.\", markersize=1)\n",
        "plt.errorbar(ndd, mass, xerr=ndd_err, alpha=0.5, fmt=\"none\", ecolor=\"red\")\n",
        "ylabel(\"Stellar mass\")\n",
        "xlabel(\"Number density distribution\")\n",
        "title('')\n",
        "grid();"
      ],
      "execution_count": 8,
      "outputs": [
        {
          "output_type": "display_data",
          "data": {
            "image/png": "[encoded data removed]",
            "text/plain": [
              "<Figure size 432x288 with 1 Axes>"
            ]
          },
          "metadata": {
            "needs_background": "light"
          }
        }
      ]
    },
    {
      "cell_type": "markdown",
      "metadata": {
        "id": "lCo3l0dNiOPm"
      },
      "source": [
        "Q1d. The slope of the initial mass function (IMF) is represented by a power of –2.35\n",
        "(or a= 2.35). Explain why the slope in the mass function 1.c. is slightly different from\n",
        "the IMF slope of –2.35."
      ]
    },
    {
      "cell_type": "code",
      "metadata": {
        "id": "Lf53vFW5iRwr"
      },
      "source": [
        ""
      ],
      "execution_count": 8,
      "outputs": []
    }
  ]
}