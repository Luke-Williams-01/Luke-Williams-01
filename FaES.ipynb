{
  "nbformat": 4,
  "nbformat_minor": 0,
  "metadata": {
    "colab": {
      "name": "FaES.ipynb",
      "provenance": [],
      "collapsed_sections": [],
      "authorship_tag": "ABX9TyPUeAr2lO9B5V2tQBHfR3AC",
      "include_colab_link": true
    },
    "kernelspec": {
      "name": "python3",
      "display_name": "Python 3"
    },
    "language_info": {
      "name": "python"
    }
  },
  "cells": [
    {
      "cell_type": "markdown",
      "metadata": {
        "id": "view-in-github",
        "colab_type": "text"
      },
      "source": [
        "<a href=\"https://colab.research.google.com/github/Luke-Williams-01/Luke-Williams-01/blob/main/FaES.ipynb\" target=\"_parent\"><img src=\"https://colab.research.google.com/assets/colab-badge.svg\" alt=\"Open In Colab\"/></a>"
      ]
    },
    {
      "cell_type": "markdown",
      "metadata": {
        "id": "q00CV7HY90Y7"
      },
      "source": [
        "Q1: The file, called ‘mv_function.txt’, on Learning Central contains a table of 1. \n",
        "spectral types, 2. absolute V-band magnitudes (MV in mag), 3. number densities (n in \n",
        "10-4 pc-3) and their uncertainties, 4. number density distribution dn /dm and their \n",
        "uncertainties of the field stars in the Solar neighbourhood."
      ]
    },
    {
      "cell_type": "markdown",
      "metadata": {
        "id": "_4gTaScT-HoU"
      },
      "source": [
        "Q1a. The empirical relation between stellar mass m and absolute magnitude MV relation for \n",
        "main sequence stars can be given by the following equation:\n",
        "log(m) = 0.4790 - 0.1219Mv + 0.004940Mv^2"
      ]
    },
    {
      "cell_type": "code",
      "metadata": {
        "id": "b-fWxE9Z_hbI"
      },
      "source": [
        "# Imports\n",
        "from pylab import *\n",
        "import numpy as np\n",
        "import matplotlib.pyplot as plt"
      ],
      "execution_count": null,
      "outputs": []
    },
    {
      "cell_type": "code",
      "metadata": {
        "colab": {
          "base_uri": "https://localhost:8080/"
        },
        "id": "q18ANF77Bdqm",
        "outputId": "80853114-1d40-4a7c-c1e9-dc5dac371ae4"
      },
      "source": [
        "# Spec = Spectral Types\n",
        "# Mv = absolute V band magnitudes\n",
        "# nd = number density\n",
        "# nd_err = uncertainty in number densities\n",
        "# ndd = number density distribution\n",
        "# ndd_err = number desnity distribution uncertainity\n",
        "\n",
        "# Reading in the data\n",
        "Spec, Mv, nd, nd_err, ndd, ndd_err = np.loadtxt('mv_function.txt', unpack = True, skiprows = 1, dtype = str)"
      ],
      "execution_count": null,
      "outputs": [
        {
          "output_type": "stream",
          "name": "stdout",
          "text": [
            "['A0V' 'A1V' 'A2V' 'A3V' 'A4V' 'A5V' 'A6V' 'A7V' 'A8V' 'A9V' 'F0V' 'F1V'\n",
            " 'F2V' 'F3V' 'F4V' 'F5V' 'F6V' 'F7V' 'F8V' 'F9V' 'G0V' 'G1V' 'G2V' 'G3V'\n",
            " 'G4V' 'G5V' 'G6V' 'G7V' 'G8V' 'G9V' 'K0V' 'K1V' 'K2V' 'K3V' 'K4V']\n"
          ]
        }
      ]
    },
    {
      "cell_type": "code",
      "metadata": {
        "id": "0ca-Wxd0QqPH"
      },
      "source": [
        "# Configuring the empirical equation\n",
        "\n",
        "log(m) = 0.4790 - 0.1219*Mv + 0.004940*(Mv**2)\n"
      ],
      "execution_count": null,
      "outputs": []
    }
  ]
}