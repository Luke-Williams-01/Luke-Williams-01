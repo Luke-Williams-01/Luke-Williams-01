{
  "nbformat": 4,
  "nbformat_minor": 0,
  "metadata": {
    "colab": {
      "name": "Galactic Modelling.ipynb",
      "provenance": [],
      "authorship_tag": "ABX9TyPLBXg7gVq0sbtwGvofiztm",
      "include_colab_link": true
    },
    "kernelspec": {
      "name": "python3",
      "display_name": "Python 3"
    },
    "language_info": {
      "name": "python"
    }
  },
  "cells": [
    {
      "cell_type": "markdown",
      "metadata": {
        "id": "view-in-github",
        "colab_type": "text"
      },
      "source": [
        "<a href=\"https://colab.research.google.com/github/Luke-Williams-01/Luke-Williams-01/blob/main/Galactic_Modelling.ipynb\" target=\"_parent\"><img src=\"https://colab.research.google.com/assets/colab-badge.svg\" alt=\"Open In Colab\"/></a>"
      ]
    },
    {
      "cell_type": "code",
      "execution_count": 1,
      "metadata": {
        "id": "P9nscjoSszjf"
      },
      "outputs": [],
      "source": [
        "# Imports Impound Lot\n",
        "import numpy as np\n",
        "import matplotlib.pyplot as plt\n",
        "from scipy.optimize import curve_fit"
      ]
    },
    {
      "cell_type": "code",
      "source": [
        "# Constants Casino\n",
        "Mtotal = 1E11\n",
        "Ttotal = 12E9\n",
        "Sft = 1E9\n",
        "TauSun = 10E9\n",
        "\n",
        "# Constant star formation rate\n",
        "SFR = Mtotal/Sft\n",
        "\n",
        "# Time elapsed array\n",
        "T = np.linspace(0, Ttotal, 12000)\n",
        "Tl = len(T)\n",
        "\n",
        "# Mass range array\n",
        "M = np.linspace(0.5, 25, 100)\n",
        "dM = M[1] - M[0]\n",
        "Ml = len(M)\n",
        "\n",
        "# Time of formation array\n",
        "Tform = np.arange(0, Sft, 1E7)\n",
        "dT = T[1] - T[0]\n",
        "Tfl = len(Tform)\n",
        "\n",
        "# Creating arrays for the V magnitude/BV colour data\n",
        "MagMass = np.array([0.8, 1, 1.25, 2, 3, 5, 9, 15, 25])\n",
        "Vmag = np.array([6.5, 4.93, 4.2, 1, -0.5, -1.4, -3.7, -4.3, -5.2])\n",
        "BVmag = np.array([1.02, 0.69, 0.59, 0.1, -0.12, -0.18, -0.3, -0.32, -0.32])\n",
        "\n",
        "print(dT)\n",
        "print(dM)\n",
        "print(SFR*Ttotal)\n",
        "print(T)\n"
      ],
      "metadata": {
        "id": "fcNS07ohuI2Y",
        "outputId": "fca444a7-d2b0-4778-9d56-de648040ab17",
        "colab": {
          "base_uri": "https://localhost:8080/"
        }
      },
      "execution_count": 2,
      "outputs": [
        {
          "output_type": "stream",
          "name": "stdout",
          "text": [
            "1000083.3402783566\n",
            "0.24747474747474751\n",
            "1200000000000.0\n",
            "[0.00000000e+00 1.00008334e+06 2.00016668e+06 ... 1.19979998e+10\n",
            " 1.19989999e+10 1.20000000e+10]\n"
          ]
        }
      ]
    },
    {
      "cell_type": "code",
      "source": [
        "# Functions Fort\n",
        "\n",
        "# IMF = E0 * M**-2.35 * M\n",
        "def Mtot(M):\n",
        "  return (M**(-1.35))\n",
        "\n",
        "# Number of stars = E0 * M**-2.35 * Ttotal * SFR\n",
        "def Nstar(M):\n",
        "    return (M**(-2.35)) * E0\n",
        "\n",
        "# Main sequence lifetime = TauSun * M**-2.5\n",
        "def Starlife(M):\n",
        "  return TauSun * (M**(-2.5))\n",
        "\n",
        "# Luminosity = M**a\n",
        "def Lumin(M, a):\n",
        "  return (M**a)"
      ],
      "metadata": {
        "id": "6AjXWOvFR8fI"
      },
      "execution_count": 3,
      "outputs": []
    },
    {
      "cell_type": "code",
      "source": [
        "# Finding how the number of stars evolves over time\n",
        "\n",
        "# Finding E0 = Mtotal/Mtot\n",
        "Int = Mtot(M)\n",
        "E0 = (SFR * dT)/np.sum(Int)\n",
        "print(E0)\n",
        "'''\n",
        "# Finding Number of stars per Mass interval\n",
        "Stnumb = np.zeros(Ml)\n",
        "for i in np.arange(0, Ml, 1):\n",
        "  Stnumb[i] = Nstar(M[i])\n",
        "\n",
        "# Star death\n",
        "Lifetime = Starlife(M)/dT\n",
        "print(Lifetime)\n",
        "Strbn\n",
        "'''\n",
        "# Number of stars per mass range, for any given time\n",
        "# i = Time\n",
        "# j = Mass\n",
        "\n",
        "\n",
        "Numb = np.zeros((Tl, Ml))\n",
        "MassT = np.zeros(Tl)\n",
        "Stnum = np.zeros(Tl)\n",
        "\n",
        "for i in range(Tl):\n",
        "  if (T[i] >= 1E9):\n",
        "    A = 0\n",
        "  else:\n",
        "    A = 1\n",
        "  for j in range(Ml):\n",
        "    if (T[i] >= Starlife(M[j])):\n",
        "      if Numb[i-1, j] > 0:\n",
        "        Deadstar = Nstar(M[j])\n",
        "      else:\n",
        "        Deadstar = 0\n",
        "    else:\n",
        "      Deadstar = 0\n",
        "    Numb[i, j] = Numb[i-1, j] + Nstar(M[j]) * A - Deadstar\n",
        "    if (Numb[i, j] < 0):\n",
        "      Numb[i, j] = 0\n",
        "  Stnum[i] = np.sum(Numb[i])\n",
        "  MassT[i] = np.sum(Numb[i] * M)\n",
        "'''\n",
        "print(Numb[0])\n",
        "print(dT/1E6)\n",
        "'''\n",
        "print((np.sum(Numb[0]*M))/1E10)\n",
        "print((np.sum(Numb[1]*M))/1E10)\n",
        "print((np.sum(Numb[2]*M))/1E10)\n"
      ],
      "metadata": {
        "colab": {
          "base_uri": "https://localhost:8080/"
        },
        "id": "W28-zndyQSYW",
        "outputId": "76a386ac-a9a6-4fba-aff9-b70ad25d72eb"
      },
      "execution_count": 4,
      "outputs": [
        {
          "output_type": "stream",
          "name": "stdout",
          "text": [
            "8070533.413736453\n",
            "0.010000833402783566\n",
            "0.02000166680556713\n",
            "0.030002500208350696\n"
          ]
        }
      ]
    },
    {
      "cell_type": "code",
      "source": [
        "# Number of stars over time\n",
        "plt.plot(T,Stnum)\n",
        "print(np.max(Stnum))"
      ],
      "metadata": {
        "id": "WKRj6D2igH2g",
        "outputId": "ec69652c-1593-4bed-90af-bdc74fb80b78",
        "colab": {
          "base_uri": "https://localhost:8080/",
          "height": 306
        }
      },
      "execution_count": 5,
      "outputs": [
        {
          "output_type": "stream",
          "name": "stdout",
          "text": [
            "81424333779.70656\n"
          ]
        },
        {
          "output_type": "display_data",
          "data": {
            "text/plain": [
              "<Figure size 432x288 with 1 Axes>"
            ],
            "image/png": "[encoded data removed]"
          },
          "metadata": {
            "needs_background": "light"
          }
        }
      ]
    },
    {
      "cell_type": "code",
      "source": [
        "# Mass evolution over time\n",
        "plt.plot(T,MassT)\n",
        "print(np.max(MassT))"
      ],
      "metadata": {
        "id": "qSoVamshgJpC",
        "outputId": "e19337ab-31aa-4d20-a031-cea61f8e3553",
        "colab": {
          "base_uri": "https://localhost:8080/",
          "height": 306
        }
      },
      "execution_count": 6,
      "outputs": [
        {
          "output_type": "stream",
          "name": "stdout",
          "text": [
            "70974400036.27557\n"
          ]
        },
        {
          "output_type": "display_data",
          "data": {
            "text/plain": [
              "<Figure size 432x288 with 1 Axes>"
            ],
            "image/png": "[encoded data removed]"
          },
          "metadata": {
            "needs_background": "light"
          }
        }
      ]
    },
    {
      "cell_type": "code",
      "source": [
        "# Finding the Luminosity evolution of the stars\n",
        "Lumb = np.zeros((Tl, Ml))\n",
        "LumT = np.zeros(Tl)\n",
        "\n",
        "for i in range(Tl):\n",
        "  for j in range(Ml):\n",
        "    if (M[j] >= 1):\n",
        "      a = 3.9\n",
        "    else:\n",
        "      a = 5\n",
        "    Lumb[i][j] = Numb[i][j] * Lumin(M[j],a)\n",
        "  LumT[i] = np.sum(Lumb[i])\n",
        "\n",
        "# Luminosity evolution over time\n",
        "plt.plot(T,LumT)\n",
        "print(LumT)\n",
        "print(np.max(LumT))"
      ],
      "metadata": {
        "id": "mx8LX6Dg5EgP",
        "colab": {
          "base_uri": "https://localhost:8080/",
          "height": 341
        },
        "outputId": "4d51ab8d-3a16-453b-c1dd-73f2014095e3"
      },
      "execution_count": 7,
      "outputs": [
        {
          "output_type": "stream",
          "name": "stdout",
          "text": [
            "[4.75338922e+10 9.50677844e+10 1.42601677e+11 ... 5.01772408e+09\n",
            " 5.01772408e+09 5.01772408e+09]\n",
            "987436760594.9504\n"
          ]
        },
        {
          "output_type": "display_data",
          "data": {
            "text/plain": [
              "<Figure size 432x288 with 1 Axes>"
            ],
            "image/png": "[encoded data removed]"
          },
          "metadata": {
            "needs_background": "light"
          }
        }
      ]
    },
    {
      "cell_type": "code",
      "source": [
        "# V magnitude and colour graphs\n",
        "\n",
        "# Curve fit this to find the colour\n",
        "def Vmagfit(x, *p):\n",
        "  return p[0] * np.exp(x**-p[1]) + p[2]\n",
        "\n",
        "Vmag_guess = np.array([8.435,0.279,-17.877])\n",
        "Vmagopt, Vmagcov = curve_fit(Vmagfit, MagMass, Vmag, Vmag_guess)\n",
        "\n",
        "# Plotting Curve-fitted mass against V magnitude graph\n",
        "\n",
        "plt.plot(MagMass, Vmag)\n",
        "plt.plot(M, Vmagfit(M, *Vmagopt))\n",
        "\n",
        "print(Vmagopt[0], Vmagopt[1], Vmagopt[2])"
      ],
      "metadata": {
        "id": "HU6b5x0oSg6r",
        "colab": {
          "base_uri": "https://localhost:8080/",
          "height": 282
        },
        "outputId": "564d5ea5-fd27-41d5-a082-68b09df48bf5"
      },
      "execution_count": 8,
      "outputs": [
        {
          "output_type": "stream",
          "name": "stdout",
          "text": [
            "8.434922553440567 0.2792188760096659 -17.87669803804364\n"
          ]
        },
        {
          "output_type": "display_data",
          "data": {
            "text/plain": [
              "<Figure size 432x288 with 1 Axes>"
            ],
            "image/png": "[encoded data removed]"
          },
          "metadata": {
            "needs_background": "light"
          }
        }
      ]
    },
    {
      "cell_type": "code",
      "source": [
        "Bmag = BVmag + Vmag\n",
        "\n",
        "def Bmagfit(x, *p):\n",
        "  return p[0] * np.exp(x**-p[1]) + p[2]\n",
        "\n",
        "Bmag_guess = np.array([8.77,0.319,-18.087])\n",
        "Bmagopt, Bmagcov = curve_fit(Bmagfit, MagMass, Bmag, Bmag_guess)\n",
        "\n",
        "plt.plot(MagMass, Bmag)\n",
        "plt.plot(M, Bmagfit(M, *Bmagopt))\n",
        "\n",
        "print(Bmagopt[0], Bmagopt[1], Bmagopt[2])"
      ],
      "metadata": {
        "id": "0Fy3Hnh68C0z",
        "outputId": "cf42c032-ed8c-42d3-b681-4a19076be570",
        "colab": {
          "base_uri": "https://localhost:8080/",
          "height": 282
        }
      },
      "execution_count": 9,
      "outputs": [
        {
          "output_type": "stream",
          "name": "stdout",
          "text": [
            "8.779886753933368 0.3194205332347948 -18.08697491649469\n"
          ]
        },
        {
          "output_type": "display_data",
          "data": {
            "text/plain": [
              "<Figure size 432x288 with 1 Axes>"
            ],
            "image/png": "[encoded data removed]"
          },
          "metadata": {
            "needs_background": "light"
          }
        }
      ]
    },
    {
      "cell_type": "code",
      "source": [
        "\n",
        "LumB = np.zeros((Tl,Ml))\n",
        "TimeB = np.zeros(Tl)\n",
        "\n",
        "# Using a for loop to calculate how the flux per star changes with mass and changes through time\n",
        "for i in range(Tl):\n",
        "  for j in range(Ml):\n",
        "    LumB[j] = Lumin[i] * 10**(0.4 * (Vmagfit(M, *Vmagopt) - Bmagfit(M, *Bmagopt)))\n",
        "\n",
        "print(len(LumB))\n"
      ],
      "metadata": {
        "id": "YIlWKmTggSws",
        "outputId": "284f869b-234a-4aa6-9626-44b016bc1999",
        "colab": {
          "base_uri": "https://localhost:8080/",
          "height": 53
        }
      },
      "execution_count": 10,
      "outputs": [
        {
          "output_type": "execute_result",
          "data": {
            "text/plain": [
              "'\\nLumB = np.zeros((Tl,Ml))\\nTimeB = np.zeros(Tl)\\n\\n# Using a for loop to calculate how the flux per star changes with mass and changes through time\\nfor i in range(Tl):\\n  for j in range(Ml):\\n    LumB[j] = Lumin[i] * 10**(0.4 * (Vmagfit(M, *Vmagopt) - Bmagfit(M, *Bmagopt)))\\n\\nprint(len(LumB))\\n'"
            ],
            "application/vnd.google.colaboratory.intrinsic+json": {
              "type": "string"
            }
          },
          "metadata": {},
          "execution_count": 10
        }
      ]
    }
  ]
}