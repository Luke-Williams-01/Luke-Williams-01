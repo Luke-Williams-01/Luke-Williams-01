{
  "nbformat": 4,
  "nbformat_minor": 0,
  "metadata": {
    "colab": {
      "name": "Galactic Modelling.ipynb",
      "provenance": [],
      "authorship_tag": "ABX9TyPhy2uCw3mskNU+U099VAqD",
      "include_colab_link": true
    },
    "kernelspec": {
      "name": "python3",
      "display_name": "Python 3"
    },
    "language_info": {
      "name": "python"
    }
  },
  "cells": [
    {
      "cell_type": "markdown",
      "metadata": {
        "id": "view-in-github",
        "colab_type": "text"
      },
      "source": [
        "<a href=\"https://colab.research.google.com/github/Luke-Williams-01/Luke-Williams-01/blob/main/Galactic_Modelling.ipynb\" target=\"_parent\"><img src=\"https://colab.research.google.com/assets/colab-badge.svg\" alt=\"Open In Colab\"/></a>"
      ]
    },
    {
      "cell_type": "code",
      "execution_count": 1,
      "metadata": {
        "id": "P9nscjoSszjf"
      },
      "outputs": [],
      "source": [
        "# Imports\n",
        "import numpy as np\n",
        "import matplotlib.pyplot as plt\n",
        "from scipy.optimize import curve_fit"
      ]
    },
    {
      "cell_type": "code",
      "source": [
        "# Constants Casino\n",
        "Mtotal = 1E11\n",
        "Ttotal = 12E9\n",
        "Sft = 1E9\n",
        "TauSun = 10E9\n",
        "\n",
        "# Constant star formation rate\n",
        "SFR = Mtotal/Sft\n",
        "\n",
        "# Time elapsed array\n",
        "T = np.linspace(0, Ttotal, 12000)\n",
        "dT = T[1] - T[0]\n",
        "Tl = len(T)\n",
        "\n",
        "# Mass range array\n",
        "M = np.linspace(0.5, 25, 200)\n",
        "dM = M[1] - M[0]\n",
        "Ml = len(M)\n",
        "\n",
        "# Creating arrays for the V magnitude/BV colour data\n",
        "MagMass = np.array([0.8, 1, 1.25, 2, 3, 5, 9, 15, 25])\n",
        "Vmag = np.array([6.5, 4.93, 4.2, 1, -0.5, -1.4, -3.7, -4.3, -5.2])\n",
        "BVmag = np.array([1.02, 0.69, 0.59, 0.1, -0.12, -0.18, -0.3, -0.32, -0.32])\n"
      ],
      "metadata": {
        "id": "fcNS07ohuI2Y"
      },
      "execution_count": 2,
      "outputs": []
    },
    {
      "cell_type": "code",
      "source": [
        "# Functions\n",
        "\n",
        "# IMF = E0 * M**-2.35 * M\n",
        "def Mtot(M):\n",
        "  return (M**(-1.35))\n",
        "\n",
        "# Number of stars = E0 * M**-2.35 * Ttotal * SFR\n",
        "def Nstar(M):\n",
        "    return (M**(-2.35)) * E0\n",
        "\n",
        "# Main sequence lifetime = TauSun * M**-2.5\n",
        "def Starlife(M):\n",
        "  return TauSun * (M**(-2.5))\n",
        "\n",
        "# Luminosity = M**a\n",
        "def Lumin(M, a):\n",
        "  return (M**a)"
      ],
      "metadata": {
        "id": "6AjXWOvFR8fI"
      },
      "execution_count": 3,
      "outputs": []
    },
    {
      "cell_type": "code",
      "source": [
        "# Finding how the number and mass of stars evolves over time\n",
        "\n",
        "# Finding E0\n",
        "Int = Mtot(M)\n",
        "E0 = (SFR * dT)/np.sum(Int)\n",
        "print(E0)\n",
        "\n",
        "# Arrays of zeroes to fill with Number of stars and Mass of stars\n",
        "Numb = np.zeros((Tl, Ml))\n",
        "MassT = np.zeros(Tl)\n",
        "Stnum = np.zeros(Tl)\n",
        "\n",
        "# Nested for loops to find the number of stars for any given time within the mass intervals\n",
        "# i = Time\n",
        "# j = Mass\n",
        "for i in range(Tl):\n",
        "  # A factor to switch star formation off after 1E9 years have passed\n",
        "  if (T[i] >= 1E9):\n",
        "    A = 0\n",
        "  else:\n",
        "    A = 1\n",
        "  for j in range(Ml):\n",
        "    # Determing the main sequence lifetime of stars for each mass interval\n",
        "    if (T[i] >= Starlife(M[j])):\n",
        "      # Calculating the deaths of stars over time for each mass interval\n",
        "      if Numb[i-1, j] > 0:\n",
        "        Deadstar = Nstar(M[j])\n",
        "      else:\n",
        "        Deadstar = 0\n",
        "    else:\n",
        "      Deadstar = 0\n",
        "    # Total number of stars for any given time and any given mass range\n",
        "    Numb[i, j] = Numb[i-1, j] + Nstar(M[j]) * A - Deadstar\n",
        "    # If statement to ensure the star formation ceases at 0\n",
        "    if (Numb[i, j] < 0):\n",
        "      Numb[i, j] = 0\n",
        "  # Calling star number to the star number zeroes array\n",
        "  Stnum[i] = np.sum(Numb[i])\n",
        "  # Calling mass number to the mass number zeroes array\n",
        "  MassT[i] = np.sum(Numb[i] * M)"
      ],
      "metadata": {
        "colab": {
          "base_uri": "https://localhost:8080/"
        },
        "id": "W28-zndyQSYW",
        "outputId": "e4275973-faec-4747-fafc-76281264e372"
      },
      "execution_count": 4,
      "outputs": [
        {
          "output_type": "stream",
          "name": "stdout",
          "text": [
            "4272451.723366982\n"
          ]
        }
      ]
    },
    {
      "cell_type": "code",
      "source": [
        "# Plotting the number of stars over time\n",
        "plt.figure(figsize = (10,8))\n",
        "plt.plot(T, Stnum, 'k')\n",
        "plt.xlabel('Time elapsed (1E10 yrs)')\n",
        "plt.ylabel('Number of Stars')\n",
        "print(np.max(Stnum))"
      ],
      "metadata": {
        "id": "WKRj6D2igH2g",
        "outputId": "e8e224a4-4b5b-486d-a1c4-1ddf5ec018d6",
        "colab": {
          "base_uri": "https://localhost:8080/",
          "height": 525
        }
      },
      "execution_count": 5,
      "outputs": [
        {
          "output_type": "stream",
          "name": "stdout",
          "text": [
            "72641095166.67694\n"
          ]
        },
        {
          "output_type": "display_data",
          "data": {
            "text/plain": [
              "<Figure size 720x576 with 1 Axes>"
            ],
            "image/png": "[encoded data removed]"
          },
          "metadata": {
            "needs_background": "light"
          }
        }
      ]
    },
    {
      "cell_type": "code",
      "source": [
        "# Plotting the mass evolution over time\n",
        "plt.figure(figsize = (10,8))\n",
        "plt.plot(T, MassT, 'k')\n",
        "plt.xlabel('Time elapsed (1E10 yrs)')\n",
        "plt.ylabel('Mass of stars formed (Msolar)')\n",
        "print(np.max(MassT))"
      ],
      "metadata": {
        "id": "qSoVamshgJpC",
        "outputId": "2c3adf30-2cd6-4a6d-87f0-c3d875282348",
        "colab": {
          "base_uri": "https://localhost:8080/",
          "height": 525
        }
      },
      "execution_count": 6,
      "outputs": [
        {
          "output_type": "stream",
          "name": "stdout",
          "text": [
            "69114142078.855\n"
          ]
        },
        {
          "output_type": "display_data",
          "data": {
            "text/plain": [
              "<Figure size 720x576 with 1 Axes>"
            ],
            "image/png": "[encoded data removed]"
          },
          "metadata": {
            "needs_background": "light"
          }
        }
      ]
    },
    {
      "cell_type": "code",
      "source": [
        "# Finding how the luminosity of the stars evolves over time\n",
        "\n",
        "# Arrays of zeroes to fill with luminosity of the stars\n",
        "Lumb = np.zeros((Tl, Ml))\n",
        "LumT = np.zeros(Tl)\n",
        "\n",
        "# Nested for loops to find how the luminosity changes with mass intervals ovet the elapsed time\n",
        "# i = Time\n",
        "# j = Mass\n",
        "for i in range(Tl):\n",
        "  for j in range(Ml):\n",
        "    # Luminosity equation changes power law with mass interval, a = 3.9 up to solar mass of 1, a = 5 thereafter\n",
        "    if (M[j] >= 1):\n",
        "      a = 3.9\n",
        "    else:\n",
        "      a = 5\n",
        "    # Number of stars of each mass interval over the elapsed time, called from previous multiplied by the luminosity at the mass and time interval\n",
        "    Lumb[i, j] = Numb[i, j] * Lumin(M[j],a)\n",
        "  # Calling luminosity to the luminosity through time zeroes array\n",
        "  LumT[i] = np.sum(Lumb[i])"
      ],
      "metadata": {
        "id": "mx8LX6Dg5EgP"
      },
      "execution_count": 7,
      "outputs": []
    },
    {
      "cell_type": "code",
      "source": [
        "# Plotting the luminosity evolution over time\n",
        "plt.figure(figsize = (10,8))\n",
        "plt.plot(T, LumT, 'k')\n",
        "plt.xlabel('Time elapsed (1E10 yrs)')\n",
        "plt.ylabel('Luminosity (Lsolar)')\n",
        "print(np.max(LumT[i]))"
      ],
      "metadata": {
        "id": "0WKNJ23T1IzR",
        "outputId": "c9f6d8ed-8950-4f86-972b-e7e5cf3599b4",
        "colab": {
          "base_uri": "https://localhost:8080/",
          "height": 525
        }
      },
      "execution_count": 8,
      "outputs": [
        {
          "output_type": "stream",
          "name": "stdout",
          "text": [
            "6815492615.360878\n"
          ]
        },
        {
          "output_type": "display_data",
          "data": {
            "text/plain": [
              "<Figure size 720x576 with 1 Axes>"
            ],
            "image/png": "[encoded data removed]"
          },
          "metadata": {
            "needs_background": "light"
          }
        }
      ]
    },
    {
      "cell_type": "code",
      "source": [
        "# B/V magnitude and colour graphs\n",
        "\n",
        "# Curve fit this to find the colour\n",
        "def Vmagfit(x, *p):\n",
        "  return p[0] * np.exp(x**-p[1]) + p[2]\n",
        "Vmag_guess = np.array([1,3,1])\n",
        "Vmagopt, Vmagcov = curve_fit(Vmagfit, MagMass, Vmag, Vmag_guess)\n",
        "\n",
        "#plt.plot(MagMass, Vmag)\n",
        "#plt.plot(M, Vmagfit(M, *Vmagopt))\n",
        "print(Vmagopt[0], Vmagopt[1], Vmagopt[2])\n",
        "\n",
        "Bmag = BVmag + Vmag\n",
        "def Bmagfit(x, *p):\n",
        "  return p[0] * np.exp(x**-p[1]) + p[2]\n",
        "Bmag_guess = np.array([1,3,1])\n",
        "Bmagopt, Bmagcov = curve_fit(Bmagfit, MagMass, Bmag, Bmag_guess)\n",
        "\n",
        "#plt.plot(MagMass, Bmag)\n",
        "#plt.plot(M, Bmagfit(M, *Bmagopt))\n",
        "print(Bmagopt[0], Bmagopt[1], Bmagopt[2])"
      ],
      "metadata": {
        "id": "HU6b5x0oSg6r",
        "colab": {
          "base_uri": "https://localhost:8080/"
        },
        "outputId": "040a9eab-fec9-4130-87e0-fc2e21d6be6f"
      },
      "execution_count": 9,
      "outputs": [
        {
          "output_type": "stream",
          "name": "stdout",
          "text": [
            "8.434922309791974 0.2792188906745426 -17.876697368094113\n",
            "8.779885582095154 0.31942061849210884 -18.08697166964065\n"
          ]
        },
        {
          "output_type": "stream",
          "name": "stderr",
          "text": [
            "/usr/local/lib/python3.7/dist-packages/ipykernel_launcher.py:5: RuntimeWarning: overflow encountered in exp\n",
            "  \"\"\"\n",
            "/usr/local/lib/python3.7/dist-packages/ipykernel_launcher.py:15: RuntimeWarning: overflow encountered in exp\n",
            "  from ipykernel import kernelapp as app\n"
          ]
        }
      ]
    },
    {
      "cell_type": "code",
      "source": [
        "'''\n",
        "LumB = np.zeros(Tl)\n",
        "TimeB = np.zeros(Tl)\n",
        "Luma = Lumb[0]\n",
        "print(Luma)\n",
        "\n",
        "# Using a for loop to calculate how the flux per star changes with mass and changes through time\n",
        "for i in range(Tl):\n",
        "  for j in range(Ml):\n",
        "    LumB[j] = Lumb[j] * 10**(0.4 * (Vmagfit(M[j], *Vmagopt) - Bmagfit(M[j], *Bmagopt)))\n",
        "  TimeB[i] = np.sum(Numb[i,] * LumB)/LumB[i]\n",
        "'''"
      ],
      "metadata": {
        "id": "YIlWKmTggSws",
        "outputId": "786e3f59-db4c-425a-defe-b5db658223f3",
        "colab": {
          "base_uri": "https://localhost:8080/",
          "height": 53
        }
      },
      "execution_count": 10,
      "outputs": [
        {
          "output_type": "execute_result",
          "data": {
            "text/plain": [
              "'\\nLumB = np.zeros(Tl)\\nTimeB = np.zeros(Tl)\\nLuma = Lumb[0]\\nprint(Luma)\\n\\n# Using a for loop to calculate how the flux per star changes with mass and changes through time\\nfor i in range(Tl):\\n  for j in range(Ml):\\n    LumB[j] = Lumb[j] * 10**(0.4 * (Vmagfit(M[j], *Vmagopt) - Bmagfit(M[j], *Bmagopt)))\\n  TimeB[i] = np.sum(Numb[i,] * LumB)/LumB[i]\\n'"
            ],
            "application/vnd.google.colaboratory.intrinsic+json": {
              "type": "string"
            }
          },
          "metadata": {},
          "execution_count": 10
        }
      ]
    },
    {
      "cell_type": "code",
      "source": [
        "'''\n",
        "fluxRatio = 100**((Vmagfit(M, *Vmagopt) - Bmagfit(M, *Bmagopt))/5)\n",
        "LumB = \n",
        "\n",
        "for k in range(Tl):\n",
        "  LumB[k] = Lumb[k] * fluxRatio[k]\n",
        "'''"
      ],
      "metadata": {
        "id": "drfkO70gvvxN",
        "outputId": "b31bd763-3e5e-4539-c348-fba01795c45e",
        "colab": {
          "base_uri": "https://localhost:8080/",
          "height": 35
        }
      },
      "execution_count": 11,
      "outputs": [
        {
          "output_type": "execute_result",
          "data": {
            "text/plain": [
              "'\\nfluxRatio = 100**((Vmagfit(M, *Vmagopt) - Bmagfit(M, *Bmagopt))/5)\\nLumB = \\n\\nfor k in range(Tl):\\n  LumB[k] = Lumb[k] * fluxRatio[k]\\n'"
            ],
            "application/vnd.google.colaboratory.intrinsic+json": {
              "type": "string"
            }
          },
          "metadata": {},
          "execution_count": 11
        }
      ]
    },
    {
      "cell_type": "code",
      "source": [
        "'''\n",
        "MagBgal = np.zeros(Tl)\n",
        "MagVgal = np.zeros(Tl)\n",
        "\n",
        "for k in range(Tl):\n",
        "  MagBgal[k] = Bmagfit(M[k], *Bmagopt) + 2.5 * np.log(1/TimeB[k])\n",
        "  MagVgal[k] = Vmagfit(M[k], *Vmagopt) + 2.5 * np.log(1/TimeV[k])\n",
        "\n",
        "MagBVgal = MagBgal - MagVgal\n",
        "\n",
        "plt.plot(T, MagBgal)\n",
        "#plt.plot(T, MagVgal)\n",
        "#plt.plot(T, MagBVgal)\n",
        "'''"
      ],
      "metadata": {
        "id": "XwzaWBTjjviU",
        "outputId": "45524d6d-bc9d-4262-c780-867296d7e480",
        "colab": {
          "base_uri": "https://localhost:8080/",
          "height": 53
        }
      },
      "execution_count": 12,
      "outputs": [
        {
          "output_type": "execute_result",
          "data": {
            "text/plain": [
              "'\\nMagBgal = np.zeros(Tl)\\nMagVgal = np.zeros(Tl)\\n\\nfor k in range(Tl):\\n  MagBgal[k] = Bmagfit(M[k], *Bmagopt) + 2.5 * np.log(1/TimeB[k])\\n  MagVgal[k] = Vmagfit(M[k], *Vmagopt) + 2.5 * np.log(1/TimeV[k])\\n\\nMagBVgal = MagBgal - MagVgal\\n\\nplt.plot(T, MagBgal)\\n#plt.plot(T, MagVgal)\\n#plt.plot(T, MagBVgal)\\n'"
            ],
            "application/vnd.google.colaboratory.intrinsic+json": {
              "type": "string"
            }
          },
          "metadata": {},
          "execution_count": 12
        }
      ]
    },
    {
      "cell_type": "code",
      "source": [
        "# Relationship between magnitude and flux is given by:\n",
        "# VmagGal = MagAV + 2.5*np.log(Fav/Fgal)\n",
        "# Fgal and Fav are related via Fgal = Fav * M\n",
        "# MagAV - absolute V magnitude, Fav - absolute V flux, Fgal - Galactic flux\n",
        "\n",
        "# Select a standard 'star'\n"
      ],
      "metadata": {
        "id": "CI81k7x9poHi"
      },
      "execution_count": 13,
      "outputs": []
    }
  ]
}