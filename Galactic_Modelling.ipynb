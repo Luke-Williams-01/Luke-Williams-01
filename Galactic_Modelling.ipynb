{
  "nbformat": 4,
  "nbformat_minor": 0,
  "metadata": {
    "colab": {
      "name": "Galactic Modelling.ipynb",
      "provenance": [],
      "authorship_tag": "ABX9TyOGq6hE7ORrcHUu4nJk3U5h",
      "include_colab_link": true
    },
    "kernelspec": {
      "name": "python3",
      "display_name": "Python 3"
    },
    "language_info": {
      "name": "python"
    }
  },
  "cells": [
    {
      "cell_type": "markdown",
      "metadata": {
        "id": "view-in-github",
        "colab_type": "text"
      },
      "source": [
        "<a href=\"https://colab.research.google.com/github/Luke-Williams-01/Luke-Williams-01/blob/main/Galactic_Modelling.ipynb\" target=\"_parent\"><img src=\"https://colab.research.google.com/assets/colab-badge.svg\" alt=\"Open In Colab\"/></a>"
      ]
    },
    {
      "cell_type": "code",
      "execution_count": 1,
      "metadata": {
        "id": "P9nscjoSszjf"
      },
      "outputs": [],
      "source": [
        "# Imports\n",
        "import numpy as np\n",
        "import matplotlib.pyplot as plt\n",
        "from scipy import integrate\n",
        "from scipy.optimize import curve_fit"
      ]
    },
    {
      "cell_type": "code",
      "source": [
        "# Constants\n",
        "Mtotal = 1E11\n",
        "Ttotal = 12E9\n",
        "Sft = 1E9\n",
        "TauSun = 10E9\n",
        "\n",
        "# Constant star formation rate\n",
        "SFR = Mtotal/Sft\n",
        "\n",
        "# Time elapsed array\n",
        "T = np.linspace(0, Ttotal, 12000)\n",
        "Tl = len(T)\n",
        "\n",
        "# Mass range array\n",
        "M = np.linspace(0.5, 25, 100)\n",
        "dM = M[1] - M[0]\n",
        "Ml = len(M)\n",
        "\n",
        "# Time of formation array\n",
        "Tform = np.arange(0, Sft, 1E7)\n",
        "dT = Tform[1] - Tform[0]\n",
        "Tfl = len(Tform)\n"
      ],
      "metadata": {
        "id": "fcNS07ohuI2Y"
      },
      "execution_count": 2,
      "outputs": []
    },
    {
      "cell_type": "code",
      "source": [
        "# Finding how the number of stars evolves over time\n",
        "\n",
        "# Finding E0 = Mtotal/Mtot\n",
        "def Mtot(M):\n",
        "  return (M**(-1.35))\n",
        "\n",
        "Int = Mtot(M)*dM\n",
        "E0 = (SFR * dT)/np.sum(Int)\n",
        "print(E0)\n",
        "\n",
        "# Finding Number of stars per Mass interval\n",
        "Stnumb = np.zeros(Ml)\n",
        "\n",
        "def Nstar(M):\n",
        "    return (M**(-2.35)) * E0 * dM\n",
        "\n",
        "for i in np.arange(0, Ml, 1):\n",
        "  Stnumb[i] = Nstar(M[i])\n",
        "\n",
        "# Number of stars per mass range, for any given time\n",
        "# i = Time\n",
        "# j = Mass\n",
        "\n",
        "NumMas = Ml\n",
        "NumT = Tl\n",
        "\n",
        "Numb = np.zeros((NumT, NumMas))\n",
        "MassT = np.zeros(Tl)\n",
        "\n",
        "for i in range(Tl):\n",
        "  if (T >= 1E9)\n",
        "  \n",
        "\n",
        "  for j in range(Ml):\n",
        "    Numb[i][j] = Numb[i-1][j] + Nstar(M[j])\n",
        "  MassT[i] = np.sum(Numb[i] * M)\n",
        "\n",
        "plt.plot(MassT)\n",
        "\n",
        "\n",
        "\n",
        "'''\n",
        "N=[]\n",
        "j=0\n",
        "for i in range(0,len(Stnumb)):\n",
        "    j+=Stnumb[i]  * M[i]\n",
        "    N.append(j)\n",
        "     \n",
        "print(N)\n",
        "\n",
        "plt.plot(Tform, N)\n",
        "'''"
      ],
      "metadata": {
        "colab": {
          "base_uri": "https://localhost:8080/",
          "height": 537
        },
        "id": "W28-zndyQSYW",
        "outputId": "69ee5292-6d04-4571-8422-8fb7ec2945e3"
      },
      "execution_count": 7,
      "outputs": [
        {
          "output_type": "stream",
          "name": "stdout",
          "text": [
            "326088255.5343859\n",
            "[[4.11421077e+08 1.59924210e+08 8.16645574e+07 ... 4.38647221e+04\n",
            "  4.28410586e+04 4.18511144e+04]\n",
            " [8.22842155e+08 3.19848419e+08 1.63329115e+08 ... 8.77294443e+04\n",
            "  8.56821171e+04 8.37022288e+04]\n",
            " [1.23426323e+09 4.79772629e+08 2.44993672e+08 ... 1.31594166e+05\n",
            "  1.28523176e+05 1.25553343e+05]\n",
            " ...\n",
            " [4.93623009e+12 1.91877067e+12 9.79811360e+11 ... 5.26288936e+08\n",
            "  5.14007021e+08 5.02129671e+08]\n",
            " [4.93664151e+12 1.91893059e+12 9.79893025e+11 ... 5.26332801e+08\n",
            "  5.14049862e+08 5.02171522e+08]\n",
            " [4.93705293e+12 1.91909052e+12 9.79974689e+11 ... 5.26376666e+08\n",
            "  5.14092703e+08 5.02213373e+08]]\n"
          ]
        },
        {
          "output_type": "execute_result",
          "data": {
            "text/plain": [
              "'\\nN=[]\\nj=0\\nfor i in range(0,len(Stnumb)):\\n    j+=Stnumb[i]  * M[i]\\n    N.append(j)\\n     \\nprint(N)\\n\\nplt.plot(Tform, N)\\n'"
            ],
            "application/vnd.google.colaboratory.intrinsic+json": {
              "type": "string"
            }
          },
          "metadata": {},
          "execution_count": 7
        },
        {
          "output_type": "display_data",
          "data": {
            "text/plain": [
              "<Figure size 432x288 with 1 Axes>"
            ],
            "image/png": "[encoded data removed]"
          },
          "metadata": {
            "needs_background": "light"
          }
        }
      ]
    },
    {
      "cell_type": "code",
      "source": [
        "# Finding the Luminosity evolution of the stars\n"
      ],
      "metadata": {
        "id": "mx8LX6Dg5EgP"
      },
      "execution_count": 4,
      "outputs": []
    },
    {
      "cell_type": "code",
      "source": [
        "# V magnitude and colour graphs\n",
        "\n",
        "# Creating arrays for the V magnitude/BV colour data\n",
        "MagMass = np.array([0.8, 1, 1.25, 2, 3, 5, 9, 15, 25])\n",
        "Vmag = np.array([6.5, 4.93, 4.2, 1, -0.5, -1.4, -3.7, -4.3, -5.2])\n",
        "BVmag = np.array([1.02, 0.69, 0.59, 0.1, -0.12, -0.18, -0.3, -0.32, -0.32])\n",
        "\n",
        "\n",
        "# "
      ],
      "metadata": {
        "id": "HU6b5x0oSg6r"
      },
      "execution_count": 5,
      "outputs": []
    }
  ]
}