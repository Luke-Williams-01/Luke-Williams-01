{
  "nbformat": 4,
  "nbformat_minor": 0,
  "metadata": {
    "colab": {
      "name": "Project Data analysis2.ipynb",
      "provenance": [],
      "authorship_tag": "ABX9TyOZzl54512B2zM2blPW8Biw",
      "include_colab_link": true
    },
    "kernelspec": {
      "name": "python3",
      "display_name": "Python 3"
    },
    "language_info": {
      "name": "python"
    }
  },
  "cells": [
    {
      "cell_type": "markdown",
      "metadata": {
        "id": "view-in-github",
        "colab_type": "text"
      },
      "source": [
        "<a href=\"https://colab.research.google.com/github/Luke-Williams-01/Luke-Williams-01/blob/main/Project_Data_analysis2.ipynb\" target=\"_parent\"><img src=\"https://colab.research.google.com/assets/colab-badge.svg\" alt=\"Open In Colab\"/></a>"
      ]
    },
    {
      "cell_type": "code",
      "execution_count": null,
      "metadata": {
        "id": "iAtYYr10ONXo"
      },
      "outputs": [],
      "source": [
        "# Imports\n",
        "from pylab import *\n",
        "import numpy as np\n",
        "import matplotlib.pyplot as plt\n",
        "from scipy.optimize import curve_fit"
      ]
    },
    {
      "cell_type": "code",
      "source": [
        "# Reading in the data\n",
        "\n",
        "# Phase: -28, 15/02/17\n",
        "\n",
        "\n",
        "# Phase: -20, 15/02/27\n",
        "\n",
        "\n",
        "# Phase: -8, 15/03/11\n",
        "\n",
        "\n",
        "# Phase: -2, 15/03/18\n",
        "\n",
        "\n",
        "# Phase: +7, 15/03/27\n",
        "\n",
        "\n",
        "# Phase: +20, 15/04/11\n",
        "\n"
      ],
      "metadata": {
        "id": "_xhCwJOwOriY"
      },
      "execution_count": null,
      "outputs": []
    },
    {
      "cell_type": "code",
      "source": [
        "# Mean wavelength for each absorption trough for each dataset\n",
        "\n",
        "# Mean flux for each absorption trough for each dataset\n",
        "\n",
        "# Mean equivalent width for each absorption trough for each dataset\n",
        "\n",
        "# Mean full-width half maximum for each absorption trough for each dataset\n"
      ],
      "metadata": {
        "id": "kP_IDv6VYjMH"
      },
      "execution_count": null,
      "outputs": []
    },
    {
      "cell_type": "code",
      "source": [
        "# Velocity calculation for each absorption trough for each dataset\n",
        "\n"
      ],
      "metadata": {
        "id": "BDKOkZLCY_6F"
      },
      "execution_count": null,
      "outputs": []
    },
    {
      "cell_type": "code",
      "source": [
        ""
      ],
      "metadata": {
        "id": "Kx-Nwfm4ZGkl"
      },
      "execution_count": null,
      "outputs": []
    }
  ]
}