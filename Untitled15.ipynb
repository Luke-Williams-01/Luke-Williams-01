{
  "nbformat": 4,
  "nbformat_minor": 0,
  "metadata": {
    "colab": {
      "name": "Untitled15.ipynb",
      "provenance": [],
      "collapsed_sections": [],
      "authorship_tag": "ABX9TyNErG4jZiO7il+d7AQWYwQ/",
      "include_colab_link": true
    },
    "kernelspec": {
      "name": "python3",
      "display_name": "Python 3"
    },
    "language_info": {
      "name": "python"
    }
  },
  "cells": [
    {
      "cell_type": "markdown",
      "metadata": {
        "id": "view-in-github",
        "colab_type": "text"
      },
      "source": [
        "<a href=\"https://colab.research.google.com/github/Luke-Williams-01/Luke-Williams-01/blob/main/Untitled15.ipynb\" target=\"_parent\"><img src=\"https://colab.research.google.com/assets/colab-badge.svg\" alt=\"Open In Colab\"/></a>"
      ]
    },
    {
      "cell_type": "code",
      "execution_count": null,
      "metadata": {
        "id": "Wjx2hVqi04EN"
      },
      "outputs": [],
      "source": [
        "# Imports\n",
        "import numpy as np\n",
        "import matplotlib.pyplot as plt\n",
        "from scipy.optimize import curve_fit\n",
        "from scipy.integrate import simps\n",
        "from scipy import stats, interpolate\n",
        "from astropy.cosmology import FlatLambdaCDM"
      ]
    },
    {
      "cell_type": "code",
      "source": [
        "a = np.log(np.linspace(0, 10, 100))\n",
        "b = np.linspace(0, 10, 100)\n",
        "plt.plot(a,b)\n",
        "\n",
        "x_arr0 = a\n",
        "y_arr0 = b\n",
        "dx0 = (x_arr0[99] - x_arr0[1]) / len(x_arr0[1:99])\n",
        "areas0 = np.trapz(y_arr0[1:99])\n",
        "mHIpred0 = areas0\n",
        "print(mHIpred0)"
      ],
      "metadata": {
        "colab": {
          "base_uri": "https://localhost:8080/",
          "height": 337
        },
        "id": "2i9MelFR1Dqt",
        "outputId": "11bd1e3e-de22-48a0-c99d-83da91efdba2"
      },
      "execution_count": null,
      "outputs": [
        {
          "output_type": "stream",
          "name": "stdout",
          "text": [
            "485.0\n"
          ]
        },
        {
          "output_type": "stream",
          "name": "stderr",
          "text": [
            "/usr/local/lib/python3.7/dist-packages/ipykernel_launcher.py:1: RuntimeWarning: divide by zero encountered in log\n",
            "  \"\"\"Entry point for launching an IPython kernel.\n"
          ]
        },
        {
          "output_type": "display_data",
          "data": {
            "text/plain": [
              "<Figure size 432x288 with 1 Axes>"
            ],
            "image/png": "[encoded data removed]"
          },
          "metadata": {
            "needs_background": "light"
          }
        }
      ]
    },
    {
      "cell_type": "code",
      "source": [
        "x1 = np.array([ 0,1.41162716 , 2.82325431 , 4.23488147 , 5.64650862  ,7.05813578,\n",
        "  8.46976293  ,9.88139009, 11.29301724, 12.7046444 , 14.11627156, 15.52789871,\n",
        " 16.93952587 ,18.35115302, 19.76278018, 21.17440733])\n",
        "\n",
        "y1 = np.array([ 7.40721821e-01 , 7.40721821e-01 , 7.65351844e-01 , 7.38757575e-01,\n",
        "  7.17482434e-01 , 6.45644273e-01,  5.52287281e-01 , 4.30358900e-01,\n",
        "  3.11435968e-01,  1.62456865e-01,  1.21865608e-03 ,-1.91311768e-01,\n",
        " -4.34018845e-01, -6.98970004e-01 ,-9.63921164e-01, -1.22887232e+00])\n",
        "\n",
        "plt.plot(x1, 10**y1, 'k.-')"
      ],
      "metadata": {
        "colab": {
          "base_uri": "https://localhost:8080/",
          "height": 282
        },
        "id": "lQrsGGGi-mjQ",
        "outputId": "e31e7859-5834-4b64-91dc-08dffba78261"
      },
      "execution_count": null,
      "outputs": [
        {
          "output_type": "execute_result",
          "data": {
            "text/plain": [
              "[<matplotlib.lines.Line2D at 0x7efe016d5790>]"
            ]
          },
          "metadata": {},
          "execution_count": 3
        },
        {
          "output_type": "display_data",
          "data": {
            "text/plain": [
              "<Figure size 432x288 with 1 Axes>"
            ],
            "image/png": "[encoded data removed]"
          },
          "metadata": {
            "needs_background": "light"
          }
        }
      ]
    }
  ]
}