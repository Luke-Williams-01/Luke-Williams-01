{
  "nbformat": 4,
  "nbformat_minor": 0,
  "metadata": {
    "colab": {
      "name": "Project Data analysis2.ipynb",
      "provenance": [],
      "collapsed_sections": [],
      "authorship_tag": "ABX9TyPNU5CXg4ZyHabkibtO3BRN",
      "include_colab_link": true
    },
    "kernelspec": {
      "name": "python3",
      "display_name": "Python 3"
    },
    "language_info": {
      "name": "python"
    }
  },
  "cells": [
    {
      "cell_type": "markdown",
      "metadata": {
        "id": "view-in-github",
        "colab_type": "text"
      },
      "source": [
        "<a href=\"https://colab.research.google.com/github/Luke-Williams-01/Luke-Williams-01/blob/main/Project_Data_analysis2.ipynb\" target=\"_parent\"><img src=\"https://colab.research.google.com/assets/colab-badge.svg\" alt=\"Open In Colab\"/></a>"
      ]
    },
    {
      "cell_type": "code",
      "execution_count": 7,
      "metadata": {
        "id": "iAtYYr10ONXo"
      },
      "outputs": [],
      "source": [
        "# Imports\n",
        "from pylab import *\n",
        "import numpy as np\n",
        "import matplotlib.pyplot as plt\n",
        "from scipy.optimize import curve_fit"
      ]
    },
    {
      "cell_type": "code",
      "source": [
        "# Reading in the data\n",
        "\n",
        "# Phase: -28, 15/02/17\n",
        "A, F, E, G = np.loadtxt('Combined0217.txt', usecols= [0,1,2,3], unpack = True, skiprows = 1, dtype = float)\n",
        "A1 = np.array_split(A, (len(A)/3))\n",
        "F1 = np.array_split(F, (len(F)/3))\n",
        "E1 = np.array_split(E, (len(E)/3))\n",
        "G1 = np.array_split(G, (len(G)/3))\n",
        "\n",
        "\n",
        "# Phase: -20, 15/02/25\n",
        "A, F, E, G = np.loadtxt('Combined0225.txt', usecols= [0,1,2,3], unpack = True, skiprows = 1, dtype = float)\n",
        "A2 = np.array_split(A, (len(A)/3))\n",
        "F2 = np.array_split(F, (len(F)/3))\n",
        "E2 = np.array_split(E, (len(E)/3))\n",
        "G2 = np.array_split(G, (len(G)/3))\n",
        "\n",
        "# Phase: -8, 15/03/11\n",
        "A, F, E, G = np.loadtxt('Combined0311.txt', usecols= [0,1,2,3], unpack = True, skiprows = 1, dtype = float)\n",
        "A3 = np.array_split(A, (len(A)/3))\n",
        "F3 = np.array_split(F, (len(F)/3))\n",
        "E3 = np.array_split(E, (len(E)/3))\n",
        "G3 = np.array_split(G, (len(G)/3))\n",
        "\n",
        "# Phase: -2, 15/03/18\n",
        "A, F, E, G = np.loadtxt('Combined0318.txt', usecols= [0,1,2,3], unpack = True, skiprows = 1, dtype = float)\n",
        "A4 = np.array_split(A, (len(A)/3))\n",
        "F4 = np.array_split(F, (len(F)/3))\n",
        "E4 = np.array_split(E, (len(E)/3))\n",
        "G4 = np.array_split(G, (len(G)/3))\n",
        "\n",
        "# Phase: +7, 15/03/27\n",
        "A, F, E, G = np.loadtxt('Combined0327.txt', usecols= [0,1,2,3], unpack = True, skiprows = 1, dtype = float)\n",
        "A5 = np.array_split(A, (len(A)/3))\n",
        "F5 = np.array_split(F, (len(F)/3))\n",
        "E5 = np.array_split(E, (len(E)/3))\n",
        "G5 = np.array_split(G, (len(G)/3))\n",
        "\n",
        "# Phase: +20, 15/04/11\n",
        "A, F, E, G = np.loadtxt('Combined0411.txt', usecols= [0,1,2,3], unpack = True, skiprows = 1, dtype = float)\n",
        "A6 = np.array_split(A, (len(A)/3))\n",
        "F6 = np.array_split(F, (len(F)/3))\n",
        "E6 = np.array_split(E, (len(E)/3))\n",
        "G6 = np.array_split(G, (len(G)/3))"
      ],
      "metadata": {
        "id": "_xhCwJOwOriY"
      },
      "execution_count": 8,
      "outputs": []
    },
    {
      "cell_type": "code",
      "source": [
        "# Mean wavelength for each absorption trough for each dataset\n",
        "W0217 = np.mean(A1, axis = 1)\n",
        "print(W0217)\n",
        "\n",
        "# Mean flux for each absorption trough for each dataset\n",
        "F0217 = np.mean(F1, axis = 1)\n",
        "print(F0217)\n",
        "\n",
        "# Mean equivalent width for each absorption trough for each dataset\n",
        "E0217 = np.mean(E1, axis = 1)\n",
        "print(E0217)\n",
        "\n",
        "# Mean full-width half maximum for each absorption trough for each dataset\n",
        "G0217 = np.mean(G1, axis = 1)\n",
        "print(G0217)\n"
      ],
      "metadata": {
        "id": "kP_IDv6VYjMH",
        "colab": {
          "base_uri": "https://localhost:8080/"
        },
        "outputId": "4aa95ded-3087-49da-c853-0344fc7199ad"
      },
      "execution_count": 3,
      "outputs": [
        {
          "output_type": "stream",
          "name": "stdout",
          "text": [
            "[3847.4        4007.50666667 4273.70333333 4522.16       4817.54\n",
            " 5002.33       5583.98       6197.94333333 6378.67666667]\n",
            "[-1.96666667e-14 -8.26666667e-15 -3.60000000e-14 -1.46666667e-14\n",
            " -4.86666667e-15 -1.10000000e-14 -3.06666667e-15 -2.40000000e-15\n",
            " -3.66666667e-15]\n",
            "[13.79        6.402      32.18666667 14.71        6.11166667 14.77333333\n",
            "  6.14        6.38733333  9.696     ]\n",
            "[114.86666667  71.80666667 158.43333333 148.5         93.66333333\n",
            " 159.66666667 100.70333333  87.86       101.21      ]\n"
          ]
        }
      ]
    },
    {
      "cell_type": "code",
      "source": [
        "# Velocity calculation for each absorption trough for each dataset\n",
        "# Where lmb0 - Mean absorption wavelength, lmb1 - lab rest frame wavelength\n",
        "\n",
        "def func(lmb0, lmb1):\n",
        "    return ((np.abs(lmb0 - lmb1))/lmb1) * 3e5\n"
      ],
      "metadata": {
        "id": "BDKOkZLCY_6F"
      },
      "execution_count": 4,
      "outputs": []
    },
    {
      "cell_type": "code",
      "source": [
        ""
      ],
      "metadata": {
        "id": "Kx-Nwfm4ZGkl"
      },
      "execution_count": 4,
      "outputs": []
    }
  ]
}