{
  "nbformat": 4,
  "nbformat_minor": 0,
  "metadata": {
    "colab": {
      "name": "FaES.ipynb",
      "provenance": [],
      "collapsed_sections": [],
      "authorship_tag": "ABX9TyN+M45xHMhnPImzmk5gZK5A",
      "include_colab_link": true
    },
    "kernelspec": {
      "name": "python3",
      "display_name": "Python 3"
    },
    "language_info": {
      "name": "python"
    }
  },
  "cells": [
    {
      "cell_type": "markdown",
      "metadata": {
        "id": "view-in-github",
        "colab_type": "text"
      },
      "source": [
        "<a href=\"https://colab.research.google.com/github/Luke-Williams-01/Luke-Williams-01/blob/main/FaES.ipynb\" target=\"_parent\"><img src=\"https://colab.research.google.com/assets/colab-badge.svg\" alt=\"Open In Colab\"/></a>"
      ]
    },
    {
      "cell_type": "markdown",
      "metadata": {
        "id": "q00CV7HY90Y7"
      },
      "source": [
        "Q1: The file, called ‘mv_function.txt’, on Learning Central contains a table of 1. \n",
        "spectral types, 2. absolute V-band magnitudes (MV in mag), 3. number densities (n in \n",
        "10-4 pc-3) and their uncertainties, 4. number density distribution dn /dm and their \n",
        "uncertainties of the field stars in the Solar neighbourhood."
      ]
    },
    {
      "cell_type": "markdown",
      "metadata": {
        "id": "_4gTaScT-HoU"
      },
      "source": [
        "Q1a. The empirical relation between stellar mass m and absolute magnitude MV relation for \n",
        "main sequence stars can be given by the following equation:\n",
        "log(m) = 0.4790 - 0.1219Mv + 0.004940Mv^2"
      ]
    },
    {
      "cell_type": "code",
      "metadata": {
        "id": "b-fWxE9Z_hbI"
      },
      "source": [
        "# Imports\n",
        "from pylab import *\n",
        "import numpy as np\n",
        "import matplotlib.pyplot as plt\n",
        "from scipy.optimize import curve_fit"
      ],
      "execution_count": 1,
      "outputs": []
    },
    {
      "cell_type": "code",
      "metadata": {
        "id": "q18ANF77Bdqm"
      },
      "source": [
        "# Spec = Spectral Types\n",
        "# Mv = absolute V band magnitudes\n",
        "# nd = number density\n",
        "# nd_err = uncertainty in number densities\n",
        "# ndd = number density distribution\n",
        "# ndd_err = number desnity distribution uncertainity\n",
        "\n",
        "# Reading in the data\n",
        "Mv, nd, nd_err, ndd, ndd_err = np.loadtxt('mv_function.txt', usecols= [1,2,3,4,5], unpack = True, skiprows = 1, dtype = float)"
      ],
      "execution_count": 2,
      "outputs": []
    },
    {
      "cell_type": "code",
      "metadata": {
        "id": "0ca-Wxd0QqPH",
        "colab": {
          "base_uri": "https://localhost:8080/"
        },
        "outputId": "68a7201a-943d-4e5e-c0df-b6d0bdcd3c03"
      },
      "source": [
        "# Defining function to return the log(mass) = mlog\n",
        "def logmass(Mv):\n",
        "  '''\n",
        "  Function takes the absolute V band magnitude and returns the log(mass)\n",
        "  '''\n",
        "  return 0.4790 - 0.1219*Mv + 0.004940*(Mv**2)\n",
        "\n",
        "# Calling the function\n",
        "logm = logmass(Mv)\n",
        "print(logm)\n",
        "\n",
        "# Converting mlog into m=mass\n",
        "\n",
        "def unlog(logm):\n",
        "  '''\n",
        "  Function converts Log(mass) into mass\n",
        "  '''\n",
        "  return 10**logm\n",
        "\n",
        "# Calling the function\n",
        "mass = unlog(logm)\n",
        "print(mass)"
      ],
      "execution_count": 3,
      "outputs": [
        {
          "output_type": "stream",
          "name": "stdout",
          "text": [
            "[ 0.32452426  0.30940858  0.30192335  0.27975814  0.27142886  0.26625517\n",
            "  0.24783441  0.22575485  0.2247626   0.20415349  0.17735245  0.15868309\n",
            "  0.15041082  0.13680153  0.1216464   0.0955986   0.08123289  0.06961669\n",
            "  0.05819415  0.03436935  0.030485    0.00844285  0.00324682 -0.00263222\n",
            " -0.00554802 -0.01634151 -0.01988994 -0.02969414 -0.04538065 -0.05924666\n",
            " -0.06888419 -0.08627947 -0.10864839 -0.1343417  -0.14511625]\n",
            "[2.11117514 2.03895939 2.00411828 1.90439987 1.86822364 1.84609979\n",
            " 1.76943415 1.68172451 1.67788658 1.60012347 1.50436234 1.44106342\n",
            " 1.41387435 1.37025541 1.3232637  1.24623114 1.2056823  1.17386105\n",
            " 1.14338937 1.08235406 1.0727166  1.01963058 1.0075041  0.99395743\n",
            " 0.98730645 0.9630714  0.95523462 0.93391179 0.90078128 0.87247571\n",
            " 0.85332764 0.81982382 0.77866671 0.73393619 0.71595174]\n"
          ]
        }
      ]
    },
    {
      "cell_type": "code",
      "metadata": {
        "colab": {
          "base_uri": "https://localhost:8080/",
          "height": 279
        },
        "id": "I5tKAHe4ZL8j",
        "outputId": "fcf3486b-847e-494f-9307-3e23b3685693"
      },
      "source": [
        "# Plotting mass, m, against number density, n, with associated error\n",
        "plt.plot(nd, mass, \"k.\", markersize=1)\n",
        "plt.errorbar(nd, mass, xerr=nd_err, alpha=0.5, fmt=\"none\", ecolor=\"red\")\n",
        "ylabel(\"Stellar mass\")\n",
        "xlabel(\"Number density\")\n",
        "title('');"
      ],
      "execution_count": 4,
      "outputs": [
        {
          "output_type": "display_data",
          "data": {
            "image/png": "[encoded data removed]",
            "text/plain": [
              "<Figure size 432x288 with 1 Axes>"
            ]
          },
          "metadata": {
            "needs_background": "light"
          }
        }
      ]
    },
    {
      "cell_type": "code",
      "metadata": {
        "colab": {
          "base_uri": "https://localhost:8080/",
          "height": 537
        },
        "id": "-Yhp_1RbtTkx",
        "outputId": "70d6ded1-ef72-4e91-9371-3e1696f76de6"
      },
      "source": [
        "def powerlaw(x, m, c, c0):\n",
        "    return c0 + x**-m * c\n",
        "\n",
        "popt, pcov = curve_fit(powerlaw, nd, mass, maxfev=1000)\n",
        "p0 = np.array([1,1,3,10])\n",
        "plt.plot(nd, mass, \"k.\", markersize = 1)\n",
        "ndplot = np.linspace(min(nd), max(nd))\n",
        "y_data = powerlaw(nd, *popt)\n",
        "plt.plot(nd, y_data)"
      ],
      "execution_count": 19,
      "outputs": [
        {
          "output_type": "stream",
          "name": "stdout",
          "text": [
            "[2.02589662 2.02589662 1.97635526 1.67071513 1.62680403 2.08104503\n",
            " 1.74730294 1.48027018 1.72013284 1.70297519 1.40591573 1.33343793\n",
            " 1.39144511 1.54617967 1.31352692 1.11332637 1.0397463  1.13115484\n",
            " 1.11332637 0.94180711 0.96531604 0.95784456 0.92409971 1.18819748\n",
            " 1.3107867  1.11732918 1.10679548 1.13401351 0.92924953 0.8996991\n",
            " 0.97163417 0.93041223 0.77349568 0.6869277  0.73171677]\n",
            "[ 0.35        0.62285714  0.89571429  1.16857143  1.44142857  1.71428571\n",
            "  1.98714286  2.26        2.53285714  2.80571429  3.07857143  3.35142857\n",
            "  3.62428571  3.89714286  4.17        4.44285714  4.71571429  4.98857143\n",
            "  5.26142857  5.53428571  5.80714286  6.08        6.35285714  6.62571429\n",
            "  6.89857143  7.17142857  7.44428571  7.71714286  7.99        8.26285714\n",
            "  8.53571429  8.80857143  9.08142857  9.35428571  9.62714286  9.9\n",
            " 10.17285714 10.44571429 10.71857143 10.99142857 11.26428571 11.53714286\n",
            " 11.81       12.08285714 12.35571429 12.62857143 12.90142857 13.17428571\n",
            " 13.44714286 13.72      ]\n",
            "0.35\n"
          ]
        },
        {
          "output_type": "display_data",
          "data": {
            "image/png": "[encoded data removed]",
            "text/plain": [
              "<Figure size 432x288 with 1 Axes>"
            ]
          },
          "metadata": {
            "needs_background": "light"
          }
        }
      ]
    },
    {
      "cell_type": "code",
      "metadata": {
        "colab": {
          "base_uri": "https://localhost:8080/",
          "height": 231
        },
        "id": "I3Y8FrTEtRAU",
        "outputId": "d7d4a06a-ebd6-4317-a4a2-9228ffdaf308"
      },
      "source": [
        "def func(t, a, b):\n",
        "    return a + b * np.log(t)\n",
        "\n",
        "popt, pcov = optimize.curve_fit(func, t1, F1, maxfev=1000)\n",
        "t = np.linspace(1, 3600 * 24 * 28, 13)\n",
        "plt.plot(t, func(t, *popt), label=\"Fitted Curve\")"
      ],
      "execution_count": 6,
      "outputs": [
        {
          "output_type": "error",
          "ename": "NameError",
          "evalue": "ignored",
          "traceback": [
            "\u001b[0;31m---------------------------------------------------------------------------\u001b[0m",
            "\u001b[0;31mNameError\u001b[0m                                 Traceback (most recent call last)",
            "\u001b[0;32m<ipython-input-6-74f95ddec82f>\u001b[0m in \u001b[0;36m<module>\u001b[0;34m()\u001b[0m\n\u001b[1;32m      2\u001b[0m     \u001b[0;32mreturn\u001b[0m \u001b[0ma\u001b[0m \u001b[0;34m+\u001b[0m \u001b[0mb\u001b[0m \u001b[0;34m*\u001b[0m \u001b[0mnp\u001b[0m\u001b[0;34m.\u001b[0m\u001b[0mlog\u001b[0m\u001b[0;34m(\u001b[0m\u001b[0mt\u001b[0m\u001b[0;34m)\u001b[0m\u001b[0;34m\u001b[0m\u001b[0;34m\u001b[0m\u001b[0m\n\u001b[1;32m      3\u001b[0m \u001b[0;34m\u001b[0m\u001b[0m\n\u001b[0;32m----> 4\u001b[0;31m \u001b[0mpopt\u001b[0m\u001b[0;34m,\u001b[0m \u001b[0mpcov\u001b[0m \u001b[0;34m=\u001b[0m \u001b[0moptimize\u001b[0m\u001b[0;34m.\u001b[0m\u001b[0mcurve_fit\u001b[0m\u001b[0;34m(\u001b[0m\u001b[0mfunc\u001b[0m\u001b[0;34m,\u001b[0m \u001b[0mt1\u001b[0m\u001b[0;34m,\u001b[0m \u001b[0mF1\u001b[0m\u001b[0;34m,\u001b[0m \u001b[0mmaxfev\u001b[0m\u001b[0;34m=\u001b[0m\u001b[0;36m1000\u001b[0m\u001b[0;34m)\u001b[0m\u001b[0;34m\u001b[0m\u001b[0;34m\u001b[0m\u001b[0m\n\u001b[0m\u001b[1;32m      5\u001b[0m \u001b[0mt\u001b[0m \u001b[0;34m=\u001b[0m \u001b[0mnp\u001b[0m\u001b[0;34m.\u001b[0m\u001b[0mlinspace\u001b[0m\u001b[0;34m(\u001b[0m\u001b[0;36m1\u001b[0m\u001b[0;34m,\u001b[0m \u001b[0;36m3600\u001b[0m \u001b[0;34m*\u001b[0m \u001b[0;36m24\u001b[0m \u001b[0;34m*\u001b[0m \u001b[0;36m28\u001b[0m\u001b[0;34m,\u001b[0m \u001b[0;36m13\u001b[0m\u001b[0;34m)\u001b[0m\u001b[0;34m\u001b[0m\u001b[0;34m\u001b[0m\u001b[0m\n\u001b[1;32m      6\u001b[0m \u001b[0mplt\u001b[0m\u001b[0;34m.\u001b[0m\u001b[0mplot\u001b[0m\u001b[0;34m(\u001b[0m\u001b[0mt\u001b[0m\u001b[0;34m,\u001b[0m \u001b[0mfunc\u001b[0m\u001b[0;34m(\u001b[0m\u001b[0mt\u001b[0m\u001b[0;34m,\u001b[0m \u001b[0;34m*\u001b[0m\u001b[0mpopt\u001b[0m\u001b[0;34m)\u001b[0m\u001b[0;34m,\u001b[0m \u001b[0mlabel\u001b[0m\u001b[0;34m=\u001b[0m\u001b[0;34m\"Fitted Curve\"\u001b[0m\u001b[0;34m)\u001b[0m\u001b[0;34m\u001b[0m\u001b[0;34m\u001b[0m\u001b[0m\n",
            "\u001b[0;31mNameError\u001b[0m: name 'optimize' is not defined"
          ]
        }
      ]
    },
    {
      "cell_type": "code",
      "metadata": {
        "id": "eDinehqjn9va"
      },
      "source": [
        "'''\n",
        "def plaw(t, a, t0, tau, c):\n",
        "  return a*np.exp(-(t-t0)/tau)+c\n",
        "\n",
        "p0 = np.array([1,1,1,1])\n",
        "yinitial = plaw(nd, *p0)\n",
        "popt, pcov = curve_fit(plaw, nd, mass, p0=p0)\n",
        "plt.plot(nd, mass, \"k.\", markersize=1)\n",
        "ndplot = np.linspace(min(nd), max(nd), num = 35)\n",
        "y_data = plaw(nd, *popt)\n",
        "plt.plot(ndplot, y_data)\n",
        "'''"
      ],
      "execution_count": null,
      "outputs": []
    },
    {
      "cell_type": "markdown",
      "metadata": {
        "id": "S8bB5HuNhxl3"
      },
      "source": [
        "Q1b. The given dn /dm in ‘mv_function.txt’ might look slightly different, as there is a \n",
        "correction factor applied in order to obtain dn /dm. State the major contributing factor \n",
        "of this correction factor"
      ]
    },
    {
      "cell_type": "markdown",
      "metadata": {
        "id": "r0dE67AhzXqc"
      },
      "source": [
        "The corrective factor was used to account for dust extinction present in the Milky Way's ISM."
      ]
    },
    {
      "cell_type": "markdown",
      "metadata": {
        "id": "H1dRASKeh7Qf"
      },
      "source": [
        "Q1c. Using the mass calculated in Q1.a. and dn /dm in ‘mv_function.txt’, plot the \n",
        "mass function (e.g. m vs dn /dm), including the uncertainties of dn /dm. Fit this mass \n",
        "function with a power law, and evaluate the slope of this mass function."
      ]
    },
    {
      "cell_type": "code",
      "metadata": {
        "id": "ohdQuSi3iN74"
      },
      "source": [
        "# Plotting the mass, m, against the number density distribution, dn/dm\n",
        "plt.plot(ndd, mass, \"k.\", markersize=1)\n",
        "plt.errorbar(ndd, mass, xerr=ndd_err, alpha=0.5, fmt=\"none\", ecolor=\"red\")\n",
        "ylabel(\"Stellar mass\")\n",
        "xlabel(\"Number density distribution\")\n",
        "title('');"
      ],
      "execution_count": null,
      "outputs": []
    },
    {
      "cell_type": "markdown",
      "metadata": {
        "id": "lCo3l0dNiOPm"
      },
      "source": [
        "Q1d. The slope of the initial mass function (IMF) is represented by a power of –2.35\n",
        "(or a= 2.35). Explain why the slope in the mass function 1.c. is slightly different from\n",
        "the IMF slope of –2.35."
      ]
    },
    {
      "cell_type": "code",
      "metadata": {
        "id": "Lf53vFW5iRwr"
      },
      "source": [
        ""
      ],
      "execution_count": null,
      "outputs": []
    }
  ]
}