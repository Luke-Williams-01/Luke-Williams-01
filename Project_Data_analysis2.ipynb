{
  "nbformat": 4,
  "nbformat_minor": 0,
  "metadata": {
    "colab": {
      "name": "Project Data analysis2.ipynb",
      "provenance": [],
      "authorship_tag": "ABX9TyPD+6idm9+2qNIPABT03wcb",
      "include_colab_link": true
    },
    "kernelspec": {
      "name": "python3",
      "display_name": "Python 3"
    },
    "language_info": {
      "name": "python"
    }
  },
  "cells": [
    {
      "cell_type": "markdown",
      "metadata": {
        "id": "view-in-github",
        "colab_type": "text"
      },
      "source": [
        "<a href=\"https://colab.research.google.com/github/Luke-Williams-01/Luke-Williams-01/blob/main/Project_Data_analysis2.ipynb\" target=\"_parent\"><img src=\"https://colab.research.google.com/assets/colab-badge.svg\" alt=\"Open In Colab\"/></a>"
      ]
    },
    {
      "cell_type": "code",
      "execution_count": 20,
      "metadata": {
        "id": "iAtYYr10ONXo"
      },
      "outputs": [],
      "source": [
        "# Imports\n",
        "from pylab import *\n",
        "import numpy as np\n",
        "import matplotlib.pyplot as plt\n",
        "from scipy.optimize import curve_fit"
      ]
    },
    {
      "cell_type": "code",
      "source": [
        "# Reading in the data\n",
        "\n",
        "# Phase: -28, 15/02/17\n",
        "Abs, Flux, Eqw, Gfwhm = np.loadtxt('Inverted0217.txt', usecols= [0,1,2,3], unpack = True, skiprows = 1, dtype = float)\n",
        "Abs1 = np.array_split(Abs, (len(Abs)/3))\n",
        "Flux1 = np.array_split(Flux, (len(Flux)/3))\n",
        "Eqw1 = np.array_split(Eqw, (len(Eqw)/3))\n",
        "Gfwhm1 = np.array_split(Gfwhm, (len(Gfwhm)/3))\n",
        "\n",
        "# Phase: -20, 15/02/27\n",
        "Abs, Flux, Eqw, Gfwhm = np.loadtxt('Inverted0227.txt', usecols= [0,1,2,3], unpack = True, skiprows = 1, dtype = float)\n",
        "Abs2 = np.array_split(Abs, (len(Abs)/3))\n",
        "Flux2 = np.array_split(Flux, (len(Flux)/3))\n",
        "Eqw2 = np.array_split(Eqw, (len(Eqw)/3))\n",
        "Gfwhm2 = np.array_split(Gfwhm, (len(Gfwhm)/3))\n",
        "\n",
        "# Phase: -8, 15/03/11\n",
        "Abs, Flux, Eqw, Gfwhm = np.loadtxt('Inverted0311.txt', usecols= [0,1,2,3], unpack = True, skiprows = 1, dtype = float)\n",
        "Abs3 = np.array_split(Abs, (len(Abs)/3))\n",
        "Flux3 = np.array_split(Flux, (len(Flux)/3))\n",
        "Eqw3 = np.array_split(Eqw, (len(Eqw)/3))\n",
        "Gfwhm3 = np.array_split(Gfwhm, (len(Gfwhm)/3))\n",
        "\n",
        "# Phase: -2, 15/03/18\n",
        "Abs, Flux, Eqw, Gfwhm = np.loadtxt('Inverted0318.txt', usecols= [0,1,2,3], unpack = True, skiprows = 1, dtype = float)\n",
        "Abs4 = np.array_split(Abs, (len(Abs)/3))\n",
        "Flux4 = np.array_split(Flux, (len(Flux)/3))\n",
        "Eqw4 = np.array_split(Eqw, (len(Eqw)/3))\n",
        "Gfwhm4 = np.array_split(Gfwhm, (len(Gfwhm)/3))\n",
        "\n",
        "# Phase: +7, 15/03/27\n",
        "Abs, Flux, Eqw, Gfwhm = np.loadtxt('Inverted0327.txt', usecols= [0,1,2,3], unpack = True, skiprows = 1, dtype = float)\n",
        "Abs5 = np.array_split(Abs, (len(Abs)/3))\n",
        "Flux5 = np.array_split(Flux, (len(Flux)/3))\n",
        "Eqw5 = np.array_split(Eqw, (len(Eqw)/3))\n",
        "Gfwhm5 = np.array_split(Gfwhm, (len(Gfwhm)/3))\n",
        "\n",
        "# Phase: +20, 15/04/11\n",
        "Abs, Flux, Eqw, Gfwhm = np.loadtxt('Inverted0411.txt', usecols= [0,1,2,3], unpack = True, skiprows = 1, dtype = float)\n",
        "Abs6 = np.array_split(Abs, (len(Abs)/3))\n",
        "Flux6 = np.array_split(Flux, (len(Flux)/3))\n",
        "Eqw6 = np.array_split(Eqw, (len(Eqw)/3))\n",
        "Gfwhm6 = np.array_split(Gfwhm, (len(Gfwhm)/3))"
      ],
      "metadata": {
        "id": "_xhCwJOwOriY",
        "colab": {
          "base_uri": "https://localhost:8080/",
          "height": 380
        },
        "outputId": "0fc6e459-3c92-4c35-989a-3f4aece7ffa1"
      },
      "execution_count": 21,
      "outputs": [
        {
          "output_type": "error",
          "ename": "OSError",
          "evalue": "ignored",
          "traceback": [
            "\u001b[0;31m---------------------------------------------------------------------------\u001b[0m",
            "\u001b[0;31mOSError\u001b[0m                                   Traceback (most recent call last)",
            "\u001b[0;32m<ipython-input-21-2bfcb9b2ba87>\u001b[0m in \u001b[0;36m<module>\u001b[0;34m()\u001b[0m\n\u001b[1;32m      9\u001b[0m \u001b[0;34m\u001b[0m\u001b[0m\n\u001b[1;32m     10\u001b[0m \u001b[0;31m# Phase: -20, 15/02/27\u001b[0m\u001b[0;34m\u001b[0m\u001b[0;34m\u001b[0m\u001b[0;34m\u001b[0m\u001b[0m\n\u001b[0;32m---> 11\u001b[0;31m \u001b[0mAbs\u001b[0m\u001b[0;34m,\u001b[0m \u001b[0mFlux\u001b[0m\u001b[0;34m,\u001b[0m \u001b[0mEqw\u001b[0m\u001b[0;34m,\u001b[0m \u001b[0mGfwhm\u001b[0m \u001b[0;34m=\u001b[0m \u001b[0mnp\u001b[0m\u001b[0;34m.\u001b[0m\u001b[0mloadtxt\u001b[0m\u001b[0;34m(\u001b[0m\u001b[0;34m'Inverted0227.txt'\u001b[0m\u001b[0;34m,\u001b[0m \u001b[0musecols\u001b[0m\u001b[0;34m=\u001b[0m \u001b[0;34m[\u001b[0m\u001b[0;36m0\u001b[0m\u001b[0;34m,\u001b[0m\u001b[0;36m1\u001b[0m\u001b[0;34m,\u001b[0m\u001b[0;36m2\u001b[0m\u001b[0;34m,\u001b[0m\u001b[0;36m3\u001b[0m\u001b[0;34m]\u001b[0m\u001b[0;34m,\u001b[0m \u001b[0munpack\u001b[0m \u001b[0;34m=\u001b[0m \u001b[0;32mTrue\u001b[0m\u001b[0;34m,\u001b[0m \u001b[0mskiprows\u001b[0m \u001b[0;34m=\u001b[0m \u001b[0;36m1\u001b[0m\u001b[0;34m,\u001b[0m \u001b[0mdtype\u001b[0m \u001b[0;34m=\u001b[0m \u001b[0mfloat\u001b[0m\u001b[0;34m)\u001b[0m\u001b[0;34m\u001b[0m\u001b[0;34m\u001b[0m\u001b[0m\n\u001b[0m\u001b[1;32m     12\u001b[0m \u001b[0mAbs2\u001b[0m \u001b[0;34m=\u001b[0m \u001b[0mnp\u001b[0m\u001b[0;34m.\u001b[0m\u001b[0marray_split\u001b[0m\u001b[0;34m(\u001b[0m\u001b[0mAbs\u001b[0m\u001b[0;34m,\u001b[0m \u001b[0;34m(\u001b[0m\u001b[0mlen\u001b[0m\u001b[0;34m(\u001b[0m\u001b[0mAbs\u001b[0m\u001b[0;34m)\u001b[0m\u001b[0;34m/\u001b[0m\u001b[0;36m3\u001b[0m\u001b[0;34m)\u001b[0m\u001b[0;34m)\u001b[0m\u001b[0;34m\u001b[0m\u001b[0;34m\u001b[0m\u001b[0m\n\u001b[1;32m     13\u001b[0m \u001b[0mFlux2\u001b[0m \u001b[0;34m=\u001b[0m \u001b[0mnp\u001b[0m\u001b[0;34m.\u001b[0m\u001b[0marray_split\u001b[0m\u001b[0;34m(\u001b[0m\u001b[0mFlux\u001b[0m\u001b[0;34m,\u001b[0m \u001b[0;34m(\u001b[0m\u001b[0mlen\u001b[0m\u001b[0;34m(\u001b[0m\u001b[0mFlux\u001b[0m\u001b[0;34m)\u001b[0m\u001b[0;34m/\u001b[0m\u001b[0;36m3\u001b[0m\u001b[0;34m)\u001b[0m\u001b[0;34m)\u001b[0m\u001b[0;34m\u001b[0m\u001b[0;34m\u001b[0m\u001b[0m\n",
            "\u001b[0;32m/usr/local/lib/python3.7/dist-packages/numpy/lib/npyio.py\u001b[0m in \u001b[0;36mloadtxt\u001b[0;34m(fname, dtype, comments, delimiter, converters, skiprows, usecols, unpack, ndmin, encoding, max_rows, like)\u001b[0m\n\u001b[1;32m   1065\u001b[0m             \u001b[0mfname\u001b[0m \u001b[0;34m=\u001b[0m \u001b[0mos_fspath\u001b[0m\u001b[0;34m(\u001b[0m\u001b[0mfname\u001b[0m\u001b[0;34m)\u001b[0m\u001b[0;34m\u001b[0m\u001b[0;34m\u001b[0m\u001b[0m\n\u001b[1;32m   1066\u001b[0m         \u001b[0;32mif\u001b[0m \u001b[0m_is_string_like\u001b[0m\u001b[0;34m(\u001b[0m\u001b[0mfname\u001b[0m\u001b[0;34m)\u001b[0m\u001b[0;34m:\u001b[0m\u001b[0;34m\u001b[0m\u001b[0;34m\u001b[0m\u001b[0m\n\u001b[0;32m-> 1067\u001b[0;31m             \u001b[0mfh\u001b[0m \u001b[0;34m=\u001b[0m \u001b[0mnp\u001b[0m\u001b[0;34m.\u001b[0m\u001b[0mlib\u001b[0m\u001b[0;34m.\u001b[0m\u001b[0m_datasource\u001b[0m\u001b[0;34m.\u001b[0m\u001b[0mopen\u001b[0m\u001b[0;34m(\u001b[0m\u001b[0mfname\u001b[0m\u001b[0;34m,\u001b[0m \u001b[0;34m'rt'\u001b[0m\u001b[0;34m,\u001b[0m \u001b[0mencoding\u001b[0m\u001b[0;34m=\u001b[0m\u001b[0mencoding\u001b[0m\u001b[0;34m)\u001b[0m\u001b[0;34m\u001b[0m\u001b[0;34m\u001b[0m\u001b[0m\n\u001b[0m\u001b[1;32m   1068\u001b[0m             \u001b[0mfencoding\u001b[0m \u001b[0;34m=\u001b[0m \u001b[0mgetattr\u001b[0m\u001b[0;34m(\u001b[0m\u001b[0mfh\u001b[0m\u001b[0;34m,\u001b[0m \u001b[0;34m'encoding'\u001b[0m\u001b[0;34m,\u001b[0m \u001b[0;34m'latin1'\u001b[0m\u001b[0;34m)\u001b[0m\u001b[0;34m\u001b[0m\u001b[0;34m\u001b[0m\u001b[0m\n\u001b[1;32m   1069\u001b[0m             \u001b[0mfh\u001b[0m \u001b[0;34m=\u001b[0m \u001b[0miter\u001b[0m\u001b[0;34m(\u001b[0m\u001b[0mfh\u001b[0m\u001b[0;34m)\u001b[0m\u001b[0;34m\u001b[0m\u001b[0;34m\u001b[0m\u001b[0m\n",
            "\u001b[0;32m/usr/local/lib/python3.7/dist-packages/numpy/lib/_datasource.py\u001b[0m in \u001b[0;36mopen\u001b[0;34m(path, mode, destpath, encoding, newline)\u001b[0m\n\u001b[1;32m    191\u001b[0m \u001b[0;34m\u001b[0m\u001b[0m\n\u001b[1;32m    192\u001b[0m     \u001b[0mds\u001b[0m \u001b[0;34m=\u001b[0m \u001b[0mDataSource\u001b[0m\u001b[0;34m(\u001b[0m\u001b[0mdestpath\u001b[0m\u001b[0;34m)\u001b[0m\u001b[0;34m\u001b[0m\u001b[0;34m\u001b[0m\u001b[0m\n\u001b[0;32m--> 193\u001b[0;31m     \u001b[0;32mreturn\u001b[0m \u001b[0mds\u001b[0m\u001b[0;34m.\u001b[0m\u001b[0mopen\u001b[0m\u001b[0;34m(\u001b[0m\u001b[0mpath\u001b[0m\u001b[0;34m,\u001b[0m \u001b[0mmode\u001b[0m\u001b[0;34m,\u001b[0m \u001b[0mencoding\u001b[0m\u001b[0;34m=\u001b[0m\u001b[0mencoding\u001b[0m\u001b[0;34m,\u001b[0m \u001b[0mnewline\u001b[0m\u001b[0;34m=\u001b[0m\u001b[0mnewline\u001b[0m\u001b[0;34m)\u001b[0m\u001b[0;34m\u001b[0m\u001b[0;34m\u001b[0m\u001b[0m\n\u001b[0m\u001b[1;32m    194\u001b[0m \u001b[0;34m\u001b[0m\u001b[0m\n\u001b[1;32m    195\u001b[0m \u001b[0;34m\u001b[0m\u001b[0m\n",
            "\u001b[0;32m/usr/local/lib/python3.7/dist-packages/numpy/lib/_datasource.py\u001b[0m in \u001b[0;36mopen\u001b[0;34m(self, path, mode, encoding, newline)\u001b[0m\n\u001b[1;32m    531\u001b[0m                                       encoding=encoding, newline=newline)\n\u001b[1;32m    532\u001b[0m         \u001b[0;32melse\u001b[0m\u001b[0;34m:\u001b[0m\u001b[0;34m\u001b[0m\u001b[0;34m\u001b[0m\u001b[0m\n\u001b[0;32m--> 533\u001b[0;31m             \u001b[0;32mraise\u001b[0m \u001b[0mIOError\u001b[0m\u001b[0;34m(\u001b[0m\u001b[0;34m\"%s not found.\"\u001b[0m \u001b[0;34m%\u001b[0m \u001b[0mpath\u001b[0m\u001b[0;34m)\u001b[0m\u001b[0;34m\u001b[0m\u001b[0;34m\u001b[0m\u001b[0m\n\u001b[0m\u001b[1;32m    534\u001b[0m \u001b[0;34m\u001b[0m\u001b[0m\n\u001b[1;32m    535\u001b[0m \u001b[0;34m\u001b[0m\u001b[0m\n",
            "\u001b[0;31mOSError\u001b[0m: Inverted0227.txt not found."
          ]
        }
      ]
    },
    {
      "cell_type": "code",
      "source": [
        "# Mean wavelength for each absorption trough for each dataset\n",
        "\n",
        "# Mean flux for each absorption trough for each dataset\n",
        "\n",
        "# Mean equivalent width for each absorption trough for each dataset\n",
        "\n",
        "# Mean full-width half maximum for each absorption trough for each dataset\n"
      ],
      "metadata": {
        "id": "kP_IDv6VYjMH"
      },
      "execution_count": null,
      "outputs": []
    },
    {
      "cell_type": "code",
      "source": [
        "# Velocity calculation for each absorption trough for each dataset\n",
        "# Where lmb0 - Mean absorption wavelength, lmb1 - lab rest frame wavelength\n",
        "\n",
        "def func(lmb0, lmb1):\n",
        "    return ((np.abs(lmb0 - lmb1))/lmb1) * 3e5\n"
      ],
      "metadata": {
        "id": "BDKOkZLCY_6F"
      },
      "execution_count": null,
      "outputs": []
    },
    {
      "cell_type": "code",
      "source": [
        ""
      ],
      "metadata": {
        "id": "Kx-Nwfm4ZGkl"
      },
      "execution_count": null,
      "outputs": []
    }
  ]
}