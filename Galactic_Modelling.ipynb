{
  "nbformat": 4,
  "nbformat_minor": 0,
  "metadata": {
    "colab": {
      "name": "Galactic Modelling.ipynb",
      "provenance": [],
      "authorship_tag": "ABX9TyOj4X6CY2wZzJcmWEmB7tKV",
      "include_colab_link": true
    },
    "kernelspec": {
      "name": "python3",
      "display_name": "Python 3"
    },
    "language_info": {
      "name": "python"
    }
  },
  "cells": [
    {
      "cell_type": "markdown",
      "metadata": {
        "id": "view-in-github",
        "colab_type": "text"
      },
      "source": [
        "<a href=\"https://colab.research.google.com/github/Luke-Williams-01/Luke-Williams-01/blob/main/Galactic_Modelling.ipynb\" target=\"_parent\"><img src=\"https://colab.research.google.com/assets/colab-badge.svg\" alt=\"Open In Colab\"/></a>"
      ]
    },
    {
      "cell_type": "code",
      "execution_count": 1,
      "metadata": {
        "id": "P9nscjoSszjf"
      },
      "outputs": [],
      "source": [
        "# Imports\n",
        "import numpy as np\n",
        "import matplotlib.pyplot as plt\n",
        "from scipy import integrate\n",
        "from scipy.optimize import curve_fit"
      ]
    },
    {
      "cell_type": "code",
      "source": [
        "# Constants\n",
        "Mtotal = 1E11\n",
        "Ttotal = 12E9\n",
        "Sft = 1E9\n",
        "TauSun = 10E9\n",
        "\n",
        "# Constant star formation rate\n",
        "SFR = Mtotal/Sft\n",
        "\n",
        "# Time elapsed array\n",
        "T = np.linspace(0, Ttotal, 12000)\n",
        "Tl = len(T)\n",
        "\n",
        "# Mass range array\n",
        "M = np.linspace(0.5, 25, 100)\n",
        "dM = M[1] - M[0]\n",
        "Ml = len(M)\n",
        "\n",
        "# Time of formation array\n",
        "Tform = np.arange(0, Sft, 1E7)\n",
        "dT = Tform[1] - Tform[0]\n",
        "Tfl = len(Tform)\n"
      ],
      "metadata": {
        "id": "fcNS07ohuI2Y"
      },
      "execution_count": 16,
      "outputs": []
    },
    {
      "cell_type": "code",
      "source": [
        "# Finding how the number of stars evolves over time\n",
        "\n",
        "# Finding E0 = Mtotal/Mtot\n",
        "def Mtot(M):\n",
        "  return (M**(-1.35))\n",
        "\n",
        "Int = Mtot(M)*dM\n",
        "E0 = (SFR * dT)/np.sum(Int)\n",
        "print(E0)\n",
        "\n",
        "# Finding Number of stars per Mass interval\n",
        "Stnumb = np.zeros(Ml)\n",
        "\n",
        "for i in np.arange(0, Ml, 1):\n",
        "  def Nstar(M):\n",
        "    return (M[i]**(-2.35)) * E0 * dM\n",
        "  Stnumb[i] = Nstar(M)\n",
        "\n",
        "print(Stnumb)\n",
        "print(M)\n",
        "\n",
        "'''\n",
        "N=[]\n",
        "j=0\n",
        "for i in range(0,len(Stbrn)):\n",
        "    j+=Stbrn[i]\n",
        "    N.append(j)\n",
        "     \n",
        "print(N)\n",
        "\n",
        "plt.plot(np.log(Tform), np.log(N))\n",
        "'''"
      ],
      "metadata": {
        "colab": {
          "base_uri": "https://localhost:8080/",
          "height": 782
        },
        "id": "W28-zndyQSYW",
        "outputId": "0ae8dfb5-56dd-4a4e-ddd6-f1e7d04d47a0"
      },
      "execution_count": 17,
      "outputs": [
        {
          "output_type": "stream",
          "name": "stdout",
          "text": [
            "326088255.5343859\n",
            "[4.11421077e+08 1.59924210e+08 8.16645574e+07 4.84542352e+07\n",
            " 3.16189546e+07 2.20351953e+07 1.61141258e+07 1.22260709e+07\n",
            " 9.54965622e+06 7.63666797e+06 6.22670515e+06 5.16060536e+06\n",
            " 4.33691502e+06 3.68864093e+06 3.17019189e+06 2.74972350e+06\n",
            " 2.40448234e+06 2.11788244e+06 1.87761730e+06 1.67440984e+06\n",
            " 1.50116645e+06 1.35239283e+06 1.22378340e+06 1.11192793e+06\n",
            " 1.01409890e+06 9.28095099e+05 8.52125343e+05 7.84720852e+05\n",
            " 7.24668633e+05 6.70960282e+05 6.22752281e+05 5.79334949e+05\n",
            " 5.40107969e+05 5.04560941e+05 4.72257840e+05 4.42824489e+05\n",
            " 4.15938418e+05 3.91320597e+05 3.68728663e+05 3.47951337e+05\n",
            " 3.28803801e+05 3.11123860e+05 2.94768725e+05 2.79612318e+05\n",
            " 2.65543002e+05 2.52461657e+05 2.40280051e+05 2.28919446e+05\n",
            " 2.18309413e+05 2.08386809e+05 1.99094898e+05 1.90382598e+05\n",
            " 1.82203822e+05 1.74516907e+05 1.67284123e+05 1.60471237e+05\n",
            " 1.54047134e+05 1.47983490e+05 1.42254475e+05 1.36836498e+05\n",
            " 1.31707983e+05 1.26849164e+05 1.22241910e+05 1.17869565e+05\n",
            " 1.13716812e+05 1.09769540e+05 1.06014741e+05 1.02440403e+05\n",
            " 9.90354221e+04 9.57895253e+04 9.26931940e+04 8.97376008e+04\n",
            " 8.69145506e+04 8.42164272e+04 8.16361459e+04 7.91671096e+04\n",
            " 7.68031697e+04 7.45385903e+04 7.23680157e+04 7.02864411e+04\n",
            " 6.82891850e+04 6.63718656e+04 6.45303777e+04 6.27608722e+04\n",
            " 6.10597376e+04 5.94235829e+04 5.78492213e+04 5.63336564e+04\n",
            " 5.48740682e+04 5.34678014e+04 5.21123540e+04 5.08053667e+04\n",
            " 4.95446136e+04 4.83279931e+04 4.71535201e+04 4.60193179e+04\n",
            " 4.49236118e+04 4.38647221e+04 4.28410586e+04 4.18511144e+04]\n",
            "[ 0.5         0.74747475  0.99494949  1.24242424  1.48989899  1.73737374\n",
            "  1.98484848  2.23232323  2.47979798  2.72727273  2.97474747  3.22222222\n",
            "  3.46969697  3.71717172  3.96464646  4.21212121  4.45959596  4.70707071\n",
            "  4.95454545  5.2020202   5.44949495  5.6969697   5.94444444  6.19191919\n",
            "  6.43939394  6.68686869  6.93434343  7.18181818  7.42929293  7.67676768\n",
            "  7.92424242  8.17171717  8.41919192  8.66666667  8.91414141  9.16161616\n",
            "  9.40909091  9.65656566  9.9040404  10.15151515 10.3989899  10.64646465\n",
            " 10.89393939 11.14141414 11.38888889 11.63636364 11.88383838 12.13131313\n",
            " 12.37878788 12.62626263 12.87373737 13.12121212 13.36868687 13.61616162\n",
            " 13.86363636 14.11111111 14.35858586 14.60606061 14.85353535 15.1010101\n",
            " 15.34848485 15.5959596  15.84343434 16.09090909 16.33838384 16.58585859\n",
            " 16.83333333 17.08080808 17.32828283 17.57575758 17.82323232 18.07070707\n",
            " 18.31818182 18.56565657 18.81313131 19.06060606 19.30808081 19.55555556\n",
            " 19.8030303  20.05050505 20.2979798  20.54545455 20.79292929 21.04040404\n",
            " 21.28787879 21.53535354 21.78282828 22.03030303 22.27777778 22.52525253\n",
            " 22.77272727 23.02020202 23.26767677 23.51515152 23.76262626 24.01010101\n",
            " 24.25757576 24.50505051 24.75252525 25.        ]\n"
          ]
        },
        {
          "output_type": "execute_result",
          "data": {
            "text/plain": [
              "'\\nN=[]\\nj=0\\nfor i in range(0,len(Stbrn)):\\n    j+=Stbrn[i]\\n    N.append(j)\\n     \\nprint(N)\\n\\nplt.plot(np.log(Tform), np.log(N))\\n'"
            ],
            "application/vnd.google.colaboratory.intrinsic+json": {
              "type": "string"
            }
          },
          "metadata": {},
          "execution_count": 17
        }
      ]
    },
    {
      "cell_type": "code",
      "source": [
        "# Finding the Luminosity evolution of the stars\n"
      ],
      "metadata": {
        "id": "mx8LX6Dg5EgP"
      },
      "execution_count": 4,
      "outputs": []
    },
    {
      "cell_type": "code",
      "source": [
        "# V magnitude and colour graphs\n",
        "\n",
        "# Creating arrays for the V magnitude/BV colour data\n",
        "MagMass = np.array([0.8, 1, 1.25, 2, 3, 5, 9, 15, 25])\n",
        "Vmag = np.array([6.5, 4.93, 4.2, 1, -0.5, -1.4, -3.7, -4.3, -5.2])\n",
        "BVmag = np.array([1.02, 0.69, 0.59, 0.1, -0.12, -0.18, -0.3, -0.32, -0.32])\n",
        "\n",
        "\n",
        "# "
      ],
      "metadata": {
        "id": "HU6b5x0oSg6r"
      },
      "execution_count": 5,
      "outputs": []
    }
  ]
}