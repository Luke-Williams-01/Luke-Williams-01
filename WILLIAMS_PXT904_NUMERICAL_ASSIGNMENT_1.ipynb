{
  "nbformat": 4,
  "nbformat_minor": 0,
  "metadata": {
    "colab": {
      "provenance": [],
      "include_colab_link": true
    },
    "kernelspec": {
      "name": "python3",
      "display_name": "Python 3"
    }
  },
  "cells": [
    {
      "cell_type": "markdown",
      "metadata": {
        "id": "view-in-github",
        "colab_type": "text"
      },
      "source": [
        "<a href=\"https://colab.research.google.com/github/Luke-Williams-01/Luke-Williams-01/blob/main/WILLIAMS_PXT904_NUMERICAL_ASSIGNMENT_1.ipynb\" target=\"_parent\"><img src=\"https://colab.research.google.com/assets/colab-badge.svg\" alt=\"Open In Colab\"/></a>"
      ]
    },
    {
      "cell_type": "markdown",
      "metadata": {
        "id": "cVNTGc5aVEC2"
      },
      "source": [
        "# Numerical assignment 1\n",
        "\n",
        "Work individually.\n",
        "\n",
        "## Instructions for submission\n",
        "\n",
        "To submit your work, save the notebook with the following filename:\n",
        "\n",
        "`LAST_NAME_PXT904_NUMERICAL_ASSIGNMENT_1.ipynb`"
      ]
    },
    {
      "cell_type": "markdown",
      "metadata": {
        "id": "0EAyE-1b50i8"
      },
      "source": [
        "# 1D Linear Elliptic Equation Solver\n",
        "\n",
        "The goal of this assignment is to lead you through the steps required to write and test a one-dimensional finite difference numerical solver for an elliptic equation.\n",
        "\n",
        "## Problem\n",
        "\n",
        "Consider the one-dimensional, linear, elliptic equation for the function $u(x)$,\n",
        "\n",
        "\\begin{equation}\n",
        "\\nabla^2 u(x) = s(x), \\tag{1}\n",
        "\\end{equation}\n",
        "\n",
        "defined on the interval $x \\in [0, 1]$, where the right-hand-side source function $s(x)$ is given by,\n",
        "\n",
        "\\begin{equation}\n",
        "s(x) = -e^x  (-2 + 2x + 5x^2 + x^3). \\tag{2}\n",
        "\\end{equation}\n",
        "\n",
        "We further specify Dirichlet boundary conditions for our solution:\n",
        "\n",
        "$$u(x=0) = 0,  \\\\\n",
        "u(x=1) = 0. $$\n",
        "\n",
        "In this assignment, you are asked to perform the following tasks:\n",
        "\n",
        "  - Write a code to solve Equation $(1)$ for the solution $u(x)$ using $2^{nd}$-order finite differences.\n",
        "\n",
        "  - Formulate the finite difference system as a matrix equation and solve it using the tri-diagonal method.\n",
        "\n",
        "  - Perform a convergence test to verify $2^{nd}$-order convergence.\n",
        "\n",
        "\n",
        "*Hint: only perform calulations on the interior of the computational domain, as described below.*\n",
        "\n",
        "For the problem posed above, there is an analytic solution to Equation $(1)$:\n",
        "\n",
        "\\begin{equation}\n",
        "u(x) = e^x x^2 ( 1-x )  \\tag{3}\n",
        "\\end{equation}\n",
        "\n",
        "We will use this analytic solution to check the accuracy of your code when performing the convergence tests."
      ]
    },
    {
      "cell_type": "markdown",
      "metadata": {
        "id": "desgZSSrCxpV"
      },
      "source": [
        "# Setting up the computational domain\n",
        "\n",
        "We discretise the $x$-axis ranging, from $x_{\\rm{min}} = 0$ to $x_{\\rm{max}} = 1$, into $N$ **grid cells**\n",
        "\n",
        "\n",
        "\\begin{equation}\n",
        "\\Delta x = \\frac{x_{\\rm{max}} - x_{\\rm{min}}}{N}.\n",
        "\\end{equation}\n",
        "\n",
        "From these $N$ **grid cells** we can choose the location of our **grid points**.\n",
        "They can either be located at the centre of these cells (*cell-centred* grid) or on the vertices (*vertex-centred* grid). For this assignment, we suggest that you use a vertex-centred grid. The locations of our discrete points $x_i$ will depend on the type of grid we choose.\n",
        "\n",
        "## Vertex-centred grid\n",
        "\n",
        "For a vertex-centred grid we define $N+1$ **grid points** which are specified by the following formula:\n",
        "\n",
        "\\begin{equation}\n",
        "x_i = x_{\\rm{min}} + (i - 1)\\Delta x \\quad {\\rm for \\,\\,\\,\\,}i = 1, ..., N+1.\n",
        "\\end{equation}\n",
        "\n",
        "Be aware that in Python, arrays are indexed starting with $i=0$ rather than $i=1$.\n",
        "## Computational Domain\n",
        "\n",
        "The two grid points $x_1=x_\\text{min}$ and $x_{N+1}=x_\\text{max}$ lie on the outer boundaries of the grid cell domain, specifying the computational region of interest. These points are refered to as *boundary points*. We will use these boundary points to implement the boundary conditions, *but they will not be included as part of our computational domain*.\n",
        "\n",
        "Strictly speaking, we will only be solving Equation $(1)$ on the interior of the grid cell region, for $x\\in[x_2,x_N]=(x_\\text{min},x_\\text{max})$. As we have removed two grid points to construct the computational domain, its size is $M=N-1$. This information will be re-iterated below.\n",
        "\n",
        "To summarise:\n",
        "  - We specify $N$ grid cells for our computation, each of width $\\Delta x$.\n",
        "  - Using a vertex-centred grid, we denote $N+1$ grid points surrounding the grid cells.\n",
        "  - Our solution is found over the computational domain of $M = N-1$ interior grid points."
      ]
    },
    {
      "cell_type": "markdown",
      "metadata": {
        "id": "_GR6gmHNPiyi"
      },
      "source": [
        "# Finite Difference\n",
        "\n",
        "The $2^{nd}$-order centred finite difference operator for a function $u(x)$ evaluated at a specific grid point $x_i$ is:\n",
        "\n",
        "\\begin{equation}\n",
        "\\nabla^2 u(x) |_{x=x_i} \\approx \\nabla^2 u_i = \\frac{ u_{i+1} - 2u_{i} + u_{i-1} }{\\Delta x^2} + \\mathcal{O}(\\Delta x^2), \\tag{5}\n",
        "\\end{equation}\n",
        "\n",
        "where we have introduced $u_i = u(x_i)$. This equation will give us the second derivative at each grid point $x_i$, and we may therefore express Equation $(1)$ as a system of linear equations running through the $i=1, ..., N+1$ grid points,\n",
        "\n",
        "\\begin{array}\n",
        "\\;u_{2} - 2u_{1} + u_{0}&= \\Delta x^2 s_1,\\\\\n",
        "u_{3} - 2u_{2} + u_{1} &= \\Delta x^2 s_2,\\\\\n",
        "\\vdots &\\vdots  \\\\\n",
        "u_{N+1} - 2u_{N} + u_{N-1}  &= \\Delta x^2 s_{N},\\\\\n",
        "u_{N+2} - 2u_{N+1} + u_{N}  &= \\Delta x^2 s_{N+1},\n",
        "\\end{array}\n",
        "\n",
        "with $s_i = s(x_i)$. **Note** that naively, some of these equations include values of the solution outside of our established grid boundaries! (Specifically those corresponding to the source evaluated at the boundary points $i=1$ and $i=N+1$.) We handle this by restricting our domain of interest to only those vertex grid points within the strict interior of our domain of interest, which we call the *computational domain* $[x_2,x_{N}] \\subset [x_\\text{min},x_\\text{max}]$, and we will specify \"by hand\" the behaviour of $u_1$ and $u_{N+1}$ at the boundaries using our **boundary conditions**. \n",
        "\n",
        "The series of equations strictly for $1<i<N+1$ may be written compactly as a vector equation,\n",
        "\n",
        "\\begin{equation}\n",
        "\\mathbf{A}\\vec{u} = \\vec{s},  \\tag{4}\n",
        "\\end{equation}\n",
        "\n",
        "where the components of the vectors $\\vec{u}$ and $\\vec{s}$ are just the elements $u_i$ and $s_i$, respectively,\n",
        "\n",
        "$$\\vec{u}=(u_2,u_3,...,u_N)^\\text{T},\\\\ \n",
        " \\vec{s}=(s_2,s_3,...,s_N)^\\text{T},$$\n",
        "\n",
        "and the matrix $\\mathbf{A}$ is of *tri-diagonal* form, meaning that the only non-zero components of $\\mathbf{A}$ are the diagonal and immediately off-diagonal terms.\n",
        "\n",
        "Solving for the solution $\\vec{u}$ at every point is then equivalent to inverting the matrix $\\mathbf{A}$,\n",
        "\n",
        "\\begin{equation}\n",
        "\\vec{u} = \\mathbf{A}^{-1}\\vec{s}.  \\tag{5}\n",
        "\\end{equation}\n",
        "\n",
        "Given the form of $\\mathbf{A}$, we recommend using the *tri-diganonal method* to solve for its inverse. Directly inverting the $A$ matrix can be problematic if not handled properly, as the size of the matrix grows as $N^2$. The tri-diagonal method uses Gaussian elimination and back-substitution to efficiently solve our problem.\n",
        "\n",
        "To summarise:\n",
        "\n",
        "  - The $\\mathbf{A}$ matrix is the finite difference discretisation of the $2^{nd}$-order differential oporator.\n",
        "\n",
        "  - $\\vec{u}$ is the solution vector and $\\vec{s}$ is the right-hand-side source vector.\n",
        "\n",
        "  - Use the tri-diagonal method that was discussed in lectures to solve for $u$ given Equation $(5)$.\n",
        "\n",
        "\n",
        "# Boundary Conditions\n",
        "\n",
        "As discussed above, we cannot evaluate the finite-difference derivative at all points in our domain $[x_\\text{min},x_\\text{max}]$, as this will require information about our function outside of this range of values. Instead, we restrict ourselves to the computational domain $[x_2,x_{N}]$. Let us consider the two equations for the points $u_2$ and $u_N$ at the boundaries of this computational domain,\n",
        "\n",
        "\\begin{array}\n",
        "\\;u_{3} - 2u_{2} + u_{1} &= \\Delta x^2 s_2,\\\\\n",
        "u_{N+1} - 2u_{N} + u_{N-1}  &= \\Delta x^2 s_{N}.\n",
        "\\end{array}\n",
        "\n",
        "These equations are well-defined, in the sense that they don't require information outside of our domain, e.g. $u_0$ or $u_{N+2}$, but as of yet we have no way to actually solve them since they depend on the boundary values of the solution, $u_1$ and $u_{N+1}$.\n",
        "\n",
        "This is where we must implement the additional knowledge given to solve Equation $(1)$ in the form of the **boundary conditions**, specified earlier to be the Dirichlet boundary conditions,\n",
        "\n",
        "$$u(x=x_\\text{min}) = 0,  \\\\\n",
        "u(x=x_\\text{max}) = 0. $$\n",
        "\n",
        "What do these conditions imply for the above equations? Use this knowledge to implement the Dirichlet boundary conditions into our finite difference scheme; depending on the type of boundary conditions applied, this may affect the first and last rows of the finite difference matrix $\\mathbf{A}$!\n"
      ]
    },
    {
      "cell_type": "markdown",
      "metadata": {
        "id": "nv0DKrQK-IK8"
      },
      "source": [
        "# Your code Here\n",
        "\n",
        "We have provided you a basic outline of the code to help you along with structuring your code. When you are ready to run and test each function, be sure to delete the code\n",
        "\n",
        "```python\n",
        "raise NotImplementedError\n",
        "```\n",
        "otherwise the function will produce an error."
      ]
    },
    {
      "cell_type": "markdown",
      "metadata": {
        "id": "S3dAYTaV_x_N"
      },
      "source": [
        "# Import Packages\n",
        "\n",
        "You should only need numpy and matplotlib"
      ]
    },
    {
      "cell_type": "code",
      "metadata": {
        "id": "IAUefw7wEaMb"
      },
      "source": [
        "import numpy as np\n",
        "import matplotlib\n",
        "import matplotlib.pyplot as plt\n",
        "\n",
        "# Set the default font size to something a little bigger\n",
        "matplotlib.rcParams.update({\"font.size\": 18})"
      ],
      "execution_count": null,
      "outputs": []
    },
    {
      "cell_type": "markdown",
      "metadata": {
        "id": "uEW2kcq7ASa-"
      },
      "source": [
        "# Analytic solution function"
      ]
    },
    {
      "cell_type": "code",
      "metadata": {
        "id": "kEMxzN8_ASBc"
      },
      "source": [
        "def analytic_solution(x):\n",
        "    \"\"\"\n",
        "    analytic solution i.e., equation 3\n",
        "\n",
        "    Input:\n",
        "        x: array. the computational domain\n",
        "    \n",
        "    Returns:\n",
        "        array, the analytic solution\n",
        "    \"\"\"\n",
        "    return (np.e**x) * (x**2) * (1-x)"
      ],
      "execution_count": null,
      "outputs": []
    },
    {
      "cell_type": "markdown",
      "metadata": {
        "id": "1JYR6SHAAQOG"
      },
      "source": [
        "# Source term function"
      ]
    },
    {
      "cell_type": "code",
      "metadata": {
        "id": "ZSfpEzV_-8S2"
      },
      "source": [
        "def RHS(x):\n",
        "    \"\"\"\n",
        "    RHS is short for right hand side.\n",
        "    function that evaluates the right hand side of equation 1 i.e. equation 2.\n",
        "    This is the source term.\n",
        "\n",
        "    Input:\n",
        "        x: array. the computational domain\n",
        "    \n",
        "    Returns:\n",
        "        array, the right hand side of equation 1.\n",
        "    \"\"\"\n",
        "    return -np.e**x * (-2 + 2*x + 5*(x**2) + x**3)"
      ],
      "execution_count": null,
      "outputs": []
    },
    {
      "cell_type": "markdown",
      "metadata": {
        "id": "mFF3unWHAZoY"
      },
      "source": [
        "# Computational domain function"
      ]
    },
    {
      "cell_type": "code",
      "metadata": {
        "id": "lX1yPUNl3BZ2"
      },
      "source": [
        "def get_vertex_centred_computational_domain(N_grid_cells, x_min=0., x_max=1.):\n",
        "    \"\"\"\n",
        "    Inputs:\n",
        "        N_grid_cells: int. Number of grid cells\n",
        "        x_min: float (default:0.) start value of of domain\n",
        "        x_max: float (default:1.) end value of of domain\n",
        "\n",
        "    Returns:\n",
        "        x: array, the computational domain\n",
        "\n",
        "    Hint: remember that the computational domain doesn't actually include the\n",
        "        points x_min and x_max in the vertex-centred grid. How many points lie\n",
        "        in the computational domain compared to the number of grid cells or\n",
        "        total grid points?\n",
        "    \"\"\"\n",
        "    h = (x_max - x_min) / N_grid_cells\n",
        "    x = np.arange(x_min + h, x_max, h)\n",
        "    return x"
      ],
      "execution_count": null,
      "outputs": []
    },
    {
      "cell_type": "markdown",
      "metadata": {
        "id": "SNc-PTaP7S7u"
      },
      "source": [
        "## Solver Functions"
      ]
    },
    {
      "cell_type": "code",
      "metadata": {
        "id": "P-tuGIDuB2Lf"
      },
      "source": [
        "def gaussian_elimination(M, a, b, c, d):\n",
        "    \"\"\"\n",
        "    function to perform Gaussian elimination and\n",
        "    back substitution.\n",
        "\n",
        "    given the equation Au = d\n",
        "    solve for u assuming A is a tridiagonal matrix\n",
        "\n",
        "    Inputs:\n",
        "        M: int, number of grid points in computational domain\n",
        "        a: array, lower diagonal of A\n",
        "        b: array, main (middle) diagonal of A\n",
        "        c: array, upper diagonal of A\n",
        "        d: array, source term evaluated on the computational domain\n",
        "\n",
        "    Returns\n",
        "        u: array, the solution on the computational domain\n",
        "    \"\"\"\n",
        "    # Gaussian elimination\n",
        "    # Starts at 1, and loops over the computational domain M\n",
        "    for i in range(1, M):\n",
        "      # Weighting the arrays of the components of our tridiagonal matrix\n",
        "      w = a[i-1] / b[i-1]\n",
        "      b[i] = b[i] - w * c[i-1]\n",
        "      d[i] = d[i] - w * d[i-1]\n",
        "\n",
        "    # Back substitution\n",
        "    u = d / b\n",
        "    for i in range(M - 2, -1, -1):\n",
        "      u[i] = (d[i]- c[i] * u[i + 1]) / b[i]\n",
        "\n",
        "    return u"
      ],
      "execution_count": null,
      "outputs": []
    },
    {
      "cell_type": "code",
      "metadata": {
        "id": "B0qj68pCFp7I"
      },
      "source": [
        "def setup_tridiagonal_A_matrix(M, h):\n",
        "    \"\"\"\n",
        "    This function sets up the tridiagonal matrix.\n",
        "\n",
        "    Implement this by making an array for each of the elements\n",
        "    of the tridiagonal matrix\n",
        "\n",
        "    Be sure to specify the boundary conditions, which may affect\n",
        "    the first and last rows of A\n",
        "\n",
        "    Let:\n",
        "        `a` be the lower diagonal\n",
        "        `b` be the middle diagonal\n",
        "        `c` be the upper diagonal\n",
        "\n",
        "    Inputs:\n",
        "        M: int, number of grid points in computational domain\n",
        "        h: float, grid resolution (distance between points)\n",
        "\n",
        "    Returns:\n",
        "        a: array, lower diagonal of A\n",
        "        b: array, main (middle) diagonal of A\n",
        "        c: array, upper diagonal of A\n",
        "    \"\"\"\n",
        "    # 1/h**2\n",
        "    anti_h = 1/(h**2)\n",
        "    # Lower diagonal\n",
        "    a = np.ones(M) * anti_h\n",
        "    # Main (middle) diagonal of A\n",
        "    b = (np.ones(M) * -2) * anti_h\n",
        "    # Upper diagonal \n",
        "    c = np.ones(M) * anti_h\n",
        "\n",
        "    # Adding boundary conditions for a and c\n",
        "    a[0] = 0\n",
        "    c[-1] = 0\n",
        "\n",
        "    return (a, b, c)"
      ],
      "execution_count": null,
      "outputs": []
    },
    {
      "cell_type": "code",
      "metadata": {
        "id": "V3qj9nuHAr5j"
      },
      "source": [
        "def tridiagonal_solver(x, M, h):\n",
        "    \"\"\"\n",
        "    This function calls the\n",
        "\n",
        "        setup_tridiagonal_A_matrix() function\n",
        "    \n",
        "    evaluates the\n",
        "\n",
        "        RHS() function\n",
        "\n",
        "    feeds them into the \n",
        "\n",
        "        gaussian_elimination() function\n",
        "\n",
        "    and finally returns the solution array `u`.\n",
        "\n",
        "    Inputs:\n",
        "        x: array, the computational domain\n",
        "        M: int, number of grid points in computational domain\n",
        "        h: float, grid resolution (distance between points)\n",
        "    \n",
        "    Returns:\n",
        "        u: array, the solution on the computational domain\n",
        "    \"\"\"\n",
        "    a, b, c = setup_tridiagonal_A_matrix(M, h)\n",
        "    d = RHS(x)\n",
        "    u = gaussian_elimination(M, a, b, c, d)\n",
        "    return u"
      ],
      "execution_count": null,
      "outputs": []
    },
    {
      "cell_type": "code",
      "metadata": {
        "id": "RuuJz8Ik-8L-"
      },
      "source": [
        "def solver(N):\n",
        "    \"\"\"\n",
        "    This is the main solver function.\n",
        "    \n",
        "    Given the number of grid cells (`N`) it will compute the numerical solution\n",
        "    using the tridiagonal solver and will return the numerical solution (`u`)\n",
        "\n",
        "    Hint: In this function simply compute everything needed to call the\n",
        "    `tridiagonal_solver()` function.\n",
        "\n",
        "\n",
        "    Input:\n",
        "    N: int, number of grid cells\n",
        "\n",
        "    Returns:\n",
        "        u: array, the numerical solution on the computational domain\n",
        "            Hint: even though there are `N` grid cells, the length\n",
        "            of the `u` array will be `M = N - 1` because\n",
        "            the vertex-centred grid will not actually contain the points\n",
        "            x=0 and x=1 in the computational domain as these are\n",
        "            fixed by the boundary conditions.\n",
        "        \n",
        "    \"\"\"\n",
        "    x = get_vertex_centred_computational_domain(N)\n",
        "    h = x[1] - x[0]\n",
        "    u = tridiagonal_solver(x, N-1, h)\n",
        "\n",
        "    return u"
      ],
      "execution_count": null,
      "outputs": []
    },
    {
      "cell_type": "code",
      "source": [
        "# Defining our variables\n",
        "N = 101 # number of grid cells\n",
        "\n",
        "x = np.linspace(0, 1, 100)\n",
        "\n",
        "# Calling the functions to solve our analytical solution\n",
        "u_analytical = analytic_solution(x)\n",
        "\n",
        "# Calling the functions to solve our numerical solution\n",
        "u_numerical  = solver(N)\n",
        "\n",
        "# Plotting our analytical and numerical solutions to the elliptic equation\n",
        "plt.figure(figsize = (14, 9))\n",
        "# Analytical solution\n",
        "plt.plot(x, u_analytical)\n",
        "# Numerical solution\n",
        "plt.plot(x, u_numerical);"
      ],
      "metadata": {
        "colab": {
          "base_uri": "https://localhost:8080/",
          "height": 545
        },
        "id": "PN6odcjagTFA",
        "outputId": "8ab90efc-67dd-4daa-f93f-9dbf798ccd76"
      },
      "execution_count": null,
      "outputs": [
        {
          "output_type": "display_data",
          "data": {
            "text/plain": [
              "<Figure size 1008x648 with 1 Axes>"
            ],
            "image/png": "[encoded data removed]"
          },
          "metadata": {
            "needs_background": "light"
          }
        }
      ]
    },
    {
      "cell_type": "code",
      "source": [],
      "metadata": {
        "id": "HFoe4ZeAr3FF"
      },
      "execution_count": null,
      "outputs": []
    }
  ]
}